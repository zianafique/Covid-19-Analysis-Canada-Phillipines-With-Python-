{
 "cells": [
  {
   "cell_type": "code",
   "execution_count": null,
   "metadata": {
    "colab": {
     "base_uri": "https://localhost:8080/",
     "height": 1000
    },
    "id": "xzFfvdEsM4q8",
    "outputId": "ad373459-4514-47c0-ea93-26fab7721740"
   },
   "outputs": [
    {
     "name": "stdout",
     "output_type": "stream",
     "text": [
      "spark-3.0.0-bin-hadoop2.7/\n",
      "spark-3.0.0-bin-hadoop2.7/NOTICE\n",
      "spark-3.0.0-bin-hadoop2.7/kubernetes/\n",
      "spark-3.0.0-bin-hadoop2.7/kubernetes/tests/\n",
      "spark-3.0.0-bin-hadoop2.7/kubernetes/tests/worker_memory_check.py\n",
      "spark-3.0.0-bin-hadoop2.7/kubernetes/tests/py_container_checks.py\n",
      "spark-3.0.0-bin-hadoop2.7/kubernetes/tests/pyfiles.py\n",
      "spark-3.0.0-bin-hadoop2.7/kubernetes/dockerfiles/\n",
      "spark-3.0.0-bin-hadoop2.7/kubernetes/dockerfiles/spark/\n",
      "spark-3.0.0-bin-hadoop2.7/kubernetes/dockerfiles/spark/entrypoint.sh\n",
      "spark-3.0.0-bin-hadoop2.7/kubernetes/dockerfiles/spark/bindings/\n",
      "spark-3.0.0-bin-hadoop2.7/kubernetes/dockerfiles/spark/bindings/R/\n",
      "spark-3.0.0-bin-hadoop2.7/kubernetes/dockerfiles/spark/bindings/R/Dockerfile\n",
      "spark-3.0.0-bin-hadoop2.7/kubernetes/dockerfiles/spark/bindings/python/\n",
      "spark-3.0.0-bin-hadoop2.7/kubernetes/dockerfiles/spark/bindings/python/Dockerfile\n",
      "spark-3.0.0-bin-hadoop2.7/kubernetes/dockerfiles/spark/Dockerfile\n",
      "spark-3.0.0-bin-hadoop2.7/jars/\n",
      "spark-3.0.0-bin-hadoop2.7/jars/jackson-xc-1.9.13.jar\n",
      "spark-3.0.0-bin-hadoop2.7/jars/commons-digester-1.8.jar\n",
      "spark-3.0.0-bin-hadoop2.7/jars/api-util-1.0.0-M20.jar\n",
      "spark-3.0.0-bin-hadoop2.7/jars/hive-vector-code-gen-2.3.7.jar\n",
      "spark-3.0.0-bin-hadoop2.7/jars/derby-10.12.1.1.jar\n",
      "spark-3.0.0-bin-hadoop2.7/jars/commons-beanutils-1.9.4.jar\n",
      "spark-3.0.0-bin-hadoop2.7/jars/httpcore-4.4.12.jar\n",
      "spark-3.0.0-bin-hadoop2.7/jars/hadoop-yarn-api-2.7.4.jar\n",
      "spark-3.0.0-bin-hadoop2.7/jars/scala-library-2.12.10.jar\n",
      "spark-3.0.0-bin-hadoop2.7/jars/parquet-format-2.4.0.jar\n",
      "spark-3.0.0-bin-hadoop2.7/jars/kryo-shaded-4.0.2.jar\n",
      "spark-3.0.0-bin-hadoop2.7/jars/xercesImpl-2.12.0.jar\n",
      "spark-3.0.0-bin-hadoop2.7/jars/commons-logging-1.1.3.jar\n",
      "spark-3.0.0-bin-hadoop2.7/jars/okio-1.15.0.jar\n",
      "spark-3.0.0-bin-hadoop2.7/jars/commons-compiler-3.0.16.jar\n",
      "spark-3.0.0-bin-hadoop2.7/jars/jdo-api-3.0.1.jar\n",
      "spark-3.0.0-bin-hadoop2.7/jars/spire-macros_2.12-0.17.0-M1.jar\n",
      "spark-3.0.0-bin-hadoop2.7/jars/arrow-memory-0.15.1.jar\n",
      "spark-3.0.0-bin-hadoop2.7/jars/JLargeArrays-1.5.jar\n",
      "spark-3.0.0-bin-hadoop2.7/jars/jsp-api-2.1.jar\n",
      "spark-3.0.0-bin-hadoop2.7/jars/logging-interceptor-3.12.6.jar\n",
      "spark-3.0.0-bin-hadoop2.7/jars/javax.servlet-api-3.1.0.jar\n",
      "spark-3.0.0-bin-hadoop2.7/jars/jcl-over-slf4j-1.7.30.jar\n",
      "spark-3.0.0-bin-hadoop2.7/jars/hive-cli-2.3.7.jar\n",
      "spark-3.0.0-bin-hadoop2.7/jars/apacheds-i18n-2.0.0-M15.jar\n",
      "spark-3.0.0-bin-hadoop2.7/jars/parquet-common-1.10.1.jar\n",
      "spark-3.0.0-bin-hadoop2.7/jars/stax-api-1.0.1.jar\n",
      "spark-3.0.0-bin-hadoop2.7/jars/jackson-dataformat-yaml-2.10.0.jar\n",
      "spark-3.0.0-bin-hadoop2.7/jars/algebra_2.12-2.0.0-M2.jar\n",
      "spark-3.0.0-bin-hadoop2.7/jars/spark-catalyst_2.12-3.0.0.jar\n",
      "spark-3.0.0-bin-hadoop2.7/jars/hadoop-annotations-2.7.4.jar\n",
      "spark-3.0.0-bin-hadoop2.7/jars/guice-servlet-3.0.jar\n",
      "spark-3.0.0-bin-hadoop2.7/jars/kubernetes-client-4.9.2.jar\n",
      "spark-3.0.0-bin-hadoop2.7/jars/spire-util_2.12-0.17.0-M1.jar\n",
      "spark-3.0.0-bin-hadoop2.7/jars/jakarta.activation-api-1.2.1.jar\n",
      "spark-3.0.0-bin-hadoop2.7/jars/spark-kubernetes_2.12-3.0.0.jar\n",
      "spark-3.0.0-bin-hadoop2.7/jars/jline-2.14.6.jar\n",
      "spark-3.0.0-bin-hadoop2.7/jars/breeze_2.12-1.0.jar\n",
      "spark-3.0.0-bin-hadoop2.7/jars/metrics-jvm-4.1.1.jar\n",
      "spark-3.0.0-bin-hadoop2.7/jars/dropwizard-metrics-hadoop-metrics2-reporter-0.1.2.jar\n",
      "spark-3.0.0-bin-hadoop2.7/jars/machinist_2.12-0.6.8.jar\n",
      "spark-3.0.0-bin-hadoop2.7/jars/scala-compiler-2.12.10.jar\n",
      "spark-3.0.0-bin-hadoop2.7/jars/commons-pool-1.5.4.jar\n",
      "spark-3.0.0-bin-hadoop2.7/jars/arrow-format-0.15.1.jar\n",
      "spark-3.0.0-bin-hadoop2.7/jars/spark-kvstore_2.12-3.0.0.jar\n",
      "spark-3.0.0-bin-hadoop2.7/jars/jta-1.1.jar\n",
      "spark-3.0.0-bin-hadoop2.7/jars/istack-commons-runtime-3.0.8.jar\n",
      "spark-3.0.0-bin-hadoop2.7/jars/metrics-graphite-4.1.1.jar\n",
      "spark-3.0.0-bin-hadoop2.7/jars/hadoop-hdfs-2.7.4.jar\n",
      "spark-3.0.0-bin-hadoop2.7/jars/commons-collections-3.2.2.jar\n",
      "spark-3.0.0-bin-hadoop2.7/jars/audience-annotations-0.5.0.jar\n",
      "spark-3.0.0-bin-hadoop2.7/jars/jpam-1.1.jar\n",
      "spark-3.0.0-bin-hadoop2.7/jars/jakarta.annotation-api-1.3.5.jar\n",
      "spark-3.0.0-bin-hadoop2.7/jars/spark-sql_2.12-3.0.0.jar\n",
      "spark-3.0.0-bin-hadoop2.7/jars/xmlenc-0.52.jar\n",
      "spark-3.0.0-bin-hadoop2.7/jars/api-asn1-api-1.0.0-M20.jar\n",
      "spark-3.0.0-bin-hadoop2.7/jars/py4j-0.10.9.jar\n",
      "spark-3.0.0-bin-hadoop2.7/jars/hadoop-mapreduce-client-common-2.7.4.jar\n",
      "spark-3.0.0-bin-hadoop2.7/jars/spire-platform_2.12-0.17.0-M1.jar\n",
      "spark-3.0.0-bin-hadoop2.7/jars/avro-1.8.2.jar\n",
      "spark-3.0.0-bin-hadoop2.7/jars/curator-client-2.7.1.jar\n",
      "spark-3.0.0-bin-hadoop2.7/jars/antlr4-runtime-4.7.1.jar\n",
      "spark-3.0.0-bin-hadoop2.7/jars/javax.inject-1.jar\n",
      "spark-3.0.0-bin-hadoop2.7/jars/jersey-media-jaxb-2.30.jar\n",
      "spark-3.0.0-bin-hadoop2.7/jars/commons-lang3-3.9.jar\n",
      "spark-3.0.0-bin-hadoop2.7/jars/univocity-parsers-2.8.3.jar\n",
      "spark-3.0.0-bin-hadoop2.7/jars/javax.jdo-3.2.0-m3.jar\n",
      "spark-3.0.0-bin-hadoop2.7/jars/hadoop-auth-2.7.4.jar\n",
      "spark-3.0.0-bin-hadoop2.7/jars/commons-io-2.4.jar\n",
      "spark-3.0.0-bin-hadoop2.7/jars/spark-tags_2.12-3.0.0.jar\n",
      "spark-3.0.0-bin-hadoop2.7/jars/objenesis-2.5.1.jar\n",
      "spark-3.0.0-bin-hadoop2.7/jars/paranamer-2.8.jar\n",
      "spark-3.0.0-bin-hadoop2.7/jars/cats-kernel_2.12-2.0.0-M4.jar\n",
      "spark-3.0.0-bin-hadoop2.7/jars/flatbuffers-java-1.9.0.jar\n",
      "spark-3.0.0-bin-hadoop2.7/jars/jersey-server-2.30.jar\n",
      "spark-3.0.0-bin-hadoop2.7/jars/stream-2.9.6.jar\n",
      "spark-3.0.0-bin-hadoop2.7/jars/datanucleus-api-jdo-4.2.4.jar\n",
      "spark-3.0.0-bin-hadoop2.7/jars/gson-2.2.4.jar\n",
      "spark-3.0.0-bin-hadoop2.7/jars/xml-apis-1.4.01.jar\n",
      "spark-3.0.0-bin-hadoop2.7/jars/apacheds-kerberos-codec-2.0.0-M15.jar\n",
      "spark-3.0.0-bin-hadoop2.7/jars/hadoop-mapreduce-client-shuffle-2.7.4.jar\n",
      "spark-3.0.0-bin-hadoop2.7/jars/hive-jdbc-2.3.7.jar\n",
      "spark-3.0.0-bin-hadoop2.7/jars/spark-hive_2.12-3.0.0.jar\n",
      "spark-3.0.0-bin-hadoop2.7/jars/hive-exec-2.3.7-core.jar\n",
      "spark-3.0.0-bin-hadoop2.7/jars/spark-network-common_2.12-3.0.0.jar\n",
      "spark-3.0.0-bin-hadoop2.7/jars/opencsv-2.3.jar\n",
      "spark-3.0.0-bin-hadoop2.7/jars/avro-mapred-1.8.2-hadoop2.jar\n",
      "spark-3.0.0-bin-hadoop2.7/jars/jsr305-3.0.0.jar\n",
      "spark-3.0.0-bin-hadoop2.7/jars/macro-compat_2.12-1.1.1.jar\n",
      "spark-3.0.0-bin-hadoop2.7/jars/spark-mesos_2.12-3.0.0.jar\n",
      "spark-3.0.0-bin-hadoop2.7/jars/commons-dbcp-1.4.jar\n",
      "spark-3.0.0-bin-hadoop2.7/jars/jersey-container-servlet-core-2.30.jar\n",
      "spark-3.0.0-bin-hadoop2.7/jars/orc-core-1.5.10.jar\n",
      "spark-3.0.0-bin-hadoop2.7/jars/hk2-api-2.6.1.jar\n",
      "spark-3.0.0-bin-hadoop2.7/jars/parquet-jackson-1.10.1.jar\n",
      "spark-3.0.0-bin-hadoop2.7/jars/mesos-1.4.0-shaded-protobuf.jar\n",
      "spark-3.0.0-bin-hadoop2.7/jars/spark-streaming_2.12-3.0.0.jar\n",
      "spark-3.0.0-bin-hadoop2.7/jars/chill-java-0.9.5.jar\n",
      "spark-3.0.0-bin-hadoop2.7/jars/automaton-1.11-8.jar\n",
      "spark-3.0.0-bin-hadoop2.7/jars/commons-lang-2.6.jar\n",
      "spark-3.0.0-bin-hadoop2.7/jars/jackson-annotations-2.10.0.jar\n",
      "spark-3.0.0-bin-hadoop2.7/jars/hk2-utils-2.6.1.jar\n",
      "spark-3.0.0-bin-hadoop2.7/jars/velocity-1.5.jar\n",
      "spark-3.0.0-bin-hadoop2.7/jars/htrace-core-3.1.0-incubating.jar\n",
      "spark-3.0.0-bin-hadoop2.7/jars/jul-to-slf4j-1.7.30.jar\n",
      "spark-3.0.0-bin-hadoop2.7/jars/JTransforms-3.1.jar\n",
      "spark-3.0.0-bin-hadoop2.7/jars/json4s-ast_2.12-3.6.6.jar\n",
      "spark-3.0.0-bin-hadoop2.7/jars/jersey-client-2.30.jar\n",
      "spark-3.0.0-bin-hadoop2.7/jars/httpclient-4.5.6.jar\n",
      "spark-3.0.0-bin-hadoop2.7/jars/spark-hive-thriftserver_2.12-3.0.0.jar\n",
      "spark-3.0.0-bin-hadoop2.7/jars/jetty-sslengine-6.1.26.jar\n",
      "spark-3.0.0-bin-hadoop2.7/jars/spark-graphx_2.12-3.0.0.jar\n",
      "spark-3.0.0-bin-hadoop2.7/jars/spark-yarn_2.12-3.0.0.jar\n",
      "spark-3.0.0-bin-hadoop2.7/jars/spire_2.12-0.17.0-M1.jar\n",
      "spark-3.0.0-bin-hadoop2.7/jars/jersey-hk2-2.30.jar\n",
      "spark-3.0.0-bin-hadoop2.7/jars/commons-math3-3.4.1.jar\n",
      "spark-3.0.0-bin-hadoop2.7/jars/xbean-asm7-shaded-4.15.jar\n",
      "spark-3.0.0-bin-hadoop2.7/jars/jakarta.validation-api-2.0.2.jar\n",
      "spark-3.0.0-bin-hadoop2.7/jars/parquet-encoding-1.10.1.jar\n",
      "spark-3.0.0-bin-hadoop2.7/jars/slf4j-log4j12-1.7.30.jar\n",
      "spark-3.0.0-bin-hadoop2.7/jars/hadoop-mapreduce-client-app-2.7.4.jar\n",
      "spark-3.0.0-bin-hadoop2.7/jars/spark-mllib_2.12-3.0.0.jar\n",
      "spark-3.0.0-bin-hadoop2.7/jars/zstd-jni-1.4.4-3.jar\n",
      "spark-3.0.0-bin-hadoop2.7/jars/slf4j-api-1.7.30.jar\n",
      "spark-3.0.0-bin-hadoop2.7/jars/commons-compress-1.8.1.jar\n",
      "spark-3.0.0-bin-hadoop2.7/jars/spark-repl_2.12-3.0.0.jar\n",
      "spark-3.0.0-bin-hadoop2.7/jars/hive-shims-0.23-2.3.7.jar\n",
      "spark-3.0.0-bin-hadoop2.7/jars/guava-14.0.1.jar\n",
      "spark-3.0.0-bin-hadoop2.7/jars/stax-api-1.0-2.jar\n",
      "spark-3.0.0-bin-hadoop2.7/jars/zjsonpatch-0.3.0.jar\n",
      "spark-3.0.0-bin-hadoop2.7/jars/hive-storage-api-2.7.1.jar\n",
      "spark-3.0.0-bin-hadoop2.7/jars/shapeless_2.12-2.3.3.jar\n",
      "spark-3.0.0-bin-hadoop2.7/jars/kubernetes-model-common-4.9.2.jar\n",
      "spark-3.0.0-bin-hadoop2.7/jars/oro-2.0.8.jar\n",
      "spark-3.0.0-bin-hadoop2.7/jars/hadoop-yarn-client-2.7.4.jar\n",
      "spark-3.0.0-bin-hadoop2.7/jars/libfb303-0.9.3.jar\n",
      "spark-3.0.0-bin-hadoop2.7/jars/core-1.1.2.jar\n",
      "spark-3.0.0-bin-hadoop2.7/jars/jersey-container-servlet-2.30.jar\n",
      "spark-3.0.0-bin-hadoop2.7/jars/datanucleus-rdbms-4.1.19.jar\n",
      "spark-3.0.0-bin-hadoop2.7/jars/super-csv-2.2.0.jar\n",
      "spark-3.0.0-bin-hadoop2.7/jars/compress-lzf-1.0.3.jar\n",
      "spark-3.0.0-bin-hadoop2.7/jars/commons-crypto-1.0.0.jar\n",
      "spark-3.0.0-bin-hadoop2.7/jars/jackson-module-paranamer-2.10.0.jar\n",
      "spark-3.0.0-bin-hadoop2.7/jars/aopalliance-1.0.jar\n",
      "spark-3.0.0-bin-hadoop2.7/jars/osgi-resource-locator-1.0.3.jar\n",
      "spark-3.0.0-bin-hadoop2.7/jars/spark-unsafe_2.12-3.0.0.jar\n",
      "spark-3.0.0-bin-hadoop2.7/jars/jackson-module-scala_2.12-2.10.0.jar\n",
      "spark-3.0.0-bin-hadoop2.7/jars/hive-shims-2.3.7.jar\n",
      "spark-3.0.0-bin-hadoop2.7/jars/hadoop-yarn-server-common-2.7.4.jar\n",
      "spark-3.0.0-bin-hadoop2.7/jars/json-1.8.jar\n",
      "spark-3.0.0-bin-hadoop2.7/jars/antlr-runtime-3.5.2.jar\n",
      "spark-3.0.0-bin-hadoop2.7/jars/threeten-extra-1.5.0.jar\n",
      "spark-3.0.0-bin-hadoop2.7/jars/jetty-6.1.26.jar\n",
      "spark-3.0.0-bin-hadoop2.7/jars/jackson-module-jaxb-annotations-2.10.0.jar\n",
      "spark-3.0.0-bin-hadoop2.7/jars/jersey-common-2.30.jar\n",
      "spark-3.0.0-bin-hadoop2.7/jars/aircompressor-0.10.jar\n",
      "spark-3.0.0-bin-hadoop2.7/jars/lz4-java-1.7.1.jar\n",
      "spark-3.0.0-bin-hadoop2.7/jars/hadoop-client-2.7.4.jar\n",
      "spark-3.0.0-bin-hadoop2.7/jars/activation-1.1.1.jar\n",
      "spark-3.0.0-bin-hadoop2.7/jars/shims-0.7.45.jar\n",
      "spark-3.0.0-bin-hadoop2.7/jars/libthrift-0.12.0.jar\n",
      "spark-3.0.0-bin-hadoop2.7/jars/orc-mapreduce-1.5.10.jar\n",
      "spark-3.0.0-bin-hadoop2.7/jars/HikariCP-2.5.1.jar\n",
      "spark-3.0.0-bin-hadoop2.7/jars/generex-1.0.2.jar\n",
      "spark-3.0.0-bin-hadoop2.7/jars/okhttp-3.12.6.jar\n",
      "spark-3.0.0-bin-hadoop2.7/jars/snappy-java-1.1.7.5.jar\n",
      "spark-3.0.0-bin-hadoop2.7/jars/breeze-macros_2.12-1.0.jar\n",
      "spark-3.0.0-bin-hadoop2.7/jars/leveldbjni-all-1.8.jar\n",
      "spark-3.0.0-bin-hadoop2.7/jars/jaxb-runtime-2.3.2.jar\n",
      "spark-3.0.0-bin-hadoop2.7/jars/commons-httpclient-3.1.jar\n",
      "spark-3.0.0-bin-hadoop2.7/jars/jackson-core-asl-1.9.13.jar\n",
      "spark-3.0.0-bin-hadoop2.7/jars/scala-xml_2.12-1.2.0.jar\n",
      "spark-3.0.0-bin-hadoop2.7/jars/hk2-locator-2.6.1.jar\n",
      "spark-3.0.0-bin-hadoop2.7/jars/hadoop-common-2.7.4.jar\n",
      "spark-3.0.0-bin-hadoop2.7/jars/curator-recipes-2.7.1.jar\n",
      "spark-3.0.0-bin-hadoop2.7/jars/jackson-mapper-asl-1.9.13.jar\n",
      "spark-3.0.0-bin-hadoop2.7/jars/hive-common-2.3.7.jar\n",
      "spark-3.0.0-bin-hadoop2.7/jars/xz-1.5.jar\n",
      "spark-3.0.0-bin-hadoop2.7/jars/ST4-4.0.4.jar\n",
      "spark-3.0.0-bin-hadoop2.7/jars/hive-shims-scheduler-2.3.7.jar\n",
      "spark-3.0.0-bin-hadoop2.7/jars/parquet-hadoop-1.10.1.jar\n",
      "spark-3.0.0-bin-hadoop2.7/jars/chill_2.12-0.9.5.jar\n",
      "spark-3.0.0-bin-hadoop2.7/jars/commons-configuration-1.6.jar\n",
      "spark-3.0.0-bin-hadoop2.7/jars/jackson-databind-2.10.0.jar\n",
      "spark-3.0.0-bin-hadoop2.7/jars/scala-reflect-2.12.10.jar\n",
      "spark-3.0.0-bin-hadoop2.7/jars/joda-time-2.10.5.jar\n",
      "spark-3.0.0-bin-hadoop2.7/jars/spark-network-shuffle_2.12-3.0.0.jar\n",
      "spark-3.0.0-bin-hadoop2.7/jars/minlog-1.3.0.jar\n",
      "spark-3.0.0-bin-hadoop2.7/jars/jakarta.ws.rs-api-2.1.6.jar\n",
      "spark-3.0.0-bin-hadoop2.7/jars/orc-shims-1.5.10.jar\n",
      "spark-3.0.0-bin-hadoop2.7/jars/aopalliance-repackaged-2.6.1.jar\n",
      "spark-3.0.0-bin-hadoop2.7/jars/bonecp-0.8.0.RELEASE.jar\n",
      "spark-3.0.0-bin-hadoop2.7/jars/jodd-core-3.5.2.jar\n",
      "spark-3.0.0-bin-hadoop2.7/jars/hadoop-yarn-server-web-proxy-2.7.4.jar\n",
      "spark-3.0.0-bin-hadoop2.7/jars/jackson-core-2.10.0.jar\n",
      "spark-3.0.0-bin-hadoop2.7/jars/protobuf-java-2.5.0.jar\n",
      "spark-3.0.0-bin-hadoop2.7/jars/commons-net-3.1.jar\n",
      "spark-3.0.0-bin-hadoop2.7/jars/hadoop-mapreduce-client-jobclient-2.7.4.jar\n",
      "spark-3.0.0-bin-hadoop2.7/jars/datanucleus-core-4.1.17.jar\n",
      "spark-3.0.0-bin-hadoop2.7/jars/jackson-jaxrs-1.9.13.jar\n",
      "spark-3.0.0-bin-hadoop2.7/jars/janino-3.0.16.jar\n",
      "spark-3.0.0-bin-hadoop2.7/jars/spark-sketch_2.12-3.0.0.jar\n",
      "spark-3.0.0-bin-hadoop2.7/jars/hive-shims-common-2.3.7.jar\n",
      "spark-3.0.0-bin-hadoop2.7/jars/javolution-5.5.1.jar\n",
      "spark-3.0.0-bin-hadoop2.7/jars/transaction-api-1.1.jar\n",
      "spark-3.0.0-bin-hadoop2.7/jars/jackson-datatype-jsr310-2.10.3.jar\n",
      "spark-3.0.0-bin-hadoop2.7/jars/spark-mllib-local_2.12-3.0.0.jar\n",
      "spark-3.0.0-bin-hadoop2.7/jars/jaxb-api-2.2.2.jar\n",
      "spark-3.0.0-bin-hadoop2.7/jars/commons-cli-1.2.jar\n",
      "spark-3.0.0-bin-hadoop2.7/jars/jakarta.inject-2.6.1.jar\n",
      "spark-3.0.0-bin-hadoop2.7/jars/metrics-jmx-4.1.1.jar\n",
      "spark-3.0.0-bin-hadoop2.7/jars/arrow-vector-0.15.1.jar\n",
      "spark-3.0.0-bin-hadoop2.7/jars/jakarta.xml.bind-api-2.3.2.jar\n",
      "spark-3.0.0-bin-hadoop2.7/jars/commons-codec-1.10.jar\n",
      "spark-3.0.0-bin-hadoop2.7/jars/hadoop-yarn-common-2.7.4.jar\n",
      "spark-3.0.0-bin-hadoop2.7/jars/curator-framework-2.7.1.jar\n",
      "spark-3.0.0-bin-hadoop2.7/jars/arpack_combined_all-0.1.jar\n",
      "spark-3.0.0-bin-hadoop2.7/jars/hive-metastore-2.3.7.jar\n",
      "spark-3.0.0-bin-hadoop2.7/jars/hive-beeline-2.3.7.jar\n",
      "spark-3.0.0-bin-hadoop2.7/jars/metrics-core-4.1.1.jar\n",
      "spark-3.0.0-bin-hadoop2.7/jars/hive-llap-common-2.3.7.jar\n",
      "spark-3.0.0-bin-hadoop2.7/jars/netty-all-4.1.47.Final.jar\n",
      "spark-3.0.0-bin-hadoop2.7/jars/javassist-3.25.0-GA.jar\n",
      "spark-3.0.0-bin-hadoop2.7/jars/scala-collection-compat_2.12-2.1.1.jar\n",
      "spark-3.0.0-bin-hadoop2.7/jars/parquet-column-1.10.1.jar\n",
      "spark-3.0.0-bin-hadoop2.7/jars/jetty-util-6.1.26.jar\n",
      "spark-3.0.0-bin-hadoop2.7/jars/kubernetes-model-4.9.2.jar\n",
      "spark-3.0.0-bin-hadoop2.7/jars/avro-ipc-1.8.2.jar\n",
      "spark-3.0.0-bin-hadoop2.7/jars/spark-core_2.12-3.0.0.jar\n",
      "spark-3.0.0-bin-hadoop2.7/jars/guice-3.0.jar\n",
      "spark-3.0.0-bin-hadoop2.7/jars/commons-text-1.6.jar\n",
      "spark-3.0.0-bin-hadoop2.7/jars/json4s-scalap_2.12-3.6.6.jar\n",
      "spark-3.0.0-bin-hadoop2.7/jars/metrics-json-4.1.1.jar\n",
      "spark-3.0.0-bin-hadoop2.7/jars/snakeyaml-1.24.jar\n",
      "spark-3.0.0-bin-hadoop2.7/jars/json4s-jackson_2.12-3.6.6.jar\n",
      "spark-3.0.0-bin-hadoop2.7/jars/ivy-2.4.0.jar\n",
      "spark-3.0.0-bin-hadoop2.7/jars/hadoop-mapreduce-client-core-2.7.4.jar\n",
      "spark-3.0.0-bin-hadoop2.7/jars/json4s-core_2.12-3.6.6.jar\n",
      "spark-3.0.0-bin-hadoop2.7/jars/spark-tags_2.12-3.0.0-tests.jar\n",
      "spark-3.0.0-bin-hadoop2.7/jars/pyrolite-4.30.jar\n",
      "spark-3.0.0-bin-hadoop2.7/jars/spark-launcher_2.12-3.0.0.jar\n",
      "spark-3.0.0-bin-hadoop2.7/jars/log4j-1.2.17.jar\n",
      "spark-3.0.0-bin-hadoop2.7/jars/hive-serde-2.3.7.jar\n",
      "spark-3.0.0-bin-hadoop2.7/jars/scala-parser-combinators_2.12-1.1.2.jar\n",
      "spark-3.0.0-bin-hadoop2.7/jars/RoaringBitmap-0.7.45.jar\n",
      "spark-3.0.0-bin-hadoop2.7/jars/zookeeper-3.4.14.jar\n",
      "spark-3.0.0-bin-hadoop2.7/data/\n",
      "spark-3.0.0-bin-hadoop2.7/data/mllib/\n",
      "spark-3.0.0-bin-hadoop2.7/data/mllib/sample_lda_data.txt\n",
      "spark-3.0.0-bin-hadoop2.7/data/mllib/sample_libsvm_data.txt\n",
      "spark-3.0.0-bin-hadoop2.7/data/mllib/sample_svm_data.txt\n",
      "spark-3.0.0-bin-hadoop2.7/data/mllib/sample_multiclass_classification_data.txt\n",
      "spark-3.0.0-bin-hadoop2.7/data/mllib/sample_linear_regression_data.txt\n",
      "spark-3.0.0-bin-hadoop2.7/data/mllib/sample_lda_libsvm_data.txt\n",
      "spark-3.0.0-bin-hadoop2.7/data/mllib/sample_fpgrowth.txt\n",
      "spark-3.0.0-bin-hadoop2.7/data/mllib/sample_binary_classification_data.txt\n",
      "spark-3.0.0-bin-hadoop2.7/data/mllib/sample_isotonic_regression_libsvm_data.txt\n",
      "spark-3.0.0-bin-hadoop2.7/data/mllib/iris_libsvm.txt\n",
      "spark-3.0.0-bin-hadoop2.7/data/mllib/sample_movielens_data.txt\n",
      "spark-3.0.0-bin-hadoop2.7/data/mllib/als/\n",
      "spark-3.0.0-bin-hadoop2.7/data/mllib/als/test.data\n",
      "spark-3.0.0-bin-hadoop2.7/data/mllib/als/sample_movielens_ratings.txt\n",
      "spark-3.0.0-bin-hadoop2.7/data/mllib/sample_kmeans_data.txt\n",
      "spark-3.0.0-bin-hadoop2.7/data/mllib/pic_data.txt\n",
      "spark-3.0.0-bin-hadoop2.7/data/mllib/images/\n",
      "spark-3.0.0-bin-hadoop2.7/data/mllib/images/origin/\n",
      "spark-3.0.0-bin-hadoop2.7/data/mllib/images/origin/kittens/\n",
      "spark-3.0.0-bin-hadoop2.7/data/mllib/images/origin/kittens/54893.jpg\n",
      "spark-3.0.0-bin-hadoop2.7/data/mllib/images/origin/kittens/not-image.txt\n",
      "spark-3.0.0-bin-hadoop2.7/data/mllib/images/origin/kittens/DP802813.jpg\n",
      "spark-3.0.0-bin-hadoop2.7/data/mllib/images/origin/kittens/29.5.a_b_EGDP022204.jpg\n",
      "spark-3.0.0-bin-hadoop2.7/data/mllib/images/origin/kittens/DP153539.jpg\n",
      "spark-3.0.0-bin-hadoop2.7/data/mllib/images/origin/license.txt\n",
      "spark-3.0.0-bin-hadoop2.7/data/mllib/images/origin/multi-channel/\n",
      "spark-3.0.0-bin-hadoop2.7/data/mllib/images/origin/multi-channel/BGRA.png\n",
      "spark-3.0.0-bin-hadoop2.7/data/mllib/images/origin/multi-channel/BGRA_alpha_60.png\n",
      "spark-3.0.0-bin-hadoop2.7/data/mllib/images/origin/multi-channel/grayscale.jpg\n",
      "spark-3.0.0-bin-hadoop2.7/data/mllib/images/origin/multi-channel/chr30.4.184.jpg\n",
      "spark-3.0.0-bin-hadoop2.7/data/mllib/images/partitioned/\n",
      "spark-3.0.0-bin-hadoop2.7/data/mllib/images/partitioned/cls=multichannel/\n",
      "spark-3.0.0-bin-hadoop2.7/data/mllib/images/partitioned/cls=multichannel/date=2018-01/\n",
      "spark-3.0.0-bin-hadoop2.7/data/mllib/images/partitioned/cls=multichannel/date=2018-01/BGRA.png\n",
      "spark-3.0.0-bin-hadoop2.7/data/mllib/images/partitioned/cls=multichannel/date=2018-01/BGRA_alpha_60.png\n",
      "spark-3.0.0-bin-hadoop2.7/data/mllib/images/partitioned/cls=multichannel/date=2018-02/\n",
      "spark-3.0.0-bin-hadoop2.7/data/mllib/images/partitioned/cls=multichannel/date=2018-02/grayscale.jpg\n",
      "spark-3.0.0-bin-hadoop2.7/data/mllib/images/partitioned/cls=multichannel/date=2018-02/chr30.4.184.jpg\n",
      "spark-3.0.0-bin-hadoop2.7/data/mllib/images/partitioned/cls=kittens/\n",
      "spark-3.0.0-bin-hadoop2.7/data/mllib/images/partitioned/cls=kittens/date=2018-01/\n",
      "spark-3.0.0-bin-hadoop2.7/data/mllib/images/partitioned/cls=kittens/date=2018-01/not-image.txt\n",
      "spark-3.0.0-bin-hadoop2.7/data/mllib/images/partitioned/cls=kittens/date=2018-01/29.5.a_b_EGDP022204.jpg\n",
      "spark-3.0.0-bin-hadoop2.7/data/mllib/images/partitioned/cls=kittens/date=2018-02/\n",
      "spark-3.0.0-bin-hadoop2.7/data/mllib/images/partitioned/cls=kittens/date=2018-02/54893.jpg\n",
      "spark-3.0.0-bin-hadoop2.7/data/mllib/images/partitioned/cls=kittens/date=2018-02/DP802813.jpg\n",
      "spark-3.0.0-bin-hadoop2.7/data/mllib/images/partitioned/cls=kittens/date=2018-02/DP153539.jpg\n",
      "spark-3.0.0-bin-hadoop2.7/data/mllib/images/license.txt\n",
      "spark-3.0.0-bin-hadoop2.7/data/mllib/ridge-data/\n",
      "spark-3.0.0-bin-hadoop2.7/data/mllib/ridge-data/lpsa.data\n",
      "spark-3.0.0-bin-hadoop2.7/data/mllib/kmeans_data.txt\n",
      "spark-3.0.0-bin-hadoop2.7/data/mllib/streaming_kmeans_data_test.txt\n",
      "spark-3.0.0-bin-hadoop2.7/data/mllib/pagerank_data.txt\n",
      "spark-3.0.0-bin-hadoop2.7/data/mllib/gmm_data.txt\n",
      "spark-3.0.0-bin-hadoop2.7/data/graphx/\n",
      "spark-3.0.0-bin-hadoop2.7/data/graphx/users.txt\n",
      "spark-3.0.0-bin-hadoop2.7/data/graphx/followers.txt\n",
      "spark-3.0.0-bin-hadoop2.7/data/streaming/\n",
      "spark-3.0.0-bin-hadoop2.7/data/streaming/AFINN-111.txt\n",
      "spark-3.0.0-bin-hadoop2.7/R/\n",
      "spark-3.0.0-bin-hadoop2.7/R/lib/\n",
      "spark-3.0.0-bin-hadoop2.7/R/lib/sparkr.zip\n",
      "spark-3.0.0-bin-hadoop2.7/R/lib/SparkR/\n",
      "spark-3.0.0-bin-hadoop2.7/R/lib/SparkR/tests/\n",
      "spark-3.0.0-bin-hadoop2.7/R/lib/SparkR/tests/testthat/\n",
      "spark-3.0.0-bin-hadoop2.7/R/lib/SparkR/tests/testthat/test_basic.R\n",
      "spark-3.0.0-bin-hadoop2.7/R/lib/SparkR/DESCRIPTION\n",
      "spark-3.0.0-bin-hadoop2.7/R/lib/SparkR/profile/\n",
      "spark-3.0.0-bin-hadoop2.7/R/lib/SparkR/profile/shell.R\n",
      "spark-3.0.0-bin-hadoop2.7/R/lib/SparkR/profile/general.R\n",
      "spark-3.0.0-bin-hadoop2.7/R/lib/SparkR/INDEX\n",
      "spark-3.0.0-bin-hadoop2.7/R/lib/SparkR/Meta/\n",
      "spark-3.0.0-bin-hadoop2.7/R/lib/SparkR/Meta/features.rds\n",
      "spark-3.0.0-bin-hadoop2.7/R/lib/SparkR/Meta/links.rds\n",
      "spark-3.0.0-bin-hadoop2.7/R/lib/SparkR/Meta/nsInfo.rds\n",
      "spark-3.0.0-bin-hadoop2.7/R/lib/SparkR/Meta/package.rds\n",
      "spark-3.0.0-bin-hadoop2.7/R/lib/SparkR/Meta/vignette.rds\n",
      "spark-3.0.0-bin-hadoop2.7/R/lib/SparkR/Meta/Rd.rds\n",
      "spark-3.0.0-bin-hadoop2.7/R/lib/SparkR/Meta/hsearch.rds\n",
      "spark-3.0.0-bin-hadoop2.7/R/lib/SparkR/help/\n",
      "spark-3.0.0-bin-hadoop2.7/R/lib/SparkR/help/SparkR.rdb\n",
      "spark-3.0.0-bin-hadoop2.7/R/lib/SparkR/help/aliases.rds\n",
      "spark-3.0.0-bin-hadoop2.7/R/lib/SparkR/help/SparkR.rdx\n",
      "spark-3.0.0-bin-hadoop2.7/R/lib/SparkR/help/AnIndex\n",
      "spark-3.0.0-bin-hadoop2.7/R/lib/SparkR/help/paths.rds\n",
      "spark-3.0.0-bin-hadoop2.7/R/lib/SparkR/R/\n",
      "spark-3.0.0-bin-hadoop2.7/R/lib/SparkR/R/SparkR.rdb\n",
      "spark-3.0.0-bin-hadoop2.7/R/lib/SparkR/R/SparkR.rdx\n",
      "spark-3.0.0-bin-hadoop2.7/R/lib/SparkR/R/SparkR\n",
      "spark-3.0.0-bin-hadoop2.7/R/lib/SparkR/NAMESPACE\n",
      "spark-3.0.0-bin-hadoop2.7/R/lib/SparkR/doc/\n",
      "spark-3.0.0-bin-hadoop2.7/R/lib/SparkR/doc/sparkr-vignettes.Rmd\n",
      "spark-3.0.0-bin-hadoop2.7/R/lib/SparkR/doc/index.html\n",
      "spark-3.0.0-bin-hadoop2.7/R/lib/SparkR/doc/sparkr-vignettes.html\n",
      "spark-3.0.0-bin-hadoop2.7/R/lib/SparkR/doc/sparkr-vignettes.R\n",
      "spark-3.0.0-bin-hadoop2.7/R/lib/SparkR/html/\n",
      "spark-3.0.0-bin-hadoop2.7/R/lib/SparkR/html/00Index.html\n",
      "spark-3.0.0-bin-hadoop2.7/R/lib/SparkR/html/R.css\n",
      "spark-3.0.0-bin-hadoop2.7/R/lib/SparkR/worker/\n",
      "spark-3.0.0-bin-hadoop2.7/R/lib/SparkR/worker/worker.R\n",
      "spark-3.0.0-bin-hadoop2.7/R/lib/SparkR/worker/daemon.R\n",
      "spark-3.0.0-bin-hadoop2.7/README.md\n",
      "spark-3.0.0-bin-hadoop2.7/RELEASE\n",
      "spark-3.0.0-bin-hadoop2.7/yarn/\n",
      "spark-3.0.0-bin-hadoop2.7/yarn/spark-3.0.0-yarn-shuffle.jar\n",
      "spark-3.0.0-bin-hadoop2.7/LICENSE\n",
      "spark-3.0.0-bin-hadoop2.7/sbin/\n",
      "spark-3.0.0-bin-hadoop2.7/sbin/stop-mesos-shuffle-service.sh\n",
      "spark-3.0.0-bin-hadoop2.7/sbin/start-master.sh\n",
      "spark-3.0.0-bin-hadoop2.7/sbin/spark-config.sh\n",
      "spark-3.0.0-bin-hadoop2.7/sbin/start-history-server.sh\n",
      "spark-3.0.0-bin-hadoop2.7/sbin/start-slaves.sh\n",
      "spark-3.0.0-bin-hadoop2.7/sbin/spark-daemon.sh\n",
      "spark-3.0.0-bin-hadoop2.7/sbin/stop-mesos-dispatcher.sh\n",
      "spark-3.0.0-bin-hadoop2.7/sbin/start-mesos-shuffle-service.sh\n",
      "spark-3.0.0-bin-hadoop2.7/sbin/slaves.sh\n",
      "spark-3.0.0-bin-hadoop2.7/sbin/stop-history-server.sh\n",
      "spark-3.0.0-bin-hadoop2.7/sbin/start-thriftserver.sh\n",
      "spark-3.0.0-bin-hadoop2.7/sbin/stop-thriftserver.sh\n",
      "spark-3.0.0-bin-hadoop2.7/sbin/start-slave.sh\n",
      "spark-3.0.0-bin-hadoop2.7/sbin/start-all.sh\n",
      "spark-3.0.0-bin-hadoop2.7/sbin/stop-slave.sh\n",
      "spark-3.0.0-bin-hadoop2.7/sbin/spark-daemons.sh\n",
      "spark-3.0.0-bin-hadoop2.7/sbin/stop-slaves.sh\n",
      "spark-3.0.0-bin-hadoop2.7/sbin/stop-all.sh\n",
      "spark-3.0.0-bin-hadoop2.7/sbin/start-mesos-dispatcher.sh\n",
      "spark-3.0.0-bin-hadoop2.7/sbin/stop-master.sh\n",
      "spark-3.0.0-bin-hadoop2.7/examples/\n",
      "spark-3.0.0-bin-hadoop2.7/examples/src/\n",
      "spark-3.0.0-bin-hadoop2.7/examples/src/main/\n",
      "spark-3.0.0-bin-hadoop2.7/examples/src/main/r/\n",
      "spark-3.0.0-bin-hadoop2.7/examples/src/main/r/ml/\n",
      "spark-3.0.0-bin-hadoop2.7/examples/src/main/r/ml/survreg.R\n",
      "spark-3.0.0-bin-hadoop2.7/examples/src/main/r/ml/glm.R\n",
      "spark-3.0.0-bin-hadoop2.7/examples/src/main/r/ml/prefixSpan.R\n",
      "spark-3.0.0-bin-hadoop2.7/examples/src/main/r/ml/powerIterationClustering.R\n",
      "spark-3.0.0-bin-hadoop2.7/examples/src/main/r/ml/lda.R\n",
      "spark-3.0.0-bin-hadoop2.7/examples/src/main/r/ml/kstest.R\n",
      "spark-3.0.0-bin-hadoop2.7/examples/src/main/r/ml/isoreg.R\n",
      "spark-3.0.0-bin-hadoop2.7/examples/src/main/r/ml/ml.R\n",
      "spark-3.0.0-bin-hadoop2.7/examples/src/main/r/ml/naiveBayes.R\n",
      "spark-3.0.0-bin-hadoop2.7/examples/src/main/r/ml/mlp.R\n",
      "spark-3.0.0-bin-hadoop2.7/examples/src/main/r/ml/als.R\n",
      "spark-3.0.0-bin-hadoop2.7/examples/src/main/r/ml/kmeans.R\n",
      "spark-3.0.0-bin-hadoop2.7/examples/src/main/r/ml/svmLinear.R\n",
      "spark-3.0.0-bin-hadoop2.7/examples/src/main/r/ml/logit.R\n",
      "spark-3.0.0-bin-hadoop2.7/examples/src/main/r/ml/randomForest.R\n",
      "spark-3.0.0-bin-hadoop2.7/examples/src/main/r/ml/gbt.R\n",
      "spark-3.0.0-bin-hadoop2.7/examples/src/main/r/ml/decisionTree.R\n",
      "spark-3.0.0-bin-hadoop2.7/examples/src/main/r/ml/gaussianMixture.R\n",
      "spark-3.0.0-bin-hadoop2.7/examples/src/main/r/ml/bisectingKmeans.R\n",
      "spark-3.0.0-bin-hadoop2.7/examples/src/main/r/ml/fpm.R\n",
      "spark-3.0.0-bin-hadoop2.7/examples/src/main/r/dataframe.R\n",
      "spark-3.0.0-bin-hadoop2.7/examples/src/main/r/RSparkSQLExample.R\n",
      "spark-3.0.0-bin-hadoop2.7/examples/src/main/r/data-manipulation.R\n",
      "spark-3.0.0-bin-hadoop2.7/examples/src/main/r/streaming/\n",
      "spark-3.0.0-bin-hadoop2.7/examples/src/main/r/streaming/structured_network_wordcount.R\n",
      "spark-3.0.0-bin-hadoop2.7/examples/src/main/scala/\n",
      "spark-3.0.0-bin-hadoop2.7/examples/src/main/scala/org/\n",
      "spark-3.0.0-bin-hadoop2.7/examples/src/main/scala/org/apache/\n",
      "spark-3.0.0-bin-hadoop2.7/examples/src/main/scala/org/apache/spark/\n",
      "spark-3.0.0-bin-hadoop2.7/examples/src/main/scala/org/apache/spark/examples/\n",
      "spark-3.0.0-bin-hadoop2.7/examples/src/main/scala/org/apache/spark/examples/SparkPageRank.scala\n",
      "spark-3.0.0-bin-hadoop2.7/examples/src/main/scala/org/apache/spark/examples/SkewedGroupByTest.scala\n",
      "spark-3.0.0-bin-hadoop2.7/examples/src/main/scala/org/apache/spark/examples/AccumulatorMetricsTest.scala\n",
      "spark-3.0.0-bin-hadoop2.7/examples/src/main/scala/org/apache/spark/examples/HdfsTest.scala\n",
      "spark-3.0.0-bin-hadoop2.7/examples/src/main/scala/org/apache/spark/examples/ml/\n",
      "spark-3.0.0-bin-hadoop2.7/examples/src/main/scala/org/apache/spark/examples/ml/Word2VecExample.scala\n",
      "spark-3.0.0-bin-hadoop2.7/examples/src/main/scala/org/apache/spark/examples/ml/DeveloperApiExample.scala\n",
      "spark-3.0.0-bin-hadoop2.7/examples/src/main/scala/org/apache/spark/examples/ml/MinHashLSHExample.scala\n",
      "spark-3.0.0-bin-hadoop2.7/examples/src/main/scala/org/apache/spark/examples/ml/IndexToStringExample.scala\n",
      "spark-3.0.0-bin-hadoop2.7/examples/src/main/scala/org/apache/spark/examples/ml/BisectingKMeansExample.scala\n",
      "spark-3.0.0-bin-hadoop2.7/examples/src/main/scala/org/apache/spark/examples/ml/CorrelationExample.scala\n",
      "spark-3.0.0-bin-hadoop2.7/examples/src/main/scala/org/apache/spark/examples/ml/MulticlassLogisticRegressionWithElasticNetExample.scala\n",
      "spark-3.0.0-bin-hadoop2.7/examples/src/main/scala/org/apache/spark/examples/ml/VectorSizeHintExample.scala\n",
      "spark-3.0.0-bin-hadoop2.7/examples/src/main/scala/org/apache/spark/examples/ml/NGramExample.scala\n",
      "spark-3.0.0-bin-hadoop2.7/examples/src/main/scala/org/apache/spark/examples/ml/BucketedRandomProjectionLSHExample.scala\n",
      "spark-3.0.0-bin-hadoop2.7/examples/src/main/scala/org/apache/spark/examples/ml/BinarizerExample.scala\n",
      "spark-3.0.0-bin-hadoop2.7/examples/src/main/scala/org/apache/spark/examples/ml/RandomForestExample.scala\n",
      "spark-3.0.0-bin-hadoop2.7/examples/src/main/scala/org/apache/spark/examples/ml/StandardScalerExample.scala\n",
      "spark-3.0.0-bin-hadoop2.7/examples/src/main/scala/org/apache/spark/examples/ml/LogisticRegressionExample.scala\n",
      "spark-3.0.0-bin-hadoop2.7/examples/src/main/scala/org/apache/spark/examples/ml/FeatureHasherExample.scala\n",
      "spark-3.0.0-bin-hadoop2.7/examples/src/main/scala/org/apache/spark/examples/ml/OneVsRestExample.scala\n",
      "spark-3.0.0-bin-hadoop2.7/examples/src/main/scala/org/apache/spark/examples/ml/StopWordsRemoverExample.scala\n",
      "spark-3.0.0-bin-hadoop2.7/examples/src/main/scala/org/apache/spark/examples/ml/LinearSVCExample.scala\n",
      "spark-3.0.0-bin-hadoop2.7/examples/src/main/scala/org/apache/spark/examples/ml/GaussianMixtureExample.scala\n",
      "spark-3.0.0-bin-hadoop2.7/examples/src/main/scala/org/apache/spark/examples/ml/MaxAbsScalerExample.scala\n",
      "spark-3.0.0-bin-hadoop2.7/examples/src/main/scala/org/apache/spark/examples/ml/GBTExample.scala\n",
      "spark-3.0.0-bin-hadoop2.7/examples/src/main/scala/org/apache/spark/examples/ml/IsotonicRegressionExample.scala\n",
      "spark-3.0.0-bin-hadoop2.7/examples/src/main/scala/org/apache/spark/examples/ml/ModelSelectionViaCrossValidationExample.scala\n",
      "spark-3.0.0-bin-hadoop2.7/examples/src/main/scala/org/apache/spark/examples/ml/EstimatorTransformerParamExample.scala\n",
      "spark-3.0.0-bin-hadoop2.7/examples/src/main/scala/org/apache/spark/examples/ml/DecisionTreeRegressionExample.scala\n",
      "spark-3.0.0-bin-hadoop2.7/examples/src/main/scala/org/apache/spark/examples/ml/RandomForestRegressorExample.scala\n",
      "spark-3.0.0-bin-hadoop2.7/examples/src/main/scala/org/apache/spark/examples/ml/PrefixSpanExample.scala\n",
      "spark-3.0.0-bin-hadoop2.7/examples/src/main/scala/org/apache/spark/examples/ml/KMeansExample.scala\n",
      "spark-3.0.0-bin-hadoop2.7/examples/src/main/scala/org/apache/spark/examples/ml/ModelSelectionViaTrainValidationSplitExample.scala\n",
      "spark-3.0.0-bin-hadoop2.7/examples/src/main/scala/org/apache/spark/examples/ml/LogisticRegressionSummaryExample.scala\n",
      "spark-3.0.0-bin-hadoop2.7/examples/src/main/scala/org/apache/spark/examples/ml/MultilayerPerceptronClassifierExample.scala\n",
      "spark-3.0.0-bin-hadoop2.7/examples/src/main/scala/org/apache/spark/examples/ml/PCAExample.scala\n",
      "spark-3.0.0-bin-hadoop2.7/examples/src/main/scala/org/apache/spark/examples/ml/DCTExample.scala\n",
      "spark-3.0.0-bin-hadoop2.7/examples/src/main/scala/org/apache/spark/examples/ml/FPGrowthExample.scala\n",
      "spark-3.0.0-bin-hadoop2.7/examples/src/main/scala/org/apache/spark/examples/ml/ElementwiseProductExample.scala\n",
      "spark-3.0.0-bin-hadoop2.7/examples/src/main/scala/org/apache/spark/examples/ml/GeneralizedLinearRegressionExample.scala\n",
      "spark-3.0.0-bin-hadoop2.7/examples/src/main/scala/org/apache/spark/examples/ml/CountVectorizerExample.scala\n",
      "spark-3.0.0-bin-hadoop2.7/examples/src/main/scala/org/apache/spark/examples/ml/MinMaxScalerExample.scala\n",
      "spark-3.0.0-bin-hadoop2.7/examples/src/main/scala/org/apache/spark/examples/ml/ChiSquareTestExample.scala\n",
      "spark-3.0.0-bin-hadoop2.7/examples/src/main/scala/org/apache/spark/examples/ml/LogisticRegressionWithElasticNetExample.scala\n",
      "spark-3.0.0-bin-hadoop2.7/examples/src/main/scala/org/apache/spark/examples/ml/FMRegressorExample.scala\n",
      "spark-3.0.0-bin-hadoop2.7/examples/src/main/scala/org/apache/spark/examples/ml/VectorSlicerExample.scala\n",
      "spark-3.0.0-bin-hadoop2.7/examples/src/main/scala/org/apache/spark/examples/ml/LinearRegressionExample.scala\n",
      "spark-3.0.0-bin-hadoop2.7/examples/src/main/scala/org/apache/spark/examples/ml/StringIndexerExample.scala\n",
      "spark-3.0.0-bin-hadoop2.7/examples/src/main/scala/org/apache/spark/examples/ml/GradientBoostedTreeRegressorExample.scala\n",
      "spark-3.0.0-bin-hadoop2.7/examples/src/main/scala/org/apache/spark/examples/ml/ALSExample.scala\n",
      "spark-3.0.0-bin-hadoop2.7/examples/src/main/scala/org/apache/spark/examples/ml/DecisionTreeClassificationExample.scala\n",
      "spark-3.0.0-bin-hadoop2.7/examples/src/main/scala/org/apache/spark/examples/ml/PolynomialExpansionExample.scala\n",
      "spark-3.0.0-bin-hadoop2.7/examples/src/main/scala/org/apache/spark/examples/ml/FMClassifierExample.scala\n",
      "spark-3.0.0-bin-hadoop2.7/examples/src/main/scala/org/apache/spark/examples/ml/UnaryTransformerExample.scala\n",
      "spark-3.0.0-bin-hadoop2.7/examples/src/main/scala/org/apache/spark/examples/ml/ImputerExample.scala\n",
      "spark-3.0.0-bin-hadoop2.7/examples/src/main/scala/org/apache/spark/examples/ml/TokenizerExample.scala\n",
      "spark-3.0.0-bin-hadoop2.7/examples/src/main/scala/org/apache/spark/examples/ml/DecisionTreeExample.scala\n",
      "spark-3.0.0-bin-hadoop2.7/examples/src/main/scala/org/apache/spark/examples/ml/GradientBoostedTreeClassifierExample.scala\n",
      "spark-3.0.0-bin-hadoop2.7/examples/src/main/scala/org/apache/spark/examples/ml/PowerIterationClusteringExample.scala\n",
      "spark-3.0.0-bin-hadoop2.7/examples/src/main/scala/org/apache/spark/examples/ml/SQLTransformerExample.scala\n",
      "spark-3.0.0-bin-hadoop2.7/examples/src/main/scala/org/apache/spark/examples/ml/SummarizerExample.scala\n",
      "spark-3.0.0-bin-hadoop2.7/examples/src/main/scala/org/apache/spark/examples/ml/DataFrameExample.scala\n",
      "spark-3.0.0-bin-hadoop2.7/examples/src/main/scala/org/apache/spark/examples/ml/BucketizerExample.scala\n",
      "spark-3.0.0-bin-hadoop2.7/examples/src/main/scala/org/apache/spark/examples/ml/TfIdfExample.scala\n",
      "spark-3.0.0-bin-hadoop2.7/examples/src/main/scala/org/apache/spark/examples/ml/AFTSurvivalRegressionExample.scala\n",
      "spark-3.0.0-bin-hadoop2.7/examples/src/main/scala/org/apache/spark/examples/ml/QuantileDiscretizerExample.scala\n",
      "spark-3.0.0-bin-hadoop2.7/examples/src/main/scala/org/apache/spark/examples/ml/OneHotEncoderExample.scala\n",
      "spark-3.0.0-bin-hadoop2.7/examples/src/main/scala/org/apache/spark/examples/ml/PipelineExample.scala\n",
      "spark-3.0.0-bin-hadoop2.7/examples/src/main/scala/org/apache/spark/examples/ml/InteractionExample.scala\n",
      "spark-3.0.0-bin-hadoop2.7/examples/src/main/scala/org/apache/spark/examples/ml/LDAExample.scala\n",
      "spark-3.0.0-bin-hadoop2.7/examples/src/main/scala/org/apache/spark/examples/ml/RFormulaExample.scala\n",
      "spark-3.0.0-bin-hadoop2.7/examples/src/main/scala/org/apache/spark/examples/ml/VectorIndexerExample.scala\n",
      "spark-3.0.0-bin-hadoop2.7/examples/src/main/scala/org/apache/spark/examples/ml/VectorAssemblerExample.scala\n",
      "spark-3.0.0-bin-hadoop2.7/examples/src/main/scala/org/apache/spark/examples/ml/NormalizerExample.scala\n",
      "spark-3.0.0-bin-hadoop2.7/examples/src/main/scala/org/apache/spark/examples/ml/ChiSqSelectorExample.scala\n",
      "spark-3.0.0-bin-hadoop2.7/examples/src/main/scala/org/apache/spark/examples/ml/NaiveBayesExample.scala\n",
      "spark-3.0.0-bin-hadoop2.7/examples/src/main/scala/org/apache/spark/examples/ml/RandomForestClassifierExample.scala\n",
      "spark-3.0.0-bin-hadoop2.7/examples/src/main/scala/org/apache/spark/examples/ml/LinearRegressionWithElasticNetExample.scala\n",
      "spark-3.0.0-bin-hadoop2.7/examples/src/main/scala/org/apache/spark/examples/ml/RobustScalerExample.scala\n",
      "spark-3.0.0-bin-hadoop2.7/examples/src/main/scala/org/apache/spark/examples/LogQuery.scala\n",
      "spark-3.0.0-bin-hadoop2.7/examples/src/main/scala/org/apache/spark/examples/SparkRemoteFileTest.scala\n",
      "spark-3.0.0-bin-hadoop2.7/examples/src/main/scala/org/apache/spark/examples/ExceptionHandlingTest.scala\n",
      "spark-3.0.0-bin-hadoop2.7/examples/src/main/scala/org/apache/spark/examples/pythonconverters/\n",
      "spark-3.0.0-bin-hadoop2.7/examples/src/main/scala/org/apache/spark/examples/pythonconverters/AvroConverters.scala\n",
      "spark-3.0.0-bin-hadoop2.7/examples/src/main/scala/org/apache/spark/examples/BroadcastTest.scala\n",
      "spark-3.0.0-bin-hadoop2.7/examples/src/main/scala/org/apache/spark/examples/SparkHdfsLR.scala\n",
      "spark-3.0.0-bin-hadoop2.7/examples/src/main/scala/org/apache/spark/examples/mllib/\n",
      "spark-3.0.0-bin-hadoop2.7/examples/src/main/scala/org/apache/spark/examples/mllib/Word2VecExample.scala\n",
      "spark-3.0.0-bin-hadoop2.7/examples/src/main/scala/org/apache/spark/examples/mllib/GradientBoostedTreesRunner.scala\n",
      "spark-3.0.0-bin-hadoop2.7/examples/src/main/scala/org/apache/spark/examples/mllib/RandomRDDGeneration.scala\n",
      "spark-3.0.0-bin-hadoop2.7/examples/src/main/scala/org/apache/spark/examples/mllib/PMMLModelExportExample.scala\n",
      "spark-3.0.0-bin-hadoop2.7/examples/src/main/scala/org/apache/spark/examples/mllib/BisectingKMeansExample.scala\n",
      "spark-3.0.0-bin-hadoop2.7/examples/src/main/scala/org/apache/spark/examples/mllib/DecisionTreeRunner.scala\n",
      "spark-3.0.0-bin-hadoop2.7/examples/src/main/scala/org/apache/spark/examples/mllib/MultiLabelMetricsExample.scala\n",
      "spark-3.0.0-bin-hadoop2.7/examples/src/main/scala/org/apache/spark/examples/mllib/CorrelationsExample.scala\n",
      "spark-3.0.0-bin-hadoop2.7/examples/src/main/scala/org/apache/spark/examples/mllib/LBFGSExample.scala\n",
      "spark-3.0.0-bin-hadoop2.7/examples/src/main/scala/org/apache/spark/examples/mllib/TFIDFExample.scala\n",
      "spark-3.0.0-bin-hadoop2.7/examples/src/main/scala/org/apache/spark/examples/mllib/StandardScalerExample.scala\n",
      "spark-3.0.0-bin-hadoop2.7/examples/src/main/scala/org/apache/spark/examples/mllib/LogisticRegressionWithLBFGSExample.scala\n",
      "spark-3.0.0-bin-hadoop2.7/examples/src/main/scala/org/apache/spark/examples/mllib/StreamingTestExample.scala\n",
      "spark-3.0.0-bin-hadoop2.7/examples/src/main/scala/org/apache/spark/examples/mllib/BinaryClassification.scala\n",
      "spark-3.0.0-bin-hadoop2.7/examples/src/main/scala/org/apache/spark/examples/mllib/DenseKMeans.scala\n",
      "spark-3.0.0-bin-hadoop2.7/examples/src/main/scala/org/apache/spark/examples/mllib/GradientBoostingClassificationExample.scala\n",
      "spark-3.0.0-bin-hadoop2.7/examples/src/main/scala/org/apache/spark/examples/mllib/RankingMetricsExample.scala\n",
      "spark-3.0.0-bin-hadoop2.7/examples/src/main/scala/org/apache/spark/examples/mllib/GaussianMixtureExample.scala\n",
      "spark-3.0.0-bin-hadoop2.7/examples/src/main/scala/org/apache/spark/examples/mllib/MultivariateSummarizer.scala\n",
      "spark-3.0.0-bin-hadoop2.7/examples/src/main/scala/org/apache/spark/examples/mllib/IsotonicRegressionExample.scala\n",
      "spark-3.0.0-bin-hadoop2.7/examples/src/main/scala/org/apache/spark/examples/mllib/PCAOnSourceVectorExample.scala\n",
      "spark-3.0.0-bin-hadoop2.7/examples/src/main/scala/org/apache/spark/examples/mllib/Correlations.scala\n",
      "spark-3.0.0-bin-hadoop2.7/examples/src/main/scala/org/apache/spark/examples/mllib/HypothesisTestingExample.scala\n",
      "spark-3.0.0-bin-hadoop2.7/examples/src/main/scala/org/apache/spark/examples/mllib/DecisionTreeRegressionExample.scala\n",
      "spark-3.0.0-bin-hadoop2.7/examples/src/main/scala/org/apache/spark/examples/mllib/AssociationRulesExample.scala\n",
      "spark-3.0.0-bin-hadoop2.7/examples/src/main/scala/org/apache/spark/examples/mllib/StreamingLogisticRegression.scala\n",
      "spark-3.0.0-bin-hadoop2.7/examples/src/main/scala/org/apache/spark/examples/mllib/SVDExample.scala\n",
      "spark-3.0.0-bin-hadoop2.7/examples/src/main/scala/org/apache/spark/examples/mllib/PrefixSpanExample.scala\n",
      "spark-3.0.0-bin-hadoop2.7/examples/src/main/scala/org/apache/spark/examples/mllib/KMeansExample.scala\n",
      "spark-3.0.0-bin-hadoop2.7/examples/src/main/scala/org/apache/spark/examples/mllib/SparseNaiveBayes.scala\n",
      "spark-3.0.0-bin-hadoop2.7/examples/src/main/scala/org/apache/spark/examples/mllib/AbstractParams.scala\n",
      "spark-3.0.0-bin-hadoop2.7/examples/src/main/scala/org/apache/spark/examples/mllib/BinaryClassificationMetricsExample.scala\n",
      "spark-3.0.0-bin-hadoop2.7/examples/src/main/scala/org/apache/spark/examples/mllib/SampledRDDs.scala\n",
      "spark-3.0.0-bin-hadoop2.7/examples/src/main/scala/org/apache/spark/examples/mllib/FPGrowthExample.scala\n",
      "spark-3.0.0-bin-hadoop2.7/examples/src/main/scala/org/apache/spark/examples/mllib/ElementwiseProductExample.scala\n",
      "spark-3.0.0-bin-hadoop2.7/examples/src/main/scala/org/apache/spark/examples/mllib/RecommendationExample.scala\n",
      "spark-3.0.0-bin-hadoop2.7/examples/src/main/scala/org/apache/spark/examples/mllib/TallSkinnySVD.scala\n",
      "spark-3.0.0-bin-hadoop2.7/examples/src/main/scala/org/apache/spark/examples/mllib/HypothesisTestingKolmogorovSmirnovTestExample.scala\n",
      "spark-3.0.0-bin-hadoop2.7/examples/src/main/scala/org/apache/spark/examples/mllib/GradientBoostingRegressionExample.scala\n",
      "spark-3.0.0-bin-hadoop2.7/examples/src/main/scala/org/apache/spark/examples/mllib/StreamingKMeansExample.scala\n",
      "spark-3.0.0-bin-hadoop2.7/examples/src/main/scala/org/apache/spark/examples/mllib/CosineSimilarity.scala\n",
      "spark-3.0.0-bin-hadoop2.7/examples/src/main/scala/org/apache/spark/examples/mllib/RandomForestRegressionExample.scala\n",
      "spark-3.0.0-bin-hadoop2.7/examples/src/main/scala/org/apache/spark/examples/mllib/StreamingLinearRegressionExample.scala\n",
      "spark-3.0.0-bin-hadoop2.7/examples/src/main/scala/org/apache/spark/examples/mllib/StratifiedSamplingExample.scala\n",
      "spark-3.0.0-bin-hadoop2.7/examples/src/main/scala/org/apache/spark/examples/mllib/DecisionTreeClassificationExample.scala\n",
      "spark-3.0.0-bin-hadoop2.7/examples/src/main/scala/org/apache/spark/examples/mllib/TallSkinnyPCA.scala\n",
      "spark-3.0.0-bin-hadoop2.7/examples/src/main/scala/org/apache/spark/examples/mllib/RandomForestClassificationExample.scala\n",
      "spark-3.0.0-bin-hadoop2.7/examples/src/main/scala/org/apache/spark/examples/mllib/SimpleFPGrowth.scala\n",
      "spark-3.0.0-bin-hadoop2.7/examples/src/main/scala/org/apache/spark/examples/mllib/LatentDirichletAllocationExample.scala\n",
      "spark-3.0.0-bin-hadoop2.7/examples/src/main/scala/org/apache/spark/examples/mllib/KernelDensityEstimationExample.scala\n",
      "spark-3.0.0-bin-hadoop2.7/examples/src/main/scala/org/apache/spark/examples/mllib/PowerIterationClusteringExample.scala\n",
      "spark-3.0.0-bin-hadoop2.7/examples/src/main/scala/org/apache/spark/examples/mllib/SVMWithSGDExample.scala\n",
      "spark-3.0.0-bin-hadoop2.7/examples/src/main/scala/org/apache/spark/examples/mllib/LDAExample.scala\n",
      "spark-3.0.0-bin-hadoop2.7/examples/src/main/scala/org/apache/spark/examples/mllib/MovieLensALS.scala\n",
      "spark-3.0.0-bin-hadoop2.7/examples/src/main/scala/org/apache/spark/examples/mllib/NormalizerExample.scala\n",
      "spark-3.0.0-bin-hadoop2.7/examples/src/main/scala/org/apache/spark/examples/mllib/MulticlassMetricsExample.scala\n",
      "spark-3.0.0-bin-hadoop2.7/examples/src/main/scala/org/apache/spark/examples/mllib/ChiSqSelectorExample.scala\n",
      "spark-3.0.0-bin-hadoop2.7/examples/src/main/scala/org/apache/spark/examples/mllib/SummaryStatisticsExample.scala\n",
      "spark-3.0.0-bin-hadoop2.7/examples/src/main/scala/org/apache/spark/examples/mllib/PCAOnRowMatrixExample.scala\n",
      "spark-3.0.0-bin-hadoop2.7/examples/src/main/scala/org/apache/spark/examples/mllib/NaiveBayesExample.scala\n",
      "spark-3.0.0-bin-hadoop2.7/examples/src/main/scala/org/apache/spark/examples/SparkTC.scala\n",
      "spark-3.0.0-bin-hadoop2.7/examples/src/main/scala/org/apache/spark/examples/DriverSubmissionTest.scala\n",
      "spark-3.0.0-bin-hadoop2.7/examples/src/main/scala/org/apache/spark/examples/MultiBroadcastTest.scala\n",
      "spark-3.0.0-bin-hadoop2.7/examples/src/main/scala/org/apache/spark/examples/SparkLR.scala\n",
      "spark-3.0.0-bin-hadoop2.7/examples/src/main/scala/org/apache/spark/examples/SparkPi.scala\n",
      "spark-3.0.0-bin-hadoop2.7/examples/src/main/scala/org/apache/spark/examples/graphx/\n",
      "spark-3.0.0-bin-hadoop2.7/examples/src/main/scala/org/apache/spark/examples/graphx/ConnectedComponentsExample.scala\n",
      "spark-3.0.0-bin-hadoop2.7/examples/src/main/scala/org/apache/spark/examples/graphx/LiveJournalPageRank.scala\n",
      "spark-3.0.0-bin-hadoop2.7/examples/src/main/scala/org/apache/spark/examples/graphx/AggregateMessagesExample.scala\n",
      "spark-3.0.0-bin-hadoop2.7/examples/src/main/scala/org/apache/spark/examples/graphx/SSSPExample.scala\n",
      "spark-3.0.0-bin-hadoop2.7/examples/src/main/scala/org/apache/spark/examples/graphx/SynthBenchmark.scala\n",
      "spark-3.0.0-bin-hadoop2.7/examples/src/main/scala/org/apache/spark/examples/graphx/TriangleCountingExample.scala\n",
      "spark-3.0.0-bin-hadoop2.7/examples/src/main/scala/org/apache/spark/examples/graphx/PageRankExample.scala\n",
      "spark-3.0.0-bin-hadoop2.7/examples/src/main/scala/org/apache/spark/examples/graphx/ComprehensiveExample.scala\n",
      "spark-3.0.0-bin-hadoop2.7/examples/src/main/scala/org/apache/spark/examples/graphx/Analytics.scala\n",
      "spark-3.0.0-bin-hadoop2.7/examples/src/main/scala/org/apache/spark/examples/SparkKMeans.scala\n",
      "spark-3.0.0-bin-hadoop2.7/examples/src/main/scala/org/apache/spark/examples/streaming/\n",
      "spark-3.0.0-bin-hadoop2.7/examples/src/main/scala/org/apache/spark/examples/streaming/clickstream/\n",
      "spark-3.0.0-bin-hadoop2.7/examples/src/main/scala/org/apache/spark/examples/streaming/clickstream/PageViewGenerator.scala\n",
      "spark-3.0.0-bin-hadoop2.7/examples/src/main/scala/org/apache/spark/examples/streaming/clickstream/PageViewStream.scala\n",
      "spark-3.0.0-bin-hadoop2.7/examples/src/main/scala/org/apache/spark/examples/streaming/DirectKafkaWordCount.scala\n",
      "spark-3.0.0-bin-hadoop2.7/examples/src/main/scala/org/apache/spark/examples/streaming/HdfsWordCount.scala\n",
      "spark-3.0.0-bin-hadoop2.7/examples/src/main/scala/org/apache/spark/examples/streaming/DirectKerberizedKafkaWordCount.scala\n",
      "spark-3.0.0-bin-hadoop2.7/examples/src/main/scala/org/apache/spark/examples/streaming/RecoverableNetworkWordCount.scala\n",
      "spark-3.0.0-bin-hadoop2.7/examples/src/main/scala/org/apache/spark/examples/streaming/NetworkWordCount.scala\n",
      "spark-3.0.0-bin-hadoop2.7/examples/src/main/scala/org/apache/spark/examples/streaming/QueueStream.scala\n",
      "spark-3.0.0-bin-hadoop2.7/examples/src/main/scala/org/apache/spark/examples/streaming/SqlNetworkWordCount.scala\n",
      "spark-3.0.0-bin-hadoop2.7/examples/src/main/scala/org/apache/spark/examples/streaming/CustomReceiver.scala\n",
      "spark-3.0.0-bin-hadoop2.7/examples/src/main/scala/org/apache/spark/examples/streaming/RawNetworkGrep.scala\n",
      "spark-3.0.0-bin-hadoop2.7/examples/src/main/scala/org/apache/spark/examples/streaming/StatefulNetworkWordCount.scala\n",
      "spark-3.0.0-bin-hadoop2.7/examples/src/main/scala/org/apache/spark/examples/streaming/StreamingExamples.scala\n",
      "spark-3.0.0-bin-hadoop2.7/examples/src/main/scala/org/apache/spark/examples/LocalLR.scala\n",
      "spark-3.0.0-bin-hadoop2.7/examples/src/main/scala/org/apache/spark/examples/LocalKMeans.scala\n",
      "spark-3.0.0-bin-hadoop2.7/examples/src/main/scala/org/apache/spark/examples/GroupByTest.scala\n",
      "spark-3.0.0-bin-hadoop2.7/examples/src/main/scala/org/apache/spark/examples/LocalALS.scala\n",
      "spark-3.0.0-bin-hadoop2.7/examples/src/main/scala/org/apache/spark/examples/sql/\n",
      "spark-3.0.0-bin-hadoop2.7/examples/src/main/scala/org/apache/spark/examples/sql/SimpleTypedAggregator.scala\n",
      "spark-3.0.0-bin-hadoop2.7/examples/src/main/scala/org/apache/spark/examples/sql/UserDefinedUntypedAggregation.scala\n",
      "spark-3.0.0-bin-hadoop2.7/examples/src/main/scala/org/apache/spark/examples/sql/hive/\n",
      "spark-3.0.0-bin-hadoop2.7/examples/src/main/scala/org/apache/spark/examples/sql/hive/SparkHiveExample.scala\n",
      "spark-3.0.0-bin-hadoop2.7/examples/src/main/scala/org/apache/spark/examples/sql/RDDRelation.scala\n",
      "spark-3.0.0-bin-hadoop2.7/examples/src/main/scala/org/apache/spark/examples/sql/SparkSQLExample.scala\n",
      "spark-3.0.0-bin-hadoop2.7/examples/src/main/scala/org/apache/spark/examples/sql/SQLDataSourceExample.scala\n",
      "spark-3.0.0-bin-hadoop2.7/examples/src/main/scala/org/apache/spark/examples/sql/streaming/\n",
      "spark-3.0.0-bin-hadoop2.7/examples/src/main/scala/org/apache/spark/examples/sql/streaming/StructuredKerberizedKafkaWordCount.scala\n",
      "spark-3.0.0-bin-hadoop2.7/examples/src/main/scala/org/apache/spark/examples/sql/streaming/StructuredNetworkWordCount.scala\n",
      "spark-3.0.0-bin-hadoop2.7/examples/src/main/scala/org/apache/spark/examples/sql/streaming/StructuredNetworkWordCountWindowed.scala\n",
      "spark-3.0.0-bin-hadoop2.7/examples/src/main/scala/org/apache/spark/examples/sql/streaming/StructuredKafkaWordCount.scala\n",
      "spark-3.0.0-bin-hadoop2.7/examples/src/main/scala/org/apache/spark/examples/sql/streaming/StructuredSessionization.scala\n",
      "spark-3.0.0-bin-hadoop2.7/examples/src/main/scala/org/apache/spark/examples/sql/UserDefinedTypedAggregation.scala\n",
      "spark-3.0.0-bin-hadoop2.7/examples/src/main/scala/org/apache/spark/examples/sql/UserDefinedScalar.scala\n",
      "spark-3.0.0-bin-hadoop2.7/examples/src/main/scala/org/apache/spark/examples/SimpleSkewedGroupByTest.scala\n",
      "spark-3.0.0-bin-hadoop2.7/examples/src/main/scala/org/apache/spark/examples/LocalFileLR.scala\n",
      "spark-3.0.0-bin-hadoop2.7/examples/src/main/scala/org/apache/spark/examples/LocalPi.scala\n",
      "spark-3.0.0-bin-hadoop2.7/examples/src/main/scala/org/apache/spark/examples/DFSReadWriteTest.scala\n",
      "spark-3.0.0-bin-hadoop2.7/examples/src/main/scala/org/apache/spark/examples/SparkALS.scala\n",
      "spark-3.0.0-bin-hadoop2.7/examples/src/main/resources/\n",
      "spark-3.0.0-bin-hadoop2.7/examples/src/main/resources/people.json\n",
      "spark-3.0.0-bin-hadoop2.7/examples/src/main/resources/users.avro\n",
      "spark-3.0.0-bin-hadoop2.7/examples/src/main/resources/people.csv\n",
      "spark-3.0.0-bin-hadoop2.7/examples/src/main/resources/users.parquet\n",
      "spark-3.0.0-bin-hadoop2.7/examples/src/main/resources/users.orc\n",
      "spark-3.0.0-bin-hadoop2.7/examples/src/main/resources/dir1/\n",
      "spark-3.0.0-bin-hadoop2.7/examples/src/main/resources/dir1/file1.parquet\n",
      "spark-3.0.0-bin-hadoop2.7/examples/src/main/resources/dir1/dir2/\n",
      "spark-3.0.0-bin-hadoop2.7/examples/src/main/resources/dir1/dir2/file2.parquet\n",
      "spark-3.0.0-bin-hadoop2.7/examples/src/main/resources/dir1/file3.json\n",
      "spark-3.0.0-bin-hadoop2.7/examples/src/main/resources/user.avsc\n",
      "spark-3.0.0-bin-hadoop2.7/examples/src/main/resources/full_user.avsc\n",
      "spark-3.0.0-bin-hadoop2.7/examples/src/main/resources/kv1.txt\n",
      "spark-3.0.0-bin-hadoop2.7/examples/src/main/resources/people.txt\n",
      "spark-3.0.0-bin-hadoop2.7/examples/src/main/resources/employees.json\n",
      "spark-3.0.0-bin-hadoop2.7/examples/src/main/java/\n",
      "spark-3.0.0-bin-hadoop2.7/examples/src/main/java/org/\n",
      "spark-3.0.0-bin-hadoop2.7/examples/src/main/java/org/apache/\n",
      "spark-3.0.0-bin-hadoop2.7/examples/src/main/java/org/apache/spark/\n",
      "spark-3.0.0-bin-hadoop2.7/examples/src/main/java/org/apache/spark/examples/\n",
      "spark-3.0.0-bin-hadoop2.7/examples/src/main/java/org/apache/spark/examples/ml/\n",
      "spark-3.0.0-bin-hadoop2.7/examples/src/main/java/org/apache/spark/examples/ml/JavaStringIndexerExample.java\n",
      "spark-3.0.0-bin-hadoop2.7/examples/src/main/java/org/apache/spark/examples/ml/JavaChiSqSelectorExample.java\n",
      "spark-3.0.0-bin-hadoop2.7/examples/src/main/java/org/apache/spark/examples/ml/JavaLabeledDocument.java\n",
      "spark-3.0.0-bin-hadoop2.7/examples/src/main/java/org/apache/spark/examples/ml/JavaLogisticRegressionWithElasticNetExample.java\n",
      "spark-3.0.0-bin-hadoop2.7/examples/src/main/java/org/apache/spark/examples/ml/JavaPolynomialExpansionExample.java\n",
      "spark-3.0.0-bin-hadoop2.7/examples/src/main/java/org/apache/spark/examples/ml/JavaTfIdfExample.java\n",
      "spark-3.0.0-bin-hadoop2.7/examples/src/main/java/org/apache/spark/examples/ml/JavaBucketizerExample.java\n",
      "spark-3.0.0-bin-hadoop2.7/examples/src/main/java/org/apache/spark/examples/ml/JavaLogisticRegressionSummaryExample.java\n",
      "spark-3.0.0-bin-hadoop2.7/examples/src/main/java/org/apache/spark/examples/ml/JavaSummarizerExample.java\n",
      "spark-3.0.0-bin-hadoop2.7/examples/src/main/java/org/apache/spark/examples/ml/JavaQuantileDiscretizerExample.java\n",
      "spark-3.0.0-bin-hadoop2.7/examples/src/main/java/org/apache/spark/examples/ml/JavaBinarizerExample.java\n",
      "spark-3.0.0-bin-hadoop2.7/examples/src/main/java/org/apache/spark/examples/ml/JavaOneHotEncoderExample.java\n",
      "spark-3.0.0-bin-hadoop2.7/examples/src/main/java/org/apache/spark/examples/ml/JavaStandardScalerExample.java\n",
      "spark-3.0.0-bin-hadoop2.7/examples/src/main/java/org/apache/spark/examples/ml/JavaDCTExample.java\n",
      "spark-3.0.0-bin-hadoop2.7/examples/src/main/java/org/apache/spark/examples/ml/JavaDecisionTreeRegressionExample.java\n",
      "spark-3.0.0-bin-hadoop2.7/examples/src/main/java/org/apache/spark/examples/ml/JavaRandomForestClassifierExample.java\n",
      "spark-3.0.0-bin-hadoop2.7/examples/src/main/java/org/apache/spark/examples/ml/JavaOneVsRestExample.java\n",
      "spark-3.0.0-bin-hadoop2.7/examples/src/main/java/org/apache/spark/examples/ml/JavaGeneralizedLinearRegressionExample.java\n",
      "spark-3.0.0-bin-hadoop2.7/examples/src/main/java/org/apache/spark/examples/ml/JavaGaussianMixtureExample.java\n",
      "spark-3.0.0-bin-hadoop2.7/examples/src/main/java/org/apache/spark/examples/ml/JavaWord2VecExample.java\n",
      "spark-3.0.0-bin-hadoop2.7/examples/src/main/java/org/apache/spark/examples/ml/JavaNormalizerExample.java\n",
      "spark-3.0.0-bin-hadoop2.7/examples/src/main/java/org/apache/spark/examples/ml/JavaLDAExample.java\n",
      "spark-3.0.0-bin-hadoop2.7/examples/src/main/java/org/apache/spark/examples/ml/JavaCountVectorizerExample.java\n",
      "spark-3.0.0-bin-hadoop2.7/examples/src/main/java/org/apache/spark/examples/ml/JavaMultilayerPerceptronClassifierExample.java\n",
      "spark-3.0.0-bin-hadoop2.7/examples/src/main/java/org/apache/spark/examples/ml/JavaMinMaxScalerExample.java\n",
      "spark-3.0.0-bin-hadoop2.7/examples/src/main/java/org/apache/spark/examples/ml/JavaCorrelationExample.java\n",
      "spark-3.0.0-bin-hadoop2.7/examples/src/main/java/org/apache/spark/examples/ml/JavaNGramExample.java\n",
      "spark-3.0.0-bin-hadoop2.7/examples/src/main/java/org/apache/spark/examples/ml/JavaImputerExample.java\n",
      "spark-3.0.0-bin-hadoop2.7/examples/src/main/java/org/apache/spark/examples/ml/JavaMinHashLSHExample.java\n",
      "spark-3.0.0-bin-hadoop2.7/examples/src/main/java/org/apache/spark/examples/ml/JavaVectorSizeHintExample.java\n",
      "spark-3.0.0-bin-hadoop2.7/examples/src/main/java/org/apache/spark/examples/ml/JavaFMClassifierExample.java\n",
      "spark-3.0.0-bin-hadoop2.7/examples/src/main/java/org/apache/spark/examples/ml/JavaFeatureHasherExample.java\n",
      "spark-3.0.0-bin-hadoop2.7/examples/src/main/java/org/apache/spark/examples/ml/JavaModelSelectionViaTrainValidationSplitExample.java\n",
      "spark-3.0.0-bin-hadoop2.7/examples/src/main/java/org/apache/spark/examples/ml/JavaSQLTransformerExample.java\n",
      "spark-3.0.0-bin-hadoop2.7/examples/src/main/java/org/apache/spark/examples/ml/JavaKMeansExample.java\n",
      "spark-3.0.0-bin-hadoop2.7/examples/src/main/java/org/apache/spark/examples/ml/JavaVectorAssemblerExample.java\n",
      "spark-3.0.0-bin-hadoop2.7/examples/src/main/java/org/apache/spark/examples/ml/JavaGradientBoostedTreeRegressorExample.java\n",
      "spark-3.0.0-bin-hadoop2.7/examples/src/main/java/org/apache/spark/examples/ml/JavaPrefixSpanExample.java\n",
      "spark-3.0.0-bin-hadoop2.7/examples/src/main/java/org/apache/spark/examples/ml/JavaFMRegressorExample.java\n",
      "spark-3.0.0-bin-hadoop2.7/examples/src/main/java/org/apache/spark/examples/ml/JavaNaiveBayesExample.java\n",
      "spark-3.0.0-bin-hadoop2.7/examples/src/main/java/org/apache/spark/examples/ml/JavaMulticlassLogisticRegressionWithElasticNetExample.java\n",
      "spark-3.0.0-bin-hadoop2.7/examples/src/main/java/org/apache/spark/examples/ml/JavaModelSelectionViaCrossValidationExample.java\n",
      "spark-3.0.0-bin-hadoop2.7/examples/src/main/java/org/apache/spark/examples/ml/JavaDocument.java\n",
      "spark-3.0.0-bin-hadoop2.7/examples/src/main/java/org/apache/spark/examples/ml/JavaGradientBoostedTreeClassifierExample.java\n",
      "spark-3.0.0-bin-hadoop2.7/examples/src/main/java/org/apache/spark/examples/ml/JavaRandomForestRegressorExample.java\n",
      "spark-3.0.0-bin-hadoop2.7/examples/src/main/java/org/apache/spark/examples/ml/JavaAFTSurvivalRegressionExample.java\n",
      "spark-3.0.0-bin-hadoop2.7/examples/src/main/java/org/apache/spark/examples/ml/JavaIsotonicRegressionExample.java\n",
      "spark-3.0.0-bin-hadoop2.7/examples/src/main/java/org/apache/spark/examples/ml/JavaElementwiseProductExample.java\n",
      "spark-3.0.0-bin-hadoop2.7/examples/src/main/java/org/apache/spark/examples/ml/JavaALSExample.java\n",
      "spark-3.0.0-bin-hadoop2.7/examples/src/main/java/org/apache/spark/examples/ml/JavaBucketedRandomProjectionLSHExample.java\n",
      "spark-3.0.0-bin-hadoop2.7/examples/src/main/java/org/apache/spark/examples/ml/JavaVectorSlicerExample.java\n",
      "spark-3.0.0-bin-hadoop2.7/examples/src/main/java/org/apache/spark/examples/ml/JavaTokenizerExample.java\n",
      "spark-3.0.0-bin-hadoop2.7/examples/src/main/java/org/apache/spark/examples/ml/JavaRFormulaExample.java\n",
      "spark-3.0.0-bin-hadoop2.7/examples/src/main/java/org/apache/spark/examples/ml/JavaEstimatorTransformerParamExample.java\n",
      "spark-3.0.0-bin-hadoop2.7/examples/src/main/java/org/apache/spark/examples/ml/JavaPowerIterationClusteringExample.java\n",
      "spark-3.0.0-bin-hadoop2.7/examples/src/main/java/org/apache/spark/examples/ml/JavaBisectingKMeansExample.java\n",
      "spark-3.0.0-bin-hadoop2.7/examples/src/main/java/org/apache/spark/examples/ml/JavaMaxAbsScalerExample.java\n",
      "spark-3.0.0-bin-hadoop2.7/examples/src/main/java/org/apache/spark/examples/ml/JavaDecisionTreeClassificationExample.java\n",
      "spark-3.0.0-bin-hadoop2.7/examples/src/main/java/org/apache/spark/examples/ml/JavaPCAExample.java\n",
      "spark-3.0.0-bin-hadoop2.7/examples/src/main/java/org/apache/spark/examples/ml/JavaPipelineExample.java\n",
      "spark-3.0.0-bin-hadoop2.7/examples/src/main/java/org/apache/spark/examples/ml/JavaStopWordsRemoverExample.java\n",
      "spark-3.0.0-bin-hadoop2.7/examples/src/main/java/org/apache/spark/examples/ml/JavaIndexToStringExample.java\n",
      "spark-3.0.0-bin-hadoop2.7/examples/src/main/java/org/apache/spark/examples/ml/JavaFPGrowthExample.java\n",
      "spark-3.0.0-bin-hadoop2.7/examples/src/main/java/org/apache/spark/examples/ml/JavaVectorIndexerExample.java\n",
      "spark-3.0.0-bin-hadoop2.7/examples/src/main/java/org/apache/spark/examples/ml/JavaInteractionExample.java\n",
      "spark-3.0.0-bin-hadoop2.7/examples/src/main/java/org/apache/spark/examples/ml/JavaChiSquareTestExample.java\n",
      "spark-3.0.0-bin-hadoop2.7/examples/src/main/java/org/apache/spark/examples/ml/JavaRobustScalerExample.java\n",
      "spark-3.0.0-bin-hadoop2.7/examples/src/main/java/org/apache/spark/examples/ml/JavaLinearRegressionWithElasticNetExample.java\n",
      "spark-3.0.0-bin-hadoop2.7/examples/src/main/java/org/apache/spark/examples/ml/JavaLinearSVCExample.java\n",
      "spark-3.0.0-bin-hadoop2.7/examples/src/main/java/org/apache/spark/examples/JavaWordCount.java\n",
      "spark-3.0.0-bin-hadoop2.7/examples/src/main/java/org/apache/spark/examples/JavaHdfsLR.java\n",
      "spark-3.0.0-bin-hadoop2.7/examples/src/main/java/org/apache/spark/examples/JavaStatusTrackerDemo.java\n",
      "spark-3.0.0-bin-hadoop2.7/examples/src/main/java/org/apache/spark/examples/mllib/\n",
      "spark-3.0.0-bin-hadoop2.7/examples/src/main/java/org/apache/spark/examples/mllib/JavaChiSqSelectorExample.java\n",
      "spark-3.0.0-bin-hadoop2.7/examples/src/main/java/org/apache/spark/examples/mllib/JavaHypothesisTestingKolmogorovSmirnovTestExample.java\n",
      "spark-3.0.0-bin-hadoop2.7/examples/src/main/java/org/apache/spark/examples/mllib/JavaRandomForestRegressionExample.java\n",
      "spark-3.0.0-bin-hadoop2.7/examples/src/main/java/org/apache/spark/examples/mllib/JavaSimpleFPGrowth.java\n",
      "spark-3.0.0-bin-hadoop2.7/examples/src/main/java/org/apache/spark/examples/mllib/JavaRandomForestClassificationExample.java\n",
      "spark-3.0.0-bin-hadoop2.7/examples/src/main/java/org/apache/spark/examples/mllib/JavaMulticlassClassificationMetricsExample.java\n",
      "spark-3.0.0-bin-hadoop2.7/examples/src/main/java/org/apache/spark/examples/mllib/JavaKernelDensityEstimationExample.java\n",
      "spark-3.0.0-bin-hadoop2.7/examples/src/main/java/org/apache/spark/examples/mllib/JavaSummaryStatisticsExample.java\n",
      "spark-3.0.0-bin-hadoop2.7/examples/src/main/java/org/apache/spark/examples/mllib/JavaDecisionTreeRegressionExample.java\n",
      "spark-3.0.0-bin-hadoop2.7/examples/src/main/java/org/apache/spark/examples/mllib/JavaGradientBoostingClassificationExample.java\n",
      "spark-3.0.0-bin-hadoop2.7/examples/src/main/java/org/apache/spark/examples/mllib/JavaGaussianMixtureExample.java\n",
      "spark-3.0.0-bin-hadoop2.7/examples/src/main/java/org/apache/spark/examples/mllib/JavaStratifiedSamplingExample.java\n",
      "spark-3.0.0-bin-hadoop2.7/examples/src/main/java/org/apache/spark/examples/mllib/JavaSVDExample.java\n",
      "spark-3.0.0-bin-hadoop2.7/examples/src/main/java/org/apache/spark/examples/mllib/JavaAssociationRulesExample.java\n",
      "spark-3.0.0-bin-hadoop2.7/examples/src/main/java/org/apache/spark/examples/mllib/JavaALS.java\n",
      "spark-3.0.0-bin-hadoop2.7/examples/src/main/java/org/apache/spark/examples/mllib/JavaKMeansExample.java\n",
      "spark-3.0.0-bin-hadoop2.7/examples/src/main/java/org/apache/spark/examples/mllib/JavaSVMWithSGDExample.java\n",
      "spark-3.0.0-bin-hadoop2.7/examples/src/main/java/org/apache/spark/examples/mllib/JavaPrefixSpanExample.java\n",
      "spark-3.0.0-bin-hadoop2.7/examples/src/main/java/org/apache/spark/examples/mllib/JavaNaiveBayesExample.java\n",
      "spark-3.0.0-bin-hadoop2.7/examples/src/main/java/org/apache/spark/examples/mllib/JavaLogisticRegressionWithLBFGSExample.java\n",
      "spark-3.0.0-bin-hadoop2.7/examples/src/main/java/org/apache/spark/examples/mllib/JavaLBFGSExample.java\n",
      "spark-3.0.0-bin-hadoop2.7/examples/src/main/java/org/apache/spark/examples/mllib/JavaGradientBoostingRegressionExample.java\n",
      "spark-3.0.0-bin-hadoop2.7/examples/src/main/java/org/apache/spark/examples/mllib/JavaRankingMetricsExample.java\n",
      "spark-3.0.0-bin-hadoop2.7/examples/src/main/java/org/apache/spark/examples/mllib/JavaIsotonicRegressionExample.java\n",
      "spark-3.0.0-bin-hadoop2.7/examples/src/main/java/org/apache/spark/examples/mllib/JavaElementwiseProductExample.java\n",
      "spark-3.0.0-bin-hadoop2.7/examples/src/main/java/org/apache/spark/examples/mllib/JavaCorrelationsExample.java\n",
      "spark-3.0.0-bin-hadoop2.7/examples/src/main/java/org/apache/spark/examples/mllib/JavaPowerIterationClusteringExample.java\n",
      "spark-3.0.0-bin-hadoop2.7/examples/src/main/java/org/apache/spark/examples/mllib/JavaBisectingKMeansExample.java\n",
      "spark-3.0.0-bin-hadoop2.7/examples/src/main/java/org/apache/spark/examples/mllib/JavaDecisionTreeClassificationExample.java\n",
      "spark-3.0.0-bin-hadoop2.7/examples/src/main/java/org/apache/spark/examples/mllib/JavaPCAExample.java\n",
      "spark-3.0.0-bin-hadoop2.7/examples/src/main/java/org/apache/spark/examples/mllib/JavaRecommendationExample.java\n",
      "spark-3.0.0-bin-hadoop2.7/examples/src/main/java/org/apache/spark/examples/mllib/JavaLatentDirichletAllocationExample.java\n",
      "spark-3.0.0-bin-hadoop2.7/examples/src/main/java/org/apache/spark/examples/mllib/JavaHypothesisTestingExample.java\n",
      "spark-3.0.0-bin-hadoop2.7/examples/src/main/java/org/apache/spark/examples/mllib/JavaMultiLabelClassificationMetricsExample.java\n",
      "spark-3.0.0-bin-hadoop2.7/examples/src/main/java/org/apache/spark/examples/mllib/JavaBinaryClassificationMetricsExample.java\n",
      "spark-3.0.0-bin-hadoop2.7/examples/src/main/java/org/apache/spark/examples/mllib/JavaStreamingTestExample.java\n",
      "spark-3.0.0-bin-hadoop2.7/examples/src/main/java/org/apache/spark/examples/JavaPageRank.java\n",
      "spark-3.0.0-bin-hadoop2.7/examples/src/main/java/org/apache/spark/examples/JavaLogQuery.java\n",
      "spark-3.0.0-bin-hadoop2.7/examples/src/main/java/org/apache/spark/examples/streaming/\n",
      "spark-3.0.0-bin-hadoop2.7/examples/src/main/java/org/apache/spark/examples/streaming/JavaStatefulNetworkWordCount.java\n",
      "spark-3.0.0-bin-hadoop2.7/examples/src/main/java/org/apache/spark/examples/streaming/JavaCustomReceiver.java\n",
      "spark-3.0.0-bin-hadoop2.7/examples/src/main/java/org/apache/spark/examples/streaming/JavaRecord.java\n",
      "spark-3.0.0-bin-hadoop2.7/examples/src/main/java/org/apache/spark/examples/streaming/JavaNetworkWordCount.java\n",
      "spark-3.0.0-bin-hadoop2.7/examples/src/main/java/org/apache/spark/examples/streaming/JavaDirectKerberizedKafkaWordCount.java\n",
      "spark-3.0.0-bin-hadoop2.7/examples/src/main/java/org/apache/spark/examples/streaming/JavaDirectKafkaWordCount.java\n",
      "spark-3.0.0-bin-hadoop2.7/examples/src/main/java/org/apache/spark/examples/streaming/JavaSqlNetworkWordCount.java\n",
      "spark-3.0.0-bin-hadoop2.7/examples/src/main/java/org/apache/spark/examples/streaming/JavaRecoverableNetworkWordCount.java\n",
      "spark-3.0.0-bin-hadoop2.7/examples/src/main/java/org/apache/spark/examples/streaming/JavaQueueStream.java\n",
      "spark-3.0.0-bin-hadoop2.7/examples/src/main/java/org/apache/spark/examples/JavaSparkPi.java\n",
      "spark-3.0.0-bin-hadoop2.7/examples/src/main/java/org/apache/spark/examples/sql/\n",
      "spark-3.0.0-bin-hadoop2.7/examples/src/main/java/org/apache/spark/examples/sql/JavaUserDefinedScalar.java\n",
      "spark-3.0.0-bin-hadoop2.7/examples/src/main/java/org/apache/spark/examples/sql/hive/\n",
      "spark-3.0.0-bin-hadoop2.7/examples/src/main/java/org/apache/spark/examples/sql/hive/JavaSparkHiveExample.java\n",
      "spark-3.0.0-bin-hadoop2.7/examples/src/main/java/org/apache/spark/examples/sql/JavaUserDefinedTypedAggregation.java\n",
      "spark-3.0.0-bin-hadoop2.7/examples/src/main/java/org/apache/spark/examples/sql/JavaSQLDataSourceExample.java\n",
      "spark-3.0.0-bin-hadoop2.7/examples/src/main/java/org/apache/spark/examples/sql/JavaSparkSQLExample.java\n",
      "spark-3.0.0-bin-hadoop2.7/examples/src/main/java/org/apache/spark/examples/sql/JavaUserDefinedUntypedAggregation.java\n",
      "spark-3.0.0-bin-hadoop2.7/examples/src/main/java/org/apache/spark/examples/sql/streaming/\n",
      "spark-3.0.0-bin-hadoop2.7/examples/src/main/java/org/apache/spark/examples/sql/streaming/JavaStructuredKafkaWordCount.java\n",
      "spark-3.0.0-bin-hadoop2.7/examples/src/main/java/org/apache/spark/examples/sql/streaming/JavaStructuredNetworkWordCountWindowed.java\n",
      "spark-3.0.0-bin-hadoop2.7/examples/src/main/java/org/apache/spark/examples/sql/streaming/JavaStructuredSessionization.java\n",
      "spark-3.0.0-bin-hadoop2.7/examples/src/main/java/org/apache/spark/examples/sql/streaming/JavaStructuredNetworkWordCount.java\n",
      "spark-3.0.0-bin-hadoop2.7/examples/src/main/java/org/apache/spark/examples/sql/streaming/JavaStructuredKerberizedKafkaWordCount.java\n",
      "spark-3.0.0-bin-hadoop2.7/examples/src/main/java/org/apache/spark/examples/JavaTC.java\n",
      "spark-3.0.0-bin-hadoop2.7/examples/src/main/scripts/\n",
      "spark-3.0.0-bin-hadoop2.7/examples/src/main/scripts/getGpusResources.sh\n",
      "spark-3.0.0-bin-hadoop2.7/examples/src/main/python/\n",
      "spark-3.0.0-bin-hadoop2.7/examples/src/main/python/kmeans.py\n",
      "spark-3.0.0-bin-hadoop2.7/examples/src/main/python/ml/\n",
      "spark-3.0.0-bin-hadoop2.7/examples/src/main/python/ml/dct_example.py\n",
      "spark-3.0.0-bin-hadoop2.7/examples/src/main/python/ml/count_vectorizer_example.py\n",
      "spark-3.0.0-bin-hadoop2.7/examples/src/main/python/ml/chisq_selector_example.py\n",
      "spark-3.0.0-bin-hadoop2.7/examples/src/main/python/ml/gradient_boosted_tree_regressor_example.py\n",
      "spark-3.0.0-bin-hadoop2.7/examples/src/main/python/ml/tf_idf_example.py\n",
      "spark-3.0.0-bin-hadoop2.7/examples/src/main/python/ml/cross_validator.py\n",
      "spark-3.0.0-bin-hadoop2.7/examples/src/main/python/ml/linear_regression_with_elastic_net.py\n",
      "spark-3.0.0-bin-hadoop2.7/examples/src/main/python/ml/normalizer_example.py\n",
      "spark-3.0.0-bin-hadoop2.7/examples/src/main/python/ml/fm_regressor_example.py\n",
      "spark-3.0.0-bin-hadoop2.7/examples/src/main/python/ml/polynomial_expansion_example.py\n",
      "spark-3.0.0-bin-hadoop2.7/examples/src/main/python/ml/pipeline_example.py\n",
      "spark-3.0.0-bin-hadoop2.7/examples/src/main/python/ml/generalized_linear_regression_example.py\n",
      "spark-3.0.0-bin-hadoop2.7/examples/src/main/python/ml/multilayer_perceptron_classification.py\n",
      "spark-3.0.0-bin-hadoop2.7/examples/src/main/python/ml/bisecting_k_means_example.py\n",
      "spark-3.0.0-bin-hadoop2.7/examples/src/main/python/ml/chi_square_test_example.py\n",
      "spark-3.0.0-bin-hadoop2.7/examples/src/main/python/ml/train_validation_split.py\n",
      "spark-3.0.0-bin-hadoop2.7/examples/src/main/python/ml/stopwords_remover_example.py\n",
      "spark-3.0.0-bin-hadoop2.7/examples/src/main/python/ml/linearsvc.py\n",
      "spark-3.0.0-bin-hadoop2.7/examples/src/main/python/ml/lda_example.py\n",
      "spark-3.0.0-bin-hadoop2.7/examples/src/main/python/ml/random_forest_regressor_example.py\n",
      "spark-3.0.0-bin-hadoop2.7/examples/src/main/python/ml/vector_assembler_example.py\n",
      "spark-3.0.0-bin-hadoop2.7/examples/src/main/python/ml/word2vec_example.py\n",
      "spark-3.0.0-bin-hadoop2.7/examples/src/main/python/ml/string_indexer_example.py\n",
      "spark-3.0.0-bin-hadoop2.7/examples/src/main/python/ml/decision_tree_classification_example.py\n",
      "spark-3.0.0-bin-hadoop2.7/examples/src/main/python/ml/index_to_string_example.py\n",
      "spark-3.0.0-bin-hadoop2.7/examples/src/main/python/ml/bucketizer_example.py\n",
      "spark-3.0.0-bin-hadoop2.7/examples/src/main/python/ml/vector_size_hint_example.py\n",
      "spark-3.0.0-bin-hadoop2.7/examples/src/main/python/ml/vector_indexer_example.py\n",
      "spark-3.0.0-bin-hadoop2.7/examples/src/main/python/ml/tokenizer_example.py\n",
      "spark-3.0.0-bin-hadoop2.7/examples/src/main/python/ml/robust_scaler_example.py\n",
      "spark-3.0.0-bin-hadoop2.7/examples/src/main/python/ml/standard_scaler_example.py\n",
      "spark-3.0.0-bin-hadoop2.7/examples/src/main/python/ml/kmeans_example.py\n",
      "spark-3.0.0-bin-hadoop2.7/examples/src/main/python/ml/power_iteration_clustering_example.py\n",
      "spark-3.0.0-bin-hadoop2.7/examples/src/main/python/ml/naive_bayes_example.py\n",
      "spark-3.0.0-bin-hadoop2.7/examples/src/main/python/ml/pca_example.py\n",
      "spark-3.0.0-bin-hadoop2.7/examples/src/main/python/ml/aft_survival_regression.py\n",
      "spark-3.0.0-bin-hadoop2.7/examples/src/main/python/ml/min_max_scaler_example.py\n",
      "spark-3.0.0-bin-hadoop2.7/examples/src/main/python/ml/elementwise_product_example.py\n",
      "spark-3.0.0-bin-hadoop2.7/examples/src/main/python/ml/dataframe_example.py\n",
      "spark-3.0.0-bin-hadoop2.7/examples/src/main/python/ml/n_gram_example.py\n",
      "spark-3.0.0-bin-hadoop2.7/examples/src/main/python/ml/rformula_example.py\n",
      "spark-3.0.0-bin-hadoop2.7/examples/src/main/python/ml/one_vs_rest_example.py\n",
      "spark-3.0.0-bin-hadoop2.7/examples/src/main/python/ml/als_example.py\n",
      "spark-3.0.0-bin-hadoop2.7/examples/src/main/python/ml/onehot_encoder_example.py\n",
      "spark-3.0.0-bin-hadoop2.7/examples/src/main/python/ml/vector_slicer_example.py\n",
      "spark-3.0.0-bin-hadoop2.7/examples/src/main/python/ml/logistic_regression_with_elastic_net.py\n",
      "spark-3.0.0-bin-hadoop2.7/examples/src/main/python/ml/sql_transformer.py\n",
      "spark-3.0.0-bin-hadoop2.7/examples/src/main/python/ml/multiclass_logistic_regression_with_elastic_net.py\n",
      "spark-3.0.0-bin-hadoop2.7/examples/src/main/python/ml/summarizer_example.py\n",
      "spark-3.0.0-bin-hadoop2.7/examples/src/main/python/ml/quantile_discretizer_example.py\n",
      "spark-3.0.0-bin-hadoop2.7/examples/src/main/python/ml/feature_hasher_example.py\n",
      "spark-3.0.0-bin-hadoop2.7/examples/src/main/python/ml/imputer_example.py\n",
      "spark-3.0.0-bin-hadoop2.7/examples/src/main/python/ml/bucketed_random_projection_lsh_example.py\n",
      "spark-3.0.0-bin-hadoop2.7/examples/src/main/python/ml/estimator_transformer_param_example.py\n",
      "spark-3.0.0-bin-hadoop2.7/examples/src/main/python/ml/gradient_boosted_tree_classifier_example.py\n",
      "spark-3.0.0-bin-hadoop2.7/examples/src/main/python/ml/logistic_regression_summary_example.py\n",
      "spark-3.0.0-bin-hadoop2.7/examples/src/main/python/ml/decision_tree_regression_example.py\n",
      "spark-3.0.0-bin-hadoop2.7/examples/src/main/python/ml/fm_classifier_example.py\n",
      "spark-3.0.0-bin-hadoop2.7/examples/src/main/python/ml/gaussian_mixture_example.py\n",
      "spark-3.0.0-bin-hadoop2.7/examples/src/main/python/ml/fpgrowth_example.py\n",
      "spark-3.0.0-bin-hadoop2.7/examples/src/main/python/ml/random_forest_classifier_example.py\n",
      "spark-3.0.0-bin-hadoop2.7/examples/src/main/python/ml/correlation_example.py\n",
      "spark-3.0.0-bin-hadoop2.7/examples/src/main/python/ml/min_hash_lsh_example.py\n",
      "spark-3.0.0-bin-hadoop2.7/examples/src/main/python/ml/binarizer_example.py\n",
      "spark-3.0.0-bin-hadoop2.7/examples/src/main/python/ml/prefixspan_example.py\n",
      "spark-3.0.0-bin-hadoop2.7/examples/src/main/python/ml/max_abs_scaler_example.py\n",
      "spark-3.0.0-bin-hadoop2.7/examples/src/main/python/ml/isotonic_regression_example.py\n",
      "spark-3.0.0-bin-hadoop2.7/examples/src/main/python/ml/interaction_example.py\n",
      "spark-3.0.0-bin-hadoop2.7/examples/src/main/python/logistic_regression.py\n",
      "spark-3.0.0-bin-hadoop2.7/examples/src/main/python/als.py\n",
      "spark-3.0.0-bin-hadoop2.7/examples/src/main/python/mllib/\n",
      "spark-3.0.0-bin-hadoop2.7/examples/src/main/python/mllib/word2vec.py\n",
      "spark-3.0.0-bin-hadoop2.7/examples/src/main/python/mllib/correlations_example.py\n",
      "spark-3.0.0-bin-hadoop2.7/examples/src/main/python/mllib/gradient_boosting_classification_example.py\n",
      "spark-3.0.0-bin-hadoop2.7/examples/src/main/python/mllib/kernel_density_estimation_example.py\n",
      "spark-3.0.0-bin-hadoop2.7/examples/src/main/python/mllib/hypothesis_testing_example.py\n",
      "spark-3.0.0-bin-hadoop2.7/examples/src/main/python/mllib/svd_example.py\n",
      "spark-3.0.0-bin-hadoop2.7/examples/src/main/python/mllib/kmeans.py\n",
      "spark-3.0.0-bin-hadoop2.7/examples/src/main/python/mllib/latent_dirichlet_allocation_example.py\n",
      "spark-3.0.0-bin-hadoop2.7/examples/src/main/python/mllib/tf_idf_example.py\n",
      "spark-3.0.0-bin-hadoop2.7/examples/src/main/python/mllib/correlations.py\n",
      "spark-3.0.0-bin-hadoop2.7/examples/src/main/python/mllib/random_forest_regression_example.py\n",
      "spark-3.0.0-bin-hadoop2.7/examples/src/main/python/mllib/normalizer_example.py\n",
      "spark-3.0.0-bin-hadoop2.7/examples/src/main/python/mllib/logistic_regression.py\n",
      "spark-3.0.0-bin-hadoop2.7/examples/src/main/python/mllib/multi_label_metrics_example.py\n",
      "spark-3.0.0-bin-hadoop2.7/examples/src/main/python/mllib/gradient_boosting_regression_example.py\n",
      "spark-3.0.0-bin-hadoop2.7/examples/src/main/python/mllib/random_forest_classification_example.py\n",
      "spark-3.0.0-bin-hadoop2.7/examples/src/main/python/mllib/streaming_linear_regression_example.py\n",
      "spark-3.0.0-bin-hadoop2.7/examples/src/main/python/mllib/sampled_rdds.py\n",
      "spark-3.0.0-bin-hadoop2.7/examples/src/main/python/mllib/bisecting_k_means_example.py\n",
      "spark-3.0.0-bin-hadoop2.7/examples/src/main/python/mllib/logistic_regression_with_lbfgs_example.py\n",
      "spark-3.0.0-bin-hadoop2.7/examples/src/main/python/mllib/k_means_example.py\n",
      "spark-3.0.0-bin-hadoop2.7/examples/src/main/python/mllib/streaming_k_means_example.py\n",
      "spark-3.0.0-bin-hadoop2.7/examples/src/main/python/mllib/word2vec_example.py\n",
      "spark-3.0.0-bin-hadoop2.7/examples/src/main/python/mllib/multi_class_metrics_example.py\n",
      "spark-3.0.0-bin-hadoop2.7/examples/src/main/python/mllib/decision_tree_classification_example.py\n",
      "spark-3.0.0-bin-hadoop2.7/examples/src/main/python/mllib/summary_statistics_example.py\n",
      "spark-3.0.0-bin-hadoop2.7/examples/src/main/python/mllib/binary_classification_metrics_example.py\n",
      "spark-3.0.0-bin-hadoop2.7/examples/src/main/python/mllib/standard_scaler_example.py\n",
      "spark-3.0.0-bin-hadoop2.7/examples/src/main/python/mllib/power_iteration_clustering_example.py\n",
      "spark-3.0.0-bin-hadoop2.7/examples/src/main/python/mllib/gaussian_mixture_model.py\n",
      "spark-3.0.0-bin-hadoop2.7/examples/src/main/python/mllib/regression_metrics_example.py\n",
      "spark-3.0.0-bin-hadoop2.7/examples/src/main/python/mllib/naive_bayes_example.py\n",
      "spark-3.0.0-bin-hadoop2.7/examples/src/main/python/mllib/elementwise_product_example.py\n",
      "spark-3.0.0-bin-hadoop2.7/examples/src/main/python/mllib/linear_regression_with_sgd_example.py\n",
      "spark-3.0.0-bin-hadoop2.7/examples/src/main/python/mllib/pca_rowmatrix_example.py\n",
      "spark-3.0.0-bin-hadoop2.7/examples/src/main/python/mllib/hypothesis_testing_kolmogorov_smirnov_test_example.py\n",
      "spark-3.0.0-bin-hadoop2.7/examples/src/main/python/mllib/random_rdd_generation.py\n",
      "spark-3.0.0-bin-hadoop2.7/examples/src/main/python/mllib/decision_tree_regression_example.py\n",
      "spark-3.0.0-bin-hadoop2.7/examples/src/main/python/mllib/gaussian_mixture_example.py\n",
      "spark-3.0.0-bin-hadoop2.7/examples/src/main/python/mllib/recommendation_example.py\n",
      "spark-3.0.0-bin-hadoop2.7/examples/src/main/python/mllib/fpgrowth_example.py\n",
      "spark-3.0.0-bin-hadoop2.7/examples/src/main/python/mllib/ranking_metrics_example.py\n",
      "spark-3.0.0-bin-hadoop2.7/examples/src/main/python/mllib/svm_with_sgd_example.py\n",
      "spark-3.0.0-bin-hadoop2.7/examples/src/main/python/mllib/isotonic_regression_example.py\n",
      "spark-3.0.0-bin-hadoop2.7/examples/src/main/python/mllib/stratified_sampling_example.py\n",
      "spark-3.0.0-bin-hadoop2.7/examples/src/main/python/wordcount.py\n",
      "spark-3.0.0-bin-hadoop2.7/examples/src/main/python/status_api_demo.py\n",
      "spark-3.0.0-bin-hadoop2.7/examples/src/main/python/pagerank.py\n",
      "spark-3.0.0-bin-hadoop2.7/examples/src/main/python/sort.py\n",
      "spark-3.0.0-bin-hadoop2.7/examples/src/main/python/transitive_closure.py\n",
      "spark-3.0.0-bin-hadoop2.7/examples/src/main/python/avro_inputformat.py\n",
      "spark-3.0.0-bin-hadoop2.7/examples/src/main/python/pi.py\n",
      "spark-3.0.0-bin-hadoop2.7/examples/src/main/python/streaming/\n",
      "spark-3.0.0-bin-hadoop2.7/examples/src/main/python/streaming/queue_stream.py\n",
      "spark-3.0.0-bin-hadoop2.7/examples/src/main/python/streaming/stateful_network_wordcount.py\n",
      "spark-3.0.0-bin-hadoop2.7/examples/src/main/python/streaming/network_wordjoinsentiments.py\n",
      "spark-3.0.0-bin-hadoop2.7/examples/src/main/python/streaming/sql_network_wordcount.py\n",
      "spark-3.0.0-bin-hadoop2.7/examples/src/main/python/streaming/network_wordcount.py\n",
      "spark-3.0.0-bin-hadoop2.7/examples/src/main/python/streaming/hdfs_wordcount.py\n",
      "spark-3.0.0-bin-hadoop2.7/examples/src/main/python/streaming/recoverable_network_wordcount.py\n",
      "spark-3.0.0-bin-hadoop2.7/examples/src/main/python/sql/\n",
      "spark-3.0.0-bin-hadoop2.7/examples/src/main/python/sql/datasource.py\n",
      "spark-3.0.0-bin-hadoop2.7/examples/src/main/python/sql/hive.py\n",
      "spark-3.0.0-bin-hadoop2.7/examples/src/main/python/sql/arrow.py\n",
      "spark-3.0.0-bin-hadoop2.7/examples/src/main/python/sql/streaming/\n",
      "spark-3.0.0-bin-hadoop2.7/examples/src/main/python/sql/streaming/structured_network_wordcount_windowed.py\n",
      "spark-3.0.0-bin-hadoop2.7/examples/src/main/python/sql/streaming/structured_network_wordcount.py\n",
      "spark-3.0.0-bin-hadoop2.7/examples/src/main/python/sql/streaming/structured_kafka_wordcount.py\n",
      "spark-3.0.0-bin-hadoop2.7/examples/src/main/python/sql/basic.py\n",
      "spark-3.0.0-bin-hadoop2.7/examples/src/main/python/parquet_inputformat.py\n",
      "spark-3.0.0-bin-hadoop2.7/examples/jars/\n",
      "spark-3.0.0-bin-hadoop2.7/examples/jars/spark-examples_2.12-3.0.0.jar\n",
      "spark-3.0.0-bin-hadoop2.7/examples/jars/scopt_2.12-3.7.1.jar\n",
      "spark-3.0.0-bin-hadoop2.7/conf/\n",
      "spark-3.0.0-bin-hadoop2.7/conf/slaves.template\n",
      "spark-3.0.0-bin-hadoop2.7/conf/metrics.properties.template\n",
      "spark-3.0.0-bin-hadoop2.7/conf/fairscheduler.xml.template\n",
      "spark-3.0.0-bin-hadoop2.7/conf/log4j.properties.template\n",
      "spark-3.0.0-bin-hadoop2.7/conf/spark-defaults.conf.template\n",
      "spark-3.0.0-bin-hadoop2.7/conf/spark-env.sh.template\n",
      "spark-3.0.0-bin-hadoop2.7/bin/\n",
      "spark-3.0.0-bin-hadoop2.7/bin/sparkR.cmd\n",
      "spark-3.0.0-bin-hadoop2.7/bin/sparkR\n",
      "spark-3.0.0-bin-hadoop2.7/bin/spark-submit\n",
      "spark-3.0.0-bin-hadoop2.7/bin/pyspark2.cmd\n",
      "spark-3.0.0-bin-hadoop2.7/bin/spark-class\n",
      "spark-3.0.0-bin-hadoop2.7/bin/pyspark.cmd\n",
      "spark-3.0.0-bin-hadoop2.7/bin/spark-submit2.cmd\n",
      "spark-3.0.0-bin-hadoop2.7/bin/load-spark-env.cmd\n",
      "spark-3.0.0-bin-hadoop2.7/bin/spark-sql\n",
      "spark-3.0.0-bin-hadoop2.7/bin/docker-image-tool.sh\n",
      "spark-3.0.0-bin-hadoop2.7/bin/find-spark-home.cmd\n",
      "spark-3.0.0-bin-hadoop2.7/bin/load-spark-env.sh\n",
      "spark-3.0.0-bin-hadoop2.7/bin/pyspark\n",
      "spark-3.0.0-bin-hadoop2.7/bin/spark-shell.cmd\n",
      "spark-3.0.0-bin-hadoop2.7/bin/spark-shell2.cmd\n",
      "spark-3.0.0-bin-hadoop2.7/bin/spark-submit.cmd\n",
      "spark-3.0.0-bin-hadoop2.7/bin/beeline.cmd\n",
      "spark-3.0.0-bin-hadoop2.7/bin/find-spark-home\n",
      "spark-3.0.0-bin-hadoop2.7/bin/spark-class.cmd\n",
      "spark-3.0.0-bin-hadoop2.7/bin/sparkR2.cmd\n",
      "spark-3.0.0-bin-hadoop2.7/bin/beeline\n",
      "spark-3.0.0-bin-hadoop2.7/bin/spark-class2.cmd\n",
      "spark-3.0.0-bin-hadoop2.7/bin/spark-sql.cmd\n",
      "spark-3.0.0-bin-hadoop2.7/bin/run-example\n",
      "spark-3.0.0-bin-hadoop2.7/bin/spark-shell\n",
      "spark-3.0.0-bin-hadoop2.7/bin/run-example.cmd\n",
      "spark-3.0.0-bin-hadoop2.7/bin/spark-sql2.cmd\n",
      "spark-3.0.0-bin-hadoop2.7/python/\n",
      "spark-3.0.0-bin-hadoop2.7/python/.gitignore\n",
      "spark-3.0.0-bin-hadoop2.7/python/run-tests-with-coverage\n",
      "spark-3.0.0-bin-hadoop2.7/python/pylintrc\n",
      "spark-3.0.0-bin-hadoop2.7/python/MANIFEST.in\n",
      "spark-3.0.0-bin-hadoop2.7/python/README.md\n",
      "spark-3.0.0-bin-hadoop2.7/python/test_coverage/\n",
      "spark-3.0.0-bin-hadoop2.7/python/test_coverage/coverage_daemon.py\n",
      "spark-3.0.0-bin-hadoop2.7/python/test_coverage/conf/\n",
      "spark-3.0.0-bin-hadoop2.7/python/test_coverage/conf/spark-defaults.conf\n",
      "spark-3.0.0-bin-hadoop2.7/python/test_coverage/sitecustomize.py\n",
      "spark-3.0.0-bin-hadoop2.7/python/run-tests.py\n",
      "spark-3.0.0-bin-hadoop2.7/python/setup.py\n",
      "spark-3.0.0-bin-hadoop2.7/python/test_support/\n",
      "spark-3.0.0-bin-hadoop2.7/python/test_support/userlibrary.py\n",
      "spark-3.0.0-bin-hadoop2.7/python/test_support/hello/\n",
      "spark-3.0.0-bin-hadoop2.7/python/test_support/hello/sub_hello/\n",
      "spark-3.0.0-bin-hadoop2.7/python/test_support/hello/sub_hello/sub_hello.txt\n",
      "spark-3.0.0-bin-hadoop2.7/python/test_support/hello/hello.txt\n",
      "spark-3.0.0-bin-hadoop2.7/python/test_support/userlib-0.1.zip\n",
      "spark-3.0.0-bin-hadoop2.7/python/test_support/SimpleHTTPServer.py\n",
      "spark-3.0.0-bin-hadoop2.7/python/test_support/sql/\n",
      "spark-3.0.0-bin-hadoop2.7/python/test_support/sql/people.json\n",
      "spark-3.0.0-bin-hadoop2.7/python/test_support/sql/people_array.json\n",
      "spark-3.0.0-bin-hadoop2.7/python/test_support/sql/people_array_utf16le.json\n",
      "spark-3.0.0-bin-hadoop2.7/python/test_support/sql/text-test.txt\n",
      "spark-3.0.0-bin-hadoop2.7/python/test_support/sql/ages.csv\n",
      "spark-3.0.0-bin-hadoop2.7/python/test_support/sql/parquet_partitioned/\n",
      "spark-3.0.0-bin-hadoop2.7/python/test_support/sql/parquet_partitioned/year=2015/\n",
      "spark-3.0.0-bin-hadoop2.7/python/test_support/sql/parquet_partitioned/year=2015/month=10/\n",
      "spark-3.0.0-bin-hadoop2.7/python/test_support/sql/parquet_partitioned/year=2015/month=10/day=26/\n",
      "spark-3.0.0-bin-hadoop2.7/python/test_support/sql/parquet_partitioned/year=2015/month=10/day=26/.part-r-00005.gz.parquet.crc\n",
      "spark-3.0.0-bin-hadoop2.7/python/test_support/sql/parquet_partitioned/year=2015/month=10/day=26/part-r-00005.gz.parquet\n",
      "spark-3.0.0-bin-hadoop2.7/python/test_support/sql/parquet_partitioned/year=2015/month=10/day=25/\n",
      "spark-3.0.0-bin-hadoop2.7/python/test_support/sql/parquet_partitioned/year=2015/month=10/day=25/.part-r-00002.gz.parquet.crc\n",
      "spark-3.0.0-bin-hadoop2.7/python/test_support/sql/parquet_partitioned/year=2015/month=10/day=25/.part-r-00004.gz.parquet.crc\n",
      "spark-3.0.0-bin-hadoop2.7/python/test_support/sql/parquet_partitioned/year=2015/month=10/day=25/part-r-00004.gz.parquet\n",
      "spark-3.0.0-bin-hadoop2.7/python/test_support/sql/parquet_partitioned/year=2015/month=10/day=25/part-r-00002.gz.parquet\n",
      "spark-3.0.0-bin-hadoop2.7/python/test_support/sql/parquet_partitioned/year=2015/month=9/\n",
      "spark-3.0.0-bin-hadoop2.7/python/test_support/sql/parquet_partitioned/year=2015/month=9/day=1/\n",
      "spark-3.0.0-bin-hadoop2.7/python/test_support/sql/parquet_partitioned/year=2015/month=9/day=1/.part-r-00007.gz.parquet.crc\n",
      "spark-3.0.0-bin-hadoop2.7/python/test_support/sql/parquet_partitioned/year=2015/month=9/day=1/part-r-00007.gz.parquet\n",
      "spark-3.0.0-bin-hadoop2.7/python/test_support/sql/parquet_partitioned/_metadata\n",
      "spark-3.0.0-bin-hadoop2.7/python/test_support/sql/parquet_partitioned/year=2014/\n",
      "spark-3.0.0-bin-hadoop2.7/python/test_support/sql/parquet_partitioned/year=2014/month=9/\n",
      "spark-3.0.0-bin-hadoop2.7/python/test_support/sql/parquet_partitioned/year=2014/month=9/day=1/\n",
      "spark-3.0.0-bin-hadoop2.7/python/test_support/sql/parquet_partitioned/year=2014/month=9/day=1/.part-r-00008.gz.parquet.crc\n",
      "spark-3.0.0-bin-hadoop2.7/python/test_support/sql/parquet_partitioned/year=2014/month=9/day=1/part-r-00008.gz.parquet\n",
      "spark-3.0.0-bin-hadoop2.7/python/test_support/sql/parquet_partitioned/_common_metadata\n",
      "spark-3.0.0-bin-hadoop2.7/python/test_support/sql/parquet_partitioned/_SUCCESS\n",
      "spark-3.0.0-bin-hadoop2.7/python/test_support/sql/orc_partitioned/\n",
      "spark-3.0.0-bin-hadoop2.7/python/test_support/sql/orc_partitioned/b=1/\n",
      "spark-3.0.0-bin-hadoop2.7/python/test_support/sql/orc_partitioned/b=1/c=1/\n",
      "spark-3.0.0-bin-hadoop2.7/python/test_support/sql/orc_partitioned/b=1/c=1/part-r-00000-829af031-b970-49d6-ad39-30460a0be2c8.orc\n",
      "spark-3.0.0-bin-hadoop2.7/python/test_support/sql/orc_partitioned/b=1/c=1/.part-r-00000-829af031-b970-49d6-ad39-30460a0be2c8.orc.crc\n",
      "spark-3.0.0-bin-hadoop2.7/python/test_support/sql/orc_partitioned/b=0/\n",
      "spark-3.0.0-bin-hadoop2.7/python/test_support/sql/orc_partitioned/b=0/c=0/\n",
      "spark-3.0.0-bin-hadoop2.7/python/test_support/sql/orc_partitioned/b=0/c=0/part-r-00000-829af031-b970-49d6-ad39-30460a0be2c8.orc\n",
      "spark-3.0.0-bin-hadoop2.7/python/test_support/sql/orc_partitioned/b=0/c=0/.part-r-00000-829af031-b970-49d6-ad39-30460a0be2c8.orc.crc\n",
      "spark-3.0.0-bin-hadoop2.7/python/test_support/sql/orc_partitioned/_SUCCESS\n",
      "spark-3.0.0-bin-hadoop2.7/python/test_support/sql/ages_newlines.csv\n",
      "spark-3.0.0-bin-hadoop2.7/python/test_support/sql/streaming/\n",
      "spark-3.0.0-bin-hadoop2.7/python/test_support/sql/streaming/text-test.txt\n",
      "spark-3.0.0-bin-hadoop2.7/python/test_support/sql/people1.json\n",
      "spark-3.0.0-bin-hadoop2.7/python/pyspark/\n",
      "spark-3.0.0-bin-hadoop2.7/python/pyspark/tests/\n",
      "spark-3.0.0-bin-hadoop2.7/python/pyspark/tests/test_rddbarrier.py\n",
      "spark-3.0.0-bin-hadoop2.7/python/pyspark/tests/test_worker.py\n",
      "spark-3.0.0-bin-hadoop2.7/python/pyspark/tests/test_serializers.py\n",
      "spark-3.0.0-bin-hadoop2.7/python/pyspark/tests/test_util.py\n",
      "spark-3.0.0-bin-hadoop2.7/python/pyspark/tests/test_rdd.py\n",
      "spark-3.0.0-bin-hadoop2.7/python/pyspark/tests/__init__.py\n",
      "spark-3.0.0-bin-hadoop2.7/python/pyspark/tests/test_broadcast.py\n",
      "spark-3.0.0-bin-hadoop2.7/python/pyspark/tests/test_appsubmit.py\n",
      "spark-3.0.0-bin-hadoop2.7/python/pyspark/tests/test_profiler.py\n",
      "spark-3.0.0-bin-hadoop2.7/python/pyspark/tests/test_pin_thread.py\n",
      "spark-3.0.0-bin-hadoop2.7/python/pyspark/tests/test_shuffle.py\n",
      "spark-3.0.0-bin-hadoop2.7/python/pyspark/tests/test_join.py\n",
      "spark-3.0.0-bin-hadoop2.7/python/pyspark/tests/test_taskcontext.py\n",
      "spark-3.0.0-bin-hadoop2.7/python/pyspark/tests/test_context.py\n",
      "spark-3.0.0-bin-hadoop2.7/python/pyspark/tests/test_readwrite.py\n",
      "spark-3.0.0-bin-hadoop2.7/python/pyspark/tests/test_conf.py\n",
      "spark-3.0.0-bin-hadoop2.7/python/pyspark/tests/test_daemon.py\n",
      "spark-3.0.0-bin-hadoop2.7/python/pyspark/testing/\n",
      "spark-3.0.0-bin-hadoop2.7/python/pyspark/testing/mlutils.py\n",
      "spark-3.0.0-bin-hadoop2.7/python/pyspark/testing/__init__.py\n",
      "spark-3.0.0-bin-hadoop2.7/python/pyspark/testing/mllibutils.py\n",
      "spark-3.0.0-bin-hadoop2.7/python/pyspark/testing/utils.py\n",
      "spark-3.0.0-bin-hadoop2.7/python/pyspark/testing/sqlutils.py\n",
      "spark-3.0.0-bin-hadoop2.7/python/pyspark/testing/streamingutils.py\n",
      "spark-3.0.0-bin-hadoop2.7/python/pyspark/accumulators.py\n",
      "spark-3.0.0-bin-hadoop2.7/python/pyspark/rddsampler.py\n",
      "spark-3.0.0-bin-hadoop2.7/python/pyspark/ml/\n",
      "spark-3.0.0-bin-hadoop2.7/python/pyspark/ml/tests/\n",
      "spark-3.0.0-bin-hadoop2.7/python/pyspark/ml/tests/test_algorithms.py\n",
      "spark-3.0.0-bin-hadoop2.7/python/pyspark/ml/tests/test_evaluation.py\n",
      "spark-3.0.0-bin-hadoop2.7/python/pyspark/ml/tests/test_feature.py\n",
      "spark-3.0.0-bin-hadoop2.7/python/pyspark/ml/tests/test_pipeline.py\n",
      "spark-3.0.0-bin-hadoop2.7/python/pyspark/ml/tests/test_wrapper.py\n",
      "spark-3.0.0-bin-hadoop2.7/python/pyspark/ml/tests/__init__.py\n",
      "spark-3.0.0-bin-hadoop2.7/python/pyspark/ml/tests/test_tuning.py\n",
      "spark-3.0.0-bin-hadoop2.7/python/pyspark/ml/tests/test_persistence.py\n",
      "spark-3.0.0-bin-hadoop2.7/python/pyspark/ml/tests/test_param.py\n",
      "spark-3.0.0-bin-hadoop2.7/python/pyspark/ml/tests/test_training_summary.py\n",
      "spark-3.0.0-bin-hadoop2.7/python/pyspark/ml/tests/test_linalg.py\n",
      "spark-3.0.0-bin-hadoop2.7/python/pyspark/ml/tests/test_image.py\n",
      "spark-3.0.0-bin-hadoop2.7/python/pyspark/ml/tests/test_stat.py\n",
      "spark-3.0.0-bin-hadoop2.7/python/pyspark/ml/tests/test_base.py\n",
      "spark-3.0.0-bin-hadoop2.7/python/pyspark/ml/functions.py\n",
      "spark-3.0.0-bin-hadoop2.7/python/pyspark/ml/tuning.py\n",
      "spark-3.0.0-bin-hadoop2.7/python/pyspark/ml/pipeline.py\n",
      "spark-3.0.0-bin-hadoop2.7/python/pyspark/ml/base.py\n",
      "spark-3.0.0-bin-hadoop2.7/python/pyspark/ml/feature.py\n",
      "spark-3.0.0-bin-hadoop2.7/python/pyspark/ml/__init__.py\n",
      "spark-3.0.0-bin-hadoop2.7/python/pyspark/ml/stat.py\n",
      "spark-3.0.0-bin-hadoop2.7/python/pyspark/ml/image.py\n",
      "spark-3.0.0-bin-hadoop2.7/python/pyspark/ml/classification.py\n",
      "spark-3.0.0-bin-hadoop2.7/python/pyspark/ml/recommendation.py\n",
      "spark-3.0.0-bin-hadoop2.7/python/pyspark/ml/regression.py\n",
      "spark-3.0.0-bin-hadoop2.7/python/pyspark/ml/param/\n",
      "spark-3.0.0-bin-hadoop2.7/python/pyspark/ml/param/_shared_params_code_gen.py\n",
      "spark-3.0.0-bin-hadoop2.7/python/pyspark/ml/param/__init__.py\n",
      "spark-3.0.0-bin-hadoop2.7/python/pyspark/ml/param/shared.py\n",
      "spark-3.0.0-bin-hadoop2.7/python/pyspark/ml/tree.py\n",
      "spark-3.0.0-bin-hadoop2.7/python/pyspark/ml/fpm.py\n",
      "spark-3.0.0-bin-hadoop2.7/python/pyspark/ml/wrapper.py\n",
      "spark-3.0.0-bin-hadoop2.7/python/pyspark/ml/clustering.py\n",
      "spark-3.0.0-bin-hadoop2.7/python/pyspark/ml/common.py\n",
      "spark-3.0.0-bin-hadoop2.7/python/pyspark/ml/linalg/\n",
      "spark-3.0.0-bin-hadoop2.7/python/pyspark/ml/linalg/__init__.py\n",
      "spark-3.0.0-bin-hadoop2.7/python/pyspark/ml/evaluation.py\n",
      "spark-3.0.0-bin-hadoop2.7/python/pyspark/ml/util.py\n",
      "spark-3.0.0-bin-hadoop2.7/python/pyspark/find_spark_home.py\n",
      "spark-3.0.0-bin-hadoop2.7/python/pyspark/heapq3.py\n",
      "spark-3.0.0-bin-hadoop2.7/python/pyspark/serializers.py\n",
      "spark-3.0.0-bin-hadoop2.7/python/pyspark/java_gateway.py\n",
      "spark-3.0.0-bin-hadoop2.7/python/pyspark/traceback_utils.py\n",
      "spark-3.0.0-bin-hadoop2.7/python/pyspark/conf.py\n",
      "spark-3.0.0-bin-hadoop2.7/python/pyspark/__init__.py\n",
      "spark-3.0.0-bin-hadoop2.7/python/pyspark/mllib/\n",
      "spark-3.0.0-bin-hadoop2.7/python/pyspark/mllib/tests/\n",
      "spark-3.0.0-bin-hadoop2.7/python/pyspark/mllib/tests/test_algorithms.py\n",
      "spark-3.0.0-bin-hadoop2.7/python/pyspark/mllib/tests/test_streaming_algorithms.py\n",
      "spark-3.0.0-bin-hadoop2.7/python/pyspark/mllib/tests/test_util.py\n",
      "spark-3.0.0-bin-hadoop2.7/python/pyspark/mllib/tests/test_feature.py\n",
      "spark-3.0.0-bin-hadoop2.7/python/pyspark/mllib/tests/__init__.py\n",
      "spark-3.0.0-bin-hadoop2.7/python/pyspark/mllib/tests/test_linalg.py\n",
      "spark-3.0.0-bin-hadoop2.7/python/pyspark/mllib/tests/test_stat.py\n",
      "spark-3.0.0-bin-hadoop2.7/python/pyspark/mllib/feature.py\n",
      "spark-3.0.0-bin-hadoop2.7/python/pyspark/mllib/__init__.py\n",
      "spark-3.0.0-bin-hadoop2.7/python/pyspark/mllib/classification.py\n",
      "spark-3.0.0-bin-hadoop2.7/python/pyspark/mllib/recommendation.py\n",
      "spark-3.0.0-bin-hadoop2.7/python/pyspark/mllib/regression.py\n",
      "spark-3.0.0-bin-hadoop2.7/python/pyspark/mllib/tree.py\n",
      "spark-3.0.0-bin-hadoop2.7/python/pyspark/mllib/fpm.py\n",
      "spark-3.0.0-bin-hadoop2.7/python/pyspark/mllib/random.py\n",
      "spark-3.0.0-bin-hadoop2.7/python/pyspark/mllib/stat/\n",
      "spark-3.0.0-bin-hadoop2.7/python/pyspark/mllib/stat/distribution.py\n",
      "spark-3.0.0-bin-hadoop2.7/python/pyspark/mllib/stat/__init__.py\n",
      "spark-3.0.0-bin-hadoop2.7/python/pyspark/mllib/stat/KernelDensity.py\n",
      "spark-3.0.0-bin-hadoop2.7/python/pyspark/mllib/stat/test.py\n",
      "spark-3.0.0-bin-hadoop2.7/python/pyspark/mllib/stat/_statistics.py\n",
      "spark-3.0.0-bin-hadoop2.7/python/pyspark/mllib/clustering.py\n",
      "spark-3.0.0-bin-hadoop2.7/python/pyspark/mllib/common.py\n",
      "spark-3.0.0-bin-hadoop2.7/python/pyspark/mllib/linalg/\n",
      "spark-3.0.0-bin-hadoop2.7/python/pyspark/mllib/linalg/__init__.py\n",
      "spark-3.0.0-bin-hadoop2.7/python/pyspark/mllib/linalg/distributed.py\n",
      "spark-3.0.0-bin-hadoop2.7/python/pyspark/mllib/evaluation.py\n",
      "spark-3.0.0-bin-hadoop2.7/python/pyspark/mllib/util.py\n",
      "spark-3.0.0-bin-hadoop2.7/python/pyspark/resultiterable.py\n",
      "spark-3.0.0-bin-hadoop2.7/python/pyspark/profiler.py\n",
      "spark-3.0.0-bin-hadoop2.7/python/pyspark/statcounter.py\n",
      "spark-3.0.0-bin-hadoop2.7/python/pyspark/join.py\n",
      "spark-3.0.0-bin-hadoop2.7/python/pyspark/daemon.py\n",
      "spark-3.0.0-bin-hadoop2.7/python/pyspark/rdd.py\n",
      "spark-3.0.0-bin-hadoop2.7/python/pyspark/context.py\n",
      "spark-3.0.0-bin-hadoop2.7/python/pyspark/cloudpickle.py\n",
      "spark-3.0.0-bin-hadoop2.7/python/pyspark/version.py\n",
      "spark-3.0.0-bin-hadoop2.7/python/pyspark/resource.py\n",
      "spark-3.0.0-bin-hadoop2.7/python/pyspark/files.py\n",
      "spark-3.0.0-bin-hadoop2.7/python/pyspark/worker.py\n",
      "spark-3.0.0-bin-hadoop2.7/python/pyspark/shell.py\n",
      "spark-3.0.0-bin-hadoop2.7/python/pyspark/streaming/\n",
      "spark-3.0.0-bin-hadoop2.7/python/pyspark/streaming/tests/\n",
      "spark-3.0.0-bin-hadoop2.7/python/pyspark/streaming/tests/test_listener.py\n",
      "spark-3.0.0-bin-hadoop2.7/python/pyspark/streaming/tests/test_kinesis.py\n",
      "spark-3.0.0-bin-hadoop2.7/python/pyspark/streaming/tests/__init__.py\n",
      "spark-3.0.0-bin-hadoop2.7/python/pyspark/streaming/tests/test_dstream.py\n",
      "spark-3.0.0-bin-hadoop2.7/python/pyspark/streaming/tests/test_context.py\n",
      "spark-3.0.0-bin-hadoop2.7/python/pyspark/streaming/dstream.py\n",
      "spark-3.0.0-bin-hadoop2.7/python/pyspark/streaming/__init__.py\n",
      "spark-3.0.0-bin-hadoop2.7/python/pyspark/streaming/kinesis.py\n",
      "spark-3.0.0-bin-hadoop2.7/python/pyspark/streaming/listener.py\n",
      "spark-3.0.0-bin-hadoop2.7/python/pyspark/streaming/context.py\n",
      "spark-3.0.0-bin-hadoop2.7/python/pyspark/streaming/util.py\n",
      "spark-3.0.0-bin-hadoop2.7/python/pyspark/status.py\n",
      "spark-3.0.0-bin-hadoop2.7/python/pyspark/sql/\n",
      "spark-3.0.0-bin-hadoop2.7/python/pyspark/sql/tests/\n",
      "spark-3.0.0-bin-hadoop2.7/python/pyspark/sql/tests/test_functions.py\n",
      "spark-3.0.0-bin-hadoop2.7/python/pyspark/sql/tests/test_readwriter.py\n",
      "spark-3.0.0-bin-hadoop2.7/python/pyspark/sql/tests/test_utils.py\n",
      "spark-3.0.0-bin-hadoop2.7/python/pyspark/sql/tests/test_pandas_grouped_map.py\n",
      "spark-3.0.0-bin-hadoop2.7/python/pyspark/sql/tests/test_dataframe.py\n",
      "spark-3.0.0-bin-hadoop2.7/python/pyspark/sql/tests/test_pandas_map.py\n",
      "spark-3.0.0-bin-hadoop2.7/python/pyspark/sql/tests/test_udf.py\n",
      "spark-3.0.0-bin-hadoop2.7/python/pyspark/sql/tests/test_streaming.py\n",
      "spark-3.0.0-bin-hadoop2.7/python/pyspark/sql/tests/__init__.py\n",
      "spark-3.0.0-bin-hadoop2.7/python/pyspark/sql/tests/test_serde.py\n",
      "spark-3.0.0-bin-hadoop2.7/python/pyspark/sql/tests/test_pandas_udf_window.py\n",
      "spark-3.0.0-bin-hadoop2.7/python/pyspark/sql/tests/test_group.py\n",
      "spark-3.0.0-bin-hadoop2.7/python/pyspark/sql/tests/test_pandas_udf.py\n",
      "spark-3.0.0-bin-hadoop2.7/python/pyspark/sql/tests/test_pandas_cogrouped_map.py\n",
      "spark-3.0.0-bin-hadoop2.7/python/pyspark/sql/tests/test_pandas_udf_grouped_agg.py\n",
      "spark-3.0.0-bin-hadoop2.7/python/pyspark/sql/tests/test_pandas_udf_scalar.py\n",
      "spark-3.0.0-bin-hadoop2.7/python/pyspark/sql/tests/test_catalog.py\n",
      "spark-3.0.0-bin-hadoop2.7/python/pyspark/sql/tests/test_datasources.py\n",
      "spark-3.0.0-bin-hadoop2.7/python/pyspark/sql/tests/test_pandas_udf_typehints.py\n",
      "spark-3.0.0-bin-hadoop2.7/python/pyspark/sql/tests/test_types.py\n",
      "spark-3.0.0-bin-hadoop2.7/python/pyspark/sql/tests/test_column.py\n",
      "spark-3.0.0-bin-hadoop2.7/python/pyspark/sql/tests/test_context.py\n",
      "spark-3.0.0-bin-hadoop2.7/python/pyspark/sql/tests/test_conf.py\n",
      "spark-3.0.0-bin-hadoop2.7/python/pyspark/sql/tests/test_arrow.py\n",
      "spark-3.0.0-bin-hadoop2.7/python/pyspark/sql/tests/test_session.py\n",
      "spark-3.0.0-bin-hadoop2.7/python/pyspark/sql/pandas/\n",
      "spark-3.0.0-bin-hadoop2.7/python/pyspark/sql/pandas/functions.py\n",
      "spark-3.0.0-bin-hadoop2.7/python/pyspark/sql/pandas/serializers.py\n",
      "spark-3.0.0-bin-hadoop2.7/python/pyspark/sql/pandas/__init__.py\n",
      "spark-3.0.0-bin-hadoop2.7/python/pyspark/sql/pandas/typehints.py\n",
      "spark-3.0.0-bin-hadoop2.7/python/pyspark/sql/pandas/map_ops.py\n",
      "spark-3.0.0-bin-hadoop2.7/python/pyspark/sql/pandas/types.py\n",
      "spark-3.0.0-bin-hadoop2.7/python/pyspark/sql/pandas/group_ops.py\n",
      "spark-3.0.0-bin-hadoop2.7/python/pyspark/sql/pandas/utils.py\n",
      "spark-3.0.0-bin-hadoop2.7/python/pyspark/sql/pandas/conversion.py\n",
      "spark-3.0.0-bin-hadoop2.7/python/pyspark/sql/functions.py\n",
      "spark-3.0.0-bin-hadoop2.7/python/pyspark/sql/readwriter.py\n",
      "spark-3.0.0-bin-hadoop2.7/python/pyspark/sql/catalog.py\n",
      "spark-3.0.0-bin-hadoop2.7/python/pyspark/sql/window.py\n",
      "spark-3.0.0-bin-hadoop2.7/python/pyspark/sql/udf.py\n",
      "spark-3.0.0-bin-hadoop2.7/python/pyspark/sql/conf.py\n",
      "spark-3.0.0-bin-hadoop2.7/python/pyspark/sql/__init__.py\n",
      "spark-3.0.0-bin-hadoop2.7/python/pyspark/sql/session.py\n",
      "spark-3.0.0-bin-hadoop2.7/python/pyspark/sql/column.py\n",
      "spark-3.0.0-bin-hadoop2.7/python/pyspark/sql/group.py\n",
      "spark-3.0.0-bin-hadoop2.7/python/pyspark/sql/context.py\n",
      "spark-3.0.0-bin-hadoop2.7/python/pyspark/sql/types.py\n",
      "spark-3.0.0-bin-hadoop2.7/python/pyspark/sql/dataframe.py\n",
      "spark-3.0.0-bin-hadoop2.7/python/pyspark/sql/avro/\n",
      "spark-3.0.0-bin-hadoop2.7/python/pyspark/sql/avro/functions.py\n",
      "spark-3.0.0-bin-hadoop2.7/python/pyspark/sql/avro/__init__.py\n",
      "spark-3.0.0-bin-hadoop2.7/python/pyspark/sql/utils.py\n",
      "spark-3.0.0-bin-hadoop2.7/python/pyspark/sql/streaming.py\n",
      "spark-3.0.0-bin-hadoop2.7/python/pyspark/python/\n",
      "spark-3.0.0-bin-hadoop2.7/python/pyspark/python/pyspark/\n",
      "spark-3.0.0-bin-hadoop2.7/python/pyspark/python/pyspark/shell.py\n",
      "spark-3.0.0-bin-hadoop2.7/python/pyspark/shuffle.py\n",
      "spark-3.0.0-bin-hadoop2.7/python/pyspark/taskcontext.py\n",
      "spark-3.0.0-bin-hadoop2.7/python/pyspark/_globals.py\n",
      "spark-3.0.0-bin-hadoop2.7/python/pyspark/broadcast.py\n",
      "spark-3.0.0-bin-hadoop2.7/python/pyspark/util.py\n",
      "spark-3.0.0-bin-hadoop2.7/python/pyspark/storagelevel.py\n",
      "spark-3.0.0-bin-hadoop2.7/python/.coveragerc\n",
      "spark-3.0.0-bin-hadoop2.7/python/docs/\n",
      "spark-3.0.0-bin-hadoop2.7/python/docs/index.rst\n",
      "spark-3.0.0-bin-hadoop2.7/python/docs/conf.py\n",
      "spark-3.0.0-bin-hadoop2.7/python/docs/pyspark.ml.rst\n",
      "spark-3.0.0-bin-hadoop2.7/python/docs/pyspark.rst\n",
      "spark-3.0.0-bin-hadoop2.7/python/docs/_templates/\n",
      "spark-3.0.0-bin-hadoop2.7/python/docs/_templates/layout.html\n",
      "spark-3.0.0-bin-hadoop2.7/python/docs/_static/\n",
      "spark-3.0.0-bin-hadoop2.7/python/docs/_static/pyspark.css\n",
      "spark-3.0.0-bin-hadoop2.7/python/docs/_static/copybutton.js\n",
      "spark-3.0.0-bin-hadoop2.7/python/docs/_static/pyspark.js\n",
      "spark-3.0.0-bin-hadoop2.7/python/docs/pyspark.mllib.rst\n",
      "spark-3.0.0-bin-hadoop2.7/python/docs/make2.bat\n",
      "spark-3.0.0-bin-hadoop2.7/python/docs/pyspark.streaming.rst\n",
      "spark-3.0.0-bin-hadoop2.7/python/docs/pyspark.sql.rst\n",
      "spark-3.0.0-bin-hadoop2.7/python/docs/make.bat\n",
      "spark-3.0.0-bin-hadoop2.7/python/docs/Makefile\n",
      "spark-3.0.0-bin-hadoop2.7/python/docs/pyspark.resource.rst\n",
      "spark-3.0.0-bin-hadoop2.7/python/lib/\n",
      "spark-3.0.0-bin-hadoop2.7/python/lib/PY4J_LICENSE.txt\n",
      "spark-3.0.0-bin-hadoop2.7/python/lib/py4j-0.10.9-src.zip\n",
      "spark-3.0.0-bin-hadoop2.7/python/lib/pyspark.zip\n",
      "spark-3.0.0-bin-hadoop2.7/python/run-tests\n",
      "spark-3.0.0-bin-hadoop2.7/python/setup.cfg\n",
      "spark-3.0.0-bin-hadoop2.7/python/dist/\n",
      "spark-3.0.0-bin-hadoop2.7/python/pyspark.egg-info/\n",
      "spark-3.0.0-bin-hadoop2.7/python/pyspark.egg-info/dependency_links.txt\n",
      "spark-3.0.0-bin-hadoop2.7/python/pyspark.egg-info/PKG-INFO\n",
      "spark-3.0.0-bin-hadoop2.7/python/pyspark.egg-info/top_level.txt\n",
      "spark-3.0.0-bin-hadoop2.7/python/pyspark.egg-info/requires.txt\n",
      "spark-3.0.0-bin-hadoop2.7/python/pyspark.egg-info/SOURCES.txt\n",
      "spark-3.0.0-bin-hadoop2.7/licenses/\n",
      "spark-3.0.0-bin-hadoop2.7/licenses/LICENSE-respond.txt\n",
      "spark-3.0.0-bin-hadoop2.7/licenses/LICENSE-sbt-launch-lib.txt\n",
      "spark-3.0.0-bin-hadoop2.7/licenses/LICENSE-antlr.txt\n",
      "spark-3.0.0-bin-hadoop2.7/licenses/LICENSE-dagre-d3.txt\n",
      "spark-3.0.0-bin-hadoop2.7/licenses/LICENSE-pyrolite.txt\n",
      "spark-3.0.0-bin-hadoop2.7/licenses/LICENSE-sorttable.js.txt\n",
      "spark-3.0.0-bin-hadoop2.7/licenses/LICENSE-janino.txt\n",
      "spark-3.0.0-bin-hadoop2.7/licenses/LICENSE-protobuf.txt\n",
      "spark-3.0.0-bin-hadoop2.7/licenses/LICENSE-jquery.txt\n",
      "spark-3.0.0-bin-hadoop2.7/licenses/LICENSE-scopt.txt\n",
      "spark-3.0.0-bin-hadoop2.7/licenses/LICENSE-netlib.txt\n",
      "spark-3.0.0-bin-hadoop2.7/licenses/LICENSE-d3.min.js.txt\n",
      "spark-3.0.0-bin-hadoop2.7/licenses/LICENSE-graphlib-dot.txt\n",
      "spark-3.0.0-bin-hadoop2.7/licenses/LICENSE-AnchorJS.txt\n",
      "spark-3.0.0-bin-hadoop2.7/licenses/LICENSE-datatables.txt\n",
      "spark-3.0.0-bin-hadoop2.7/licenses/LICENSE-pmml-model.txt\n",
      "spark-3.0.0-bin-hadoop2.7/licenses/LICENSE-paranamer.txt\n",
      "spark-3.0.0-bin-hadoop2.7/licenses/LICENSE-jakarta-ws-rs-api\n",
      "spark-3.0.0-bin-hadoop2.7/licenses/LICENSE-dnsjava.txt\n",
      "spark-3.0.0-bin-hadoop2.7/licenses/LICENSE-jakarta.xml.bind-api.txt\n",
      "spark-3.0.0-bin-hadoop2.7/licenses/LICENSE-jakarta-annotation-api\n",
      "spark-3.0.0-bin-hadoop2.7/licenses/LICENSE-CC0.txt\n",
      "spark-3.0.0-bin-hadoop2.7/licenses/LICENSE-jodd.txt\n",
      "spark-3.0.0-bin-hadoop2.7/licenses/LICENSE-f2j.txt\n",
      "spark-3.0.0-bin-hadoop2.7/licenses/LICENSE-heapq.txt\n",
      "spark-3.0.0-bin-hadoop2.7/licenses/LICENSE-machinist.txt\n",
      "spark-3.0.0-bin-hadoop2.7/licenses/LICENSE-javolution.txt\n",
      "spark-3.0.0-bin-hadoop2.7/licenses/LICENSE-modernizr.txt\n",
      "spark-3.0.0-bin-hadoop2.7/licenses/LICENSE-spire.txt\n",
      "spark-3.0.0-bin-hadoop2.7/licenses/LICENSE-leveldbjni.txt\n",
      "spark-3.0.0-bin-hadoop2.7/licenses/LICENSE-join.txt\n",
      "spark-3.0.0-bin-hadoop2.7/licenses/LICENSE-zstd-jni.txt\n",
      "spark-3.0.0-bin-hadoop2.7/licenses/LICENSE-slf4j.txt\n",
      "spark-3.0.0-bin-hadoop2.7/licenses/LICENSE-arpack.txt\n",
      "spark-3.0.0-bin-hadoop2.7/licenses/LICENSE-jsp-api.txt\n",
      "spark-3.0.0-bin-hadoop2.7/licenses/LICENSE-JTransforms.txt\n",
      "spark-3.0.0-bin-hadoop2.7/licenses/LICENSE-JLargeArrays.txt\n",
      "spark-3.0.0-bin-hadoop2.7/licenses/LICENSE-bootstrap.txt\n",
      "spark-3.0.0-bin-hadoop2.7/licenses/LICENSE-reflectasm.txt\n",
      "spark-3.0.0-bin-hadoop2.7/licenses/LICENSE-javassist.html\n",
      "spark-3.0.0-bin-hadoop2.7/licenses/LICENSE-zstd.txt\n",
      "spark-3.0.0-bin-hadoop2.7/licenses/LICENSE-json-formatter.txt\n",
      "spark-3.0.0-bin-hadoop2.7/licenses/LICENSE-matchMedia-polyfill.txt\n",
      "spark-3.0.0-bin-hadoop2.7/licenses/LICENSE-scala.txt\n",
      "spark-3.0.0-bin-hadoop2.7/licenses/LICENSE-jakarta.activation-api.txt\n",
      "spark-3.0.0-bin-hadoop2.7/licenses/LICENSE-automaton.txt\n",
      "spark-3.0.0-bin-hadoop2.7/licenses/LICENSE-javax-transaction-transaction-api.txt\n",
      "spark-3.0.0-bin-hadoop2.7/licenses/LICENSE-jaxb-runtime.txt\n",
      "spark-3.0.0-bin-hadoop2.7/licenses/LICENSE-minlog.txt\n",
      "spark-3.0.0-bin-hadoop2.7/licenses/LICENSE-mustache.txt\n",
      "spark-3.0.0-bin-hadoop2.7/licenses/LICENSE-xmlenc.txt\n",
      "spark-3.0.0-bin-hadoop2.7/licenses/LICENSE-jline.txt\n",
      "spark-3.0.0-bin-hadoop2.7/licenses/LICENSE-istack-commons-runtime.txt\n",
      "spark-3.0.0-bin-hadoop2.7/licenses/LICENSE-py4j.txt\n",
      "spark-3.0.0-bin-hadoop2.7/licenses/LICENSE-vis-timeline.txt\n",
      "spark-3.0.0-bin-hadoop2.7/licenses/LICENSE-re2j.txt\n",
      "spark-3.0.0-bin-hadoop2.7/licenses/LICENSE-kryo.txt\n",
      "spark-3.0.0-bin-hadoop2.7/licenses/LICENSE-cloudpickle.txt\n"
     ]
    }
   ],
   "source": [
    "!apt-get install openjdk-8-jdk-headless -qq > /dev/null\n",
    "!wget -q https://downloads.apache.org/spark/spark-3.0.0/spark-3.0.0-bin-hadoop2.7.tgz\n",
    "!tar -xvf spark-3.0.0-bin-hadoop2.7.tgz\n",
    "!pip install -q findspark"
   ]
  },
  {
   "cell_type": "code",
   "execution_count": null,
   "metadata": {
    "id": "53LWfxYf5pit"
   },
   "outputs": [],
   "source": [
    "import os\n",
    "os.environ[\"JAVA_HOME\"] = \"/usr/lib/jvm/java-8-openjdk-amd64\"\n",
    "os.environ[\"SPARK_HOME\"] = \"/content/spark-3.0.0-bin-hadoop2.7\""
   ]
  },
  {
   "cell_type": "code",
   "execution_count": null,
   "metadata": {
    "id": "Zy3FfhKi5sgX"
   },
   "outputs": [],
   "source": [
    "import findspark\n",
    "findspark.init()\n",
    "\n",
    "import pyspark\n",
    "from pyspark import SparkConf\n",
    "from pyspark.sql import SparkSession"
   ]
  },
  {
   "cell_type": "code",
   "execution_count": null,
   "metadata": {
    "id": "U-KO732m5vln"
   },
   "outputs": [],
   "source": [
    "spark= SparkSession\\\n",
    "        .builder\\\n",
    "        .appName(\"ReadandWrite\")\\\n",
    "        .getOrCreate()"
   ]
  },
  {
   "cell_type": "code",
   "execution_count": null,
   "metadata": {
    "colab": {
     "base_uri": "https://localhost:8080/",
     "height": 208
    },
    "id": "d3GopVzV52d5",
    "outputId": "dfd7ea14-577d-44a9-da8d-50cb1956f334"
   },
   "outputs": [
    {
     "data": {
      "text/plain": [
       "[('spark.driver.port', '35873'),\n",
       " ('spark.rdd.compress', 'True'),\n",
       " ('spark.serializer.objectStreamReset', '100'),\n",
       " ('spark.master', 'local[*]'),\n",
       " ('spark.app.id', 'local-1596630504001'),\n",
       " ('spark.submit.pyFiles', ''),\n",
       " ('spark.executor.id', 'driver'),\n",
       " ('spark.app.name', 'ReadandWrite'),\n",
       " ('spark.submit.deployMode', 'client'),\n",
       " ('spark.driver.host', '1972d410bedf'),\n",
       " ('spark.ui.showConsoleProgress', 'true')]"
      ]
     },
     "execution_count": 79,
     "metadata": {
      "tags": []
     },
     "output_type": "execute_result"
    }
   ],
   "source": [
    "spark.sparkContext.getConf().getAll()"
   ]
  },
  {
   "cell_type": "code",
   "execution_count": null,
   "metadata": {
    "colab": {
     "base_uri": "https://localhost:8080/",
     "height": 219
    },
    "id": "hjy_8aEn55Sf",
    "outputId": "fae57023-81c7-4561-cecc-ebe0ed83d337"
   },
   "outputs": [
    {
     "data": {
      "text/html": [
       "\n",
       "            <div>\n",
       "                <p><b>SparkSession - in-memory</b></p>\n",
       "                \n",
       "        <div>\n",
       "            <p><b>SparkContext</b></p>\n",
       "\n",
       "            <p><a href=\"http://1972d410bedf:4040\">Spark UI</a></p>\n",
       "\n",
       "            <dl>\n",
       "              <dt>Version</dt>\n",
       "                <dd><code>v3.0.0</code></dd>\n",
       "              <dt>Master</dt>\n",
       "                <dd><code>local[*]</code></dd>\n",
       "              <dt>AppName</dt>\n",
       "                <dd><code>ReadandWrite</code></dd>\n",
       "            </dl>\n",
       "        </div>\n",
       "        \n",
       "            </div>\n",
       "        "
      ],
      "text/plain": [
       "<pyspark.sql.session.SparkSession at 0x7fb64298b940>"
      ]
     },
     "execution_count": 80,
     "metadata": {
      "tags": []
     },
     "output_type": "execute_result"
    }
   ],
   "source": [
    "spark"
   ]
  },
  {
   "cell_type": "code",
   "execution_count": null,
   "metadata": {
    "id": "4H8a3i2r572s"
   },
   "outputs": [],
   "source": [
    "import numpy as np\n",
    "import pandas as pd\n",
    "import matplotlib.pyplot as plt\n",
    "path = \"/content/Case_Information.csv\"\n",
    "df = pd.read_csv(path)"
   ]
  },
  {
   "cell_type": "code",
   "execution_count": null,
   "metadata": {
    "colab": {
     "base_uri": "https://localhost:8080/",
     "height": 361
    },
    "id": "ohxtryYq8rKB",
    "outputId": "3747117f-4dbf-4b53-b11d-4e914d31c1ed"
   },
   "outputs": [
    {
     "data": {
      "text/html": [
       "<div>\n",
       "<style scoped>\n",
       "    .dataframe tbody tr th:only-of-type {\n",
       "        vertical-align: middle;\n",
       "    }\n",
       "\n",
       "    .dataframe tbody tr th {\n",
       "        vertical-align: top;\n",
       "    }\n",
       "\n",
       "    .dataframe thead th {\n",
       "        text-align: right;\n",
       "    }\n",
       "</style>\n",
       "<table border=\"1\" class=\"dataframe\">\n",
       "  <thead>\n",
       "    <tr style=\"text-align: right;\">\n",
       "      <th></th>\n",
       "      <th>case_id</th>\n",
       "      <th>age</th>\n",
       "      <th>age_group</th>\n",
       "      <th>sex</th>\n",
       "      <th>date_announced</th>\n",
       "      <th>date_recovered</th>\n",
       "      <th>date_of_death</th>\n",
       "      <th>status</th>\n",
       "      <th>date_announced_as_removed</th>\n",
       "      <th>province</th>\n",
       "      <th>muni_city</th>\n",
       "      <th>health_status</th>\n",
       "      <th>home_quarantined</th>\n",
       "      <th>date_of_onset_of_symptoms</th>\n",
       "      <th>pregnant</th>\n",
       "      <th>region</th>\n",
       "    </tr>\n",
       "  </thead>\n",
       "  <tbody>\n",
       "    <tr>\n",
       "      <th>0</th>\n",
       "      <td>C404174</td>\n",
       "      <td>38.0</td>\n",
       "      <td>35 to 39</td>\n",
       "      <td>Female</td>\n",
       "      <td>2020-01-30</td>\n",
       "      <td>NaN</td>\n",
       "      <td>NaN</td>\n",
       "      <td>Recovered</td>\n",
       "      <td>2020-02-07</td>\n",
       "      <td>Negros Oriental</td>\n",
       "      <td>Dumaguete City</td>\n",
       "      <td>Recovered</td>\n",
       "      <td>NaN</td>\n",
       "      <td>2020-01-21</td>\n",
       "      <td>NaN</td>\n",
       "      <td>Central Visayas (Region VII)</td>\n",
       "    </tr>\n",
       "    <tr>\n",
       "      <th>1</th>\n",
       "      <td>C462688</td>\n",
       "      <td>44.0</td>\n",
       "      <td>40 to 44</td>\n",
       "      <td>Male</td>\n",
       "      <td>2020-02-03</td>\n",
       "      <td>NaN</td>\n",
       "      <td>2020-02-01</td>\n",
       "      <td>Died</td>\n",
       "      <td>2020-02-02</td>\n",
       "      <td>Negros Oriental</td>\n",
       "      <td>Dumaguete City</td>\n",
       "      <td>Died</td>\n",
       "      <td>NaN</td>\n",
       "      <td>2020-01-18</td>\n",
       "      <td>NaN</td>\n",
       "      <td>Central Visayas (Region VII)</td>\n",
       "    </tr>\n",
       "    <tr>\n",
       "      <th>2</th>\n",
       "      <td>C387710</td>\n",
       "      <td>60.0</td>\n",
       "      <td>60 to 64</td>\n",
       "      <td>Female</td>\n",
       "      <td>2020-02-05</td>\n",
       "      <td>2020-01-31</td>\n",
       "      <td>NaN</td>\n",
       "      <td>Recovered</td>\n",
       "      <td>2020-02-05</td>\n",
       "      <td>Bohol</td>\n",
       "      <td>Panglao</td>\n",
       "      <td>Recovered</td>\n",
       "      <td>No</td>\n",
       "      <td>2020-01-21</td>\n",
       "      <td>NaN</td>\n",
       "      <td>Central Visayas (Region VII)</td>\n",
       "    </tr>\n",
       "    <tr>\n",
       "      <th>3</th>\n",
       "      <td>C377460</td>\n",
       "      <td>48.0</td>\n",
       "      <td>45 to 49</td>\n",
       "      <td>Male</td>\n",
       "      <td>2020-03-06</td>\n",
       "      <td>NaN</td>\n",
       "      <td>NaN</td>\n",
       "      <td>Recovered</td>\n",
       "      <td>2020-03-27</td>\n",
       "      <td>Metropolitan Manila</td>\n",
       "      <td>Taguig</td>\n",
       "      <td>Recovered</td>\n",
       "      <td>No</td>\n",
       "      <td>2020-03-03</td>\n",
       "      <td>NaN</td>\n",
       "      <td>Metropolitan Manila</td>\n",
       "    </tr>\n",
       "    <tr>\n",
       "      <th>4</th>\n",
       "      <td>C498051</td>\n",
       "      <td>62.0</td>\n",
       "      <td>60 to 64</td>\n",
       "      <td>Male</td>\n",
       "      <td>2020-03-06</td>\n",
       "      <td>NaN</td>\n",
       "      <td>2020-03-11</td>\n",
       "      <td>Died</td>\n",
       "      <td>2020-03-12</td>\n",
       "      <td>Rizal</td>\n",
       "      <td>Cainta</td>\n",
       "      <td>Died</td>\n",
       "      <td>No</td>\n",
       "      <td>2020-02-25</td>\n",
       "      <td>NaN</td>\n",
       "      <td>CALABARZON (Region IV-A)</td>\n",
       "    </tr>\n",
       "  </tbody>\n",
       "</table>\n",
       "</div>"
      ],
      "text/plain": [
       "   case_id   age  ... pregnant                        region\n",
       "0  C404174  38.0  ...      NaN  Central Visayas (Region VII)\n",
       "1  C462688  44.0  ...      NaN  Central Visayas (Region VII)\n",
       "2  C387710  60.0  ...      NaN  Central Visayas (Region VII)\n",
       "3  C377460  48.0  ...      NaN           Metropolitan Manila\n",
       "4  C498051  62.0  ...      NaN      CALABARZON (Region IV-A)\n",
       "\n",
       "[5 rows x 16 columns]"
      ]
     },
     "execution_count": 69,
     "metadata": {
      "tags": []
     },
     "output_type": "execute_result"
    }
   ],
   "source": [
    "df.head()"
   ]
  },
  {
   "cell_type": "code",
   "execution_count": null,
   "metadata": {
    "colab": {
     "base_uri": "https://localhost:8080/",
     "height": 312
    },
    "id": "z_XIVUIfgpC6",
    "outputId": "cc761f47-1073-4fab-b8a2-aeaacca69105"
   },
   "outputs": [
    {
     "data": {
      "text/plain": [
       "case_id                      12091\n",
       "age                          12070\n",
       "age_group                    12070\n",
       "sex                          12091\n",
       "date_announced               12091\n",
       "date_recovered                1237\n",
       "date_of_death                  657\n",
       "status                       12091\n",
       "date_announced_as_removed     3266\n",
       "province                     11053\n",
       "muni_city                    11053\n",
       "health_status                12091\n",
       "home_quarantined              5310\n",
       "date_of_onset_of_symptoms     6561\n",
       "pregnant                      1925\n",
       "region                       11053\n",
       "dtype: int64"
      ]
     },
     "execution_count": 9,
     "metadata": {
      "tags": []
     },
     "output_type": "execute_result"
    }
   ],
   "source": [
    "df.count()"
   ]
  },
  {
   "cell_type": "markdown",
   "metadata": {
    "id": "I6ETUTFE9nIJ"
   },
   "source": [
    "What do we want to find from this dataset?\n",
    "1. Philippine has recorded Southeast Asia's biggest daily jump in coronavirus deaths in the month of June. Why?\n",
    "2. Which age group is the most affected with Covid-19?\n",
    "3. Which age group has the highest risk of death when affected with covid-19?\n",
    "4. Covid-19 in the Philippine has reduced in April but increased again in May. Which province in the Philippine has led to the increased number of cases in the Philippine?\n"
   ]
  },
  {
   "cell_type": "markdown",
   "metadata": {
    "id": "xri5GgkIViaO"
   },
   "source": [
    "Check Data type for all columns"
   ]
  },
  {
   "cell_type": "code",
   "execution_count": null,
   "metadata": {
    "colab": {
     "base_uri": "https://localhost:8080/",
     "height": 312
    },
    "id": "E8dTpwVe9day",
    "outputId": "cdbeff0e-d0d8-4be4-ac0e-3f07b83480e7"
   },
   "outputs": [
    {
     "data": {
      "text/plain": [
       "case_id                       object\n",
       "age                          float64\n",
       "age_group                     object\n",
       "sex                           object\n",
       "date_announced                object\n",
       "date_recovered                object\n",
       "date_of_death                 object\n",
       "status                        object\n",
       "date_announced_as_removed     object\n",
       "province                      object\n",
       "muni_city                     object\n",
       "health_status                 object\n",
       "home_quarantined              object\n",
       "date_of_onset_of_symptoms     object\n",
       "pregnant                      object\n",
       "region                        object\n",
       "dtype: object"
      ]
     },
     "execution_count": 10,
     "metadata": {
      "tags": []
     },
     "output_type": "execute_result"
    }
   ],
   "source": [
    "df.dtypes"
   ]
  },
  {
   "cell_type": "markdown",
   "metadata": {
    "id": "Ph4D63dOVmek"
   },
   "source": [
    "Change data type to the correct data type"
   ]
  },
  {
   "cell_type": "code",
   "execution_count": null,
   "metadata": {
    "colab": {
     "base_uri": "https://localhost:8080/",
     "height": 312
    },
    "id": "t8rHLJ36-mIm",
    "outputId": "0792c159-1bae-4d72-e54e-b29daea16607"
   },
   "outputs": [
    {
     "data": {
      "text/plain": [
       "case_id                            category\n",
       "age                                 float64\n",
       "age_group                          category\n",
       "sex                                category\n",
       "date_announced               datetime64[ns]\n",
       "date_recovered               datetime64[ns]\n",
       "date_of_death                datetime64[ns]\n",
       "status                             category\n",
       "date_announced_as_removed    datetime64[ns]\n",
       "province                           category\n",
       "muni_city                          category\n",
       "health_status                      category\n",
       "home_quarantined                   category\n",
       "date_of_onset_of_symptoms    datetime64[ns]\n",
       "pregnant                           category\n",
       "region                             category\n",
       "dtype: object"
      ]
     },
     "execution_count": 11,
     "metadata": {
      "tags": []
     },
     "output_type": "execute_result"
    }
   ],
   "source": [
    "df['date_announced']= pd.to_datetime(df['date_announced'])\n",
    "df['date_recovered']= pd.to_datetime(df['date_recovered'])\n",
    "df['date_of_death']= pd.to_datetime(df['date_of_death'])\n",
    "df['date_announced_as_removed']= pd.to_datetime(df['date_announced_as_removed'])\n",
    "df['date_of_onset_of_symptoms']= pd.to_datetime(df['date_of_onset_of_symptoms'])\n",
    "df['case_id'] = df['case_id'].astype('category')\n",
    "df['age_group'] = df['age_group'].astype('category')\n",
    "df['sex'] = df['sex'].astype('category')\n",
    "df['status'] = df['status'].astype('category')\n",
    "df['province'] = df['province'].astype('category')\n",
    "df['muni_city'] = df['muni_city'].astype('category')\n",
    "df['health_status'] = df['health_status'].astype('category')\n",
    "df['home_quarantined'] = df['home_quarantined'].astype('category')\n",
    "df['pregnant'] = df['pregnant'].astype('category')\n",
    "df['region'] = df['region'].astype('category')\n",
    "df.dtypes"
   ]
  },
  {
   "cell_type": "markdown",
   "metadata": {
    "id": "fSfikruqVsv8"
   },
   "source": [
    "Check the list of all columns in the dataset"
   ]
  },
  {
   "cell_type": "code",
   "execution_count": null,
   "metadata": {
    "colab": {
     "base_uri": "https://localhost:8080/",
     "height": 104
    },
    "id": "cqvC8hybow1O",
    "outputId": "5965517e-91af-4bea-ecab-b59430d18bd1"
   },
   "outputs": [
    {
     "name": "stdout",
     "output_type": "stream",
     "text": [
      "Index(['case_id', 'age', 'age_group', 'sex', 'date_announced',\n",
      "       'date_recovered', 'date_of_death', 'status',\n",
      "       'date_announced_as_removed', 'province', 'muni_city', 'health_status',\n",
      "       'home_quarantined', 'date_of_onset_of_symptoms', 'pregnant', 'region'],\n",
      "      dtype='object')\n"
     ]
    }
   ],
   "source": [
    "print(df.keys())"
   ]
  },
  {
   "cell_type": "markdown",
   "metadata": {
    "id": "7vqtPailCQxn"
   },
   "source": [
    "Drop the column that has the same data"
   ]
  },
  {
   "cell_type": "code",
   "execution_count": null,
   "metadata": {
    "id": "d8k5xsK7CWkS"
   },
   "outputs": [],
   "source": [
    "df.drop('health_status', inplace=True, axis=1)"
   ]
  },
  {
   "cell_type": "markdown",
   "metadata": {
    "id": "XzroOr3HVyrt"
   },
   "source": [
    "Check the list of all columns in the dataset after drop the health_status column"
   ]
  },
  {
   "cell_type": "code",
   "execution_count": null,
   "metadata": {
    "colab": {
     "base_uri": "https://localhost:8080/",
     "height": 104
    },
    "id": "DWgmkkZdqG-d",
    "outputId": "142f236c-b739-4c10-8f70-c9befe30cdd1"
   },
   "outputs": [
    {
     "name": "stdout",
     "output_type": "stream",
     "text": [
      "Index(['case_id', 'age', 'age_group', 'sex', 'date_announced',\n",
      "       'date_recovered', 'date_of_death', 'status',\n",
      "       'date_announced_as_removed', 'province', 'muni_city',\n",
      "       'home_quarantined', 'date_of_onset_of_symptoms', 'pregnant', 'region'],\n",
      "      dtype='object')\n"
     ]
    }
   ],
   "source": [
    "print(df.keys())"
   ]
  },
  {
   "cell_type": "code",
   "execution_count": null,
   "metadata": {
    "colab": {
     "base_uri": "https://localhost:8080/",
     "height": 361
    },
    "id": "pRuVxOITSNUN",
    "outputId": "6e046e5d-0e4d-4bbb-cfe7-eeb7ef9cedfb"
   },
   "outputs": [
    {
     "data": {
      "text/html": [
       "<div>\n",
       "<style scoped>\n",
       "    .dataframe tbody tr th:only-of-type {\n",
       "        vertical-align: middle;\n",
       "    }\n",
       "\n",
       "    .dataframe tbody tr th {\n",
       "        vertical-align: top;\n",
       "    }\n",
       "\n",
       "    .dataframe thead th {\n",
       "        text-align: right;\n",
       "    }\n",
       "</style>\n",
       "<table border=\"1\" class=\"dataframe\">\n",
       "  <thead>\n",
       "    <tr style=\"text-align: right;\">\n",
       "      <th></th>\n",
       "      <th>case_id</th>\n",
       "      <th>age</th>\n",
       "      <th>age_group</th>\n",
       "      <th>sex</th>\n",
       "      <th>date_announced</th>\n",
       "      <th>date_recovered</th>\n",
       "      <th>date_of_death</th>\n",
       "      <th>status</th>\n",
       "      <th>date_announced_as_removed</th>\n",
       "      <th>province</th>\n",
       "      <th>muni_city</th>\n",
       "      <th>home_quarantined</th>\n",
       "      <th>date_of_onset_of_symptoms</th>\n",
       "      <th>pregnant</th>\n",
       "      <th>region</th>\n",
       "    </tr>\n",
       "  </thead>\n",
       "  <tbody>\n",
       "    <tr>\n",
       "      <th>0</th>\n",
       "      <td>C404174</td>\n",
       "      <td>38.0</td>\n",
       "      <td>35 to 39</td>\n",
       "      <td>Female</td>\n",
       "      <td>2020-01-30</td>\n",
       "      <td>NaT</td>\n",
       "      <td>NaT</td>\n",
       "      <td>Recovered</td>\n",
       "      <td>2020-02-07</td>\n",
       "      <td>Negros Oriental</td>\n",
       "      <td>Dumaguete City</td>\n",
       "      <td>NaN</td>\n",
       "      <td>2020-01-21</td>\n",
       "      <td>NaN</td>\n",
       "      <td>Central Visayas (Region VII)</td>\n",
       "    </tr>\n",
       "    <tr>\n",
       "      <th>1</th>\n",
       "      <td>C462688</td>\n",
       "      <td>44.0</td>\n",
       "      <td>40 to 44</td>\n",
       "      <td>Male</td>\n",
       "      <td>2020-02-03</td>\n",
       "      <td>NaT</td>\n",
       "      <td>2020-02-01</td>\n",
       "      <td>Died</td>\n",
       "      <td>2020-02-02</td>\n",
       "      <td>Negros Oriental</td>\n",
       "      <td>Dumaguete City</td>\n",
       "      <td>NaN</td>\n",
       "      <td>2020-01-18</td>\n",
       "      <td>NaN</td>\n",
       "      <td>Central Visayas (Region VII)</td>\n",
       "    </tr>\n",
       "    <tr>\n",
       "      <th>2</th>\n",
       "      <td>C387710</td>\n",
       "      <td>60.0</td>\n",
       "      <td>60 to 64</td>\n",
       "      <td>Female</td>\n",
       "      <td>2020-02-05</td>\n",
       "      <td>2020-01-31</td>\n",
       "      <td>NaT</td>\n",
       "      <td>Recovered</td>\n",
       "      <td>2020-02-05</td>\n",
       "      <td>Bohol</td>\n",
       "      <td>Panglao</td>\n",
       "      <td>No</td>\n",
       "      <td>2020-01-21</td>\n",
       "      <td>NaN</td>\n",
       "      <td>Central Visayas (Region VII)</td>\n",
       "    </tr>\n",
       "    <tr>\n",
       "      <th>3</th>\n",
       "      <td>C377460</td>\n",
       "      <td>48.0</td>\n",
       "      <td>45 to 49</td>\n",
       "      <td>Male</td>\n",
       "      <td>2020-03-06</td>\n",
       "      <td>NaT</td>\n",
       "      <td>NaT</td>\n",
       "      <td>Recovered</td>\n",
       "      <td>2020-03-27</td>\n",
       "      <td>Metropolitan Manila</td>\n",
       "      <td>Taguig</td>\n",
       "      <td>No</td>\n",
       "      <td>2020-03-03</td>\n",
       "      <td>NaN</td>\n",
       "      <td>Metropolitan Manila</td>\n",
       "    </tr>\n",
       "    <tr>\n",
       "      <th>4</th>\n",
       "      <td>C498051</td>\n",
       "      <td>62.0</td>\n",
       "      <td>60 to 64</td>\n",
       "      <td>Male</td>\n",
       "      <td>2020-03-06</td>\n",
       "      <td>NaT</td>\n",
       "      <td>2020-03-11</td>\n",
       "      <td>Died</td>\n",
       "      <td>2020-03-12</td>\n",
       "      <td>Rizal</td>\n",
       "      <td>Cainta</td>\n",
       "      <td>No</td>\n",
       "      <td>2020-02-25</td>\n",
       "      <td>NaN</td>\n",
       "      <td>CALABARZON (Region IV-A)</td>\n",
       "    </tr>\n",
       "  </tbody>\n",
       "</table>\n",
       "</div>"
      ],
      "text/plain": [
       "   case_id   age  ... pregnant                        region\n",
       "0  C404174  38.0  ...      NaN  Central Visayas (Region VII)\n",
       "1  C462688  44.0  ...      NaN  Central Visayas (Region VII)\n",
       "2  C387710  60.0  ...      NaN  Central Visayas (Region VII)\n",
       "3  C377460  48.0  ...      NaN           Metropolitan Manila\n",
       "4  C498051  62.0  ...      NaN      CALABARZON (Region IV-A)\n",
       "\n",
       "[5 rows x 15 columns]"
      ]
     },
     "execution_count": 15,
     "metadata": {
      "tags": []
     },
     "output_type": "execute_result"
    }
   ],
   "source": [
    "df.head()"
   ]
  },
  {
   "cell_type": "markdown",
   "metadata": {
    "id": "qSdFb6FVFNE6"
   },
   "source": [
    "Philippine has recorded Southeast Asia's biggest daily jump in coronavirus deaths in the month of June. Why?"
   ]
  },
  {
   "cell_type": "markdown",
   "metadata": {
    "id": "dj0AGcU0V9K9"
   },
   "source": [
    "Select two columns : date_announced and home_quarantined to do the analysis"
   ]
  },
  {
   "cell_type": "code",
   "execution_count": null,
   "metadata": {
    "id": "i8ZGUKteFctP"
   },
   "outputs": [],
   "source": [
    "data1 = df[['date_announced', 'home_quarantined']]"
   ]
  },
  {
   "cell_type": "markdown",
   "metadata": {
    "id": "poYsJJA2bxZK"
   },
   "source": []
  },
  {
   "cell_type": "code",
   "execution_count": null,
   "metadata": {
    "colab": {
     "base_uri": "https://localhost:8080/",
     "height": 415
    },
    "id": "G_UanXf3ILOj",
    "outputId": "24c67994-3736-47ae-d704-4f4593bbe9ad"
   },
   "outputs": [
    {
     "data": {
      "text/html": [
       "<div>\n",
       "<style scoped>\n",
       "    .dataframe tbody tr th:only-of-type {\n",
       "        vertical-align: middle;\n",
       "    }\n",
       "\n",
       "    .dataframe tbody tr th {\n",
       "        vertical-align: top;\n",
       "    }\n",
       "\n",
       "    .dataframe thead th {\n",
       "        text-align: right;\n",
       "    }\n",
       "</style>\n",
       "<table border=\"1\" class=\"dataframe\">\n",
       "  <thead>\n",
       "    <tr style=\"text-align: right;\">\n",
       "      <th></th>\n",
       "      <th>date_announced</th>\n",
       "      <th>home_quarantined</th>\n",
       "    </tr>\n",
       "  </thead>\n",
       "  <tbody>\n",
       "    <tr>\n",
       "      <th>0</th>\n",
       "      <td>2020-01-30</td>\n",
       "      <td>NaN</td>\n",
       "    </tr>\n",
       "    <tr>\n",
       "      <th>1</th>\n",
       "      <td>2020-02-03</td>\n",
       "      <td>NaN</td>\n",
       "    </tr>\n",
       "    <tr>\n",
       "      <th>2</th>\n",
       "      <td>2020-02-05</td>\n",
       "      <td>No</td>\n",
       "    </tr>\n",
       "    <tr>\n",
       "      <th>3</th>\n",
       "      <td>2020-03-06</td>\n",
       "      <td>No</td>\n",
       "    </tr>\n",
       "    <tr>\n",
       "      <th>4</th>\n",
       "      <td>2020-03-06</td>\n",
       "      <td>No</td>\n",
       "    </tr>\n",
       "    <tr>\n",
       "      <th>...</th>\n",
       "      <td>...</td>\n",
       "      <td>...</td>\n",
       "    </tr>\n",
       "    <tr>\n",
       "      <th>12086</th>\n",
       "      <td>2020-05-15</td>\n",
       "      <td>NaN</td>\n",
       "    </tr>\n",
       "    <tr>\n",
       "      <th>12087</th>\n",
       "      <td>2020-05-15</td>\n",
       "      <td>NaN</td>\n",
       "    </tr>\n",
       "    <tr>\n",
       "      <th>12088</th>\n",
       "      <td>2020-05-15</td>\n",
       "      <td>NaN</td>\n",
       "    </tr>\n",
       "    <tr>\n",
       "      <th>12089</th>\n",
       "      <td>2020-05-15</td>\n",
       "      <td>Yes</td>\n",
       "    </tr>\n",
       "    <tr>\n",
       "      <th>12090</th>\n",
       "      <td>2020-05-15</td>\n",
       "      <td>NaN</td>\n",
       "    </tr>\n",
       "  </tbody>\n",
       "</table>\n",
       "<p>12091 rows × 2 columns</p>\n",
       "</div>"
      ],
      "text/plain": [
       "      date_announced home_quarantined\n",
       "0         2020-01-30              NaN\n",
       "1         2020-02-03              NaN\n",
       "2         2020-02-05               No\n",
       "3         2020-03-06               No\n",
       "4         2020-03-06               No\n",
       "...              ...              ...\n",
       "12086     2020-05-15              NaN\n",
       "12087     2020-05-15              NaN\n",
       "12088     2020-05-15              NaN\n",
       "12089     2020-05-15              Yes\n",
       "12090     2020-05-15              NaN\n",
       "\n",
       "[12091 rows x 2 columns]"
      ]
     },
     "execution_count": 17,
     "metadata": {
      "tags": []
     },
     "output_type": "execute_result"
    }
   ],
   "source": [
    "data1"
   ]
  },
  {
   "cell_type": "markdown",
   "metadata": {
    "id": "t9qjAeuQN__f"
   },
   "source": [
    "Drop rows that have NAN values\n"
   ]
  },
  {
   "cell_type": "code",
   "execution_count": null,
   "metadata": {
    "colab": {
     "base_uri": "https://localhost:8080/",
     "height": 415
    },
    "id": "-Q2i_DKVJcwx",
    "outputId": "083c7d41-10cd-4283-b9d9-caeab661c79e"
   },
   "outputs": [
    {
     "data": {
      "text/html": [
       "<div>\n",
       "<style scoped>\n",
       "    .dataframe tbody tr th:only-of-type {\n",
       "        vertical-align: middle;\n",
       "    }\n",
       "\n",
       "    .dataframe tbody tr th {\n",
       "        vertical-align: top;\n",
       "    }\n",
       "\n",
       "    .dataframe thead th {\n",
       "        text-align: right;\n",
       "    }\n",
       "</style>\n",
       "<table border=\"1\" class=\"dataframe\">\n",
       "  <thead>\n",
       "    <tr style=\"text-align: right;\">\n",
       "      <th></th>\n",
       "      <th>date_announced</th>\n",
       "      <th>home_quarantined</th>\n",
       "    </tr>\n",
       "  </thead>\n",
       "  <tbody>\n",
       "    <tr>\n",
       "      <th>0</th>\n",
       "      <td>2020-02-05</td>\n",
       "      <td>No</td>\n",
       "    </tr>\n",
       "    <tr>\n",
       "      <th>1</th>\n",
       "      <td>2020-03-06</td>\n",
       "      <td>No</td>\n",
       "    </tr>\n",
       "    <tr>\n",
       "      <th>2</th>\n",
       "      <td>2020-03-06</td>\n",
       "      <td>No</td>\n",
       "    </tr>\n",
       "    <tr>\n",
       "      <th>3</th>\n",
       "      <td>2020-03-07</td>\n",
       "      <td>No</td>\n",
       "    </tr>\n",
       "    <tr>\n",
       "      <th>4</th>\n",
       "      <td>2020-03-08</td>\n",
       "      <td>No</td>\n",
       "    </tr>\n",
       "    <tr>\n",
       "      <th>...</th>\n",
       "      <td>...</td>\n",
       "      <td>...</td>\n",
       "    </tr>\n",
       "    <tr>\n",
       "      <th>5305</th>\n",
       "      <td>2020-05-15</td>\n",
       "      <td>Yes</td>\n",
       "    </tr>\n",
       "    <tr>\n",
       "      <th>5306</th>\n",
       "      <td>2020-05-15</td>\n",
       "      <td>Yes</td>\n",
       "    </tr>\n",
       "    <tr>\n",
       "      <th>5307</th>\n",
       "      <td>2020-05-15</td>\n",
       "      <td>Yes</td>\n",
       "    </tr>\n",
       "    <tr>\n",
       "      <th>5308</th>\n",
       "      <td>2020-05-15</td>\n",
       "      <td>Yes</td>\n",
       "    </tr>\n",
       "    <tr>\n",
       "      <th>5309</th>\n",
       "      <td>2020-05-15</td>\n",
       "      <td>Yes</td>\n",
       "    </tr>\n",
       "  </tbody>\n",
       "</table>\n",
       "<p>5310 rows × 2 columns</p>\n",
       "</div>"
      ],
      "text/plain": [
       "     date_announced home_quarantined\n",
       "0        2020-02-05               No\n",
       "1        2020-03-06               No\n",
       "2        2020-03-06               No\n",
       "3        2020-03-07               No\n",
       "4        2020-03-08               No\n",
       "...             ...              ...\n",
       "5305     2020-05-15              Yes\n",
       "5306     2020-05-15              Yes\n",
       "5307     2020-05-15              Yes\n",
       "5308     2020-05-15              Yes\n",
       "5309     2020-05-15              Yes\n",
       "\n",
       "[5310 rows x 2 columns]"
      ]
     },
     "execution_count": 18,
     "metadata": {
      "tags": []
     },
     "output_type": "execute_result"
    }
   ],
   "source": [
    "data1= data1.dropna()\n",
    "data1= data1.reset_index(drop=True)\n",
    "data1"
   ]
  },
  {
   "cell_type": "markdown",
   "metadata": {
    "id": "QrGYhZhefmIe"
   },
   "source": [
    "To separate and count Yes and No data from home_quarantined column\n",
    " "
   ]
  },
  {
   "cell_type": "code",
   "execution_count": null,
   "metadata": {
    "colab": {
     "base_uri": "https://localhost:8080/",
     "height": 233
    },
    "id": "FMcsG4PsXsms",
    "outputId": "1937bdab-0691-495c-bac8-fe0e69448197"
   },
   "outputs": [
    {
     "data": {
      "text/html": [
       "<div>\n",
       "<style scoped>\n",
       "    .dataframe tbody tr th:only-of-type {\n",
       "        vertical-align: middle;\n",
       "    }\n",
       "\n",
       "    .dataframe tbody tr th {\n",
       "        vertical-align: top;\n",
       "    }\n",
       "\n",
       "    .dataframe thead th {\n",
       "        text-align: right;\n",
       "    }\n",
       "</style>\n",
       "<table border=\"1\" class=\"dataframe\">\n",
       "  <thead>\n",
       "    <tr style=\"text-align: right;\">\n",
       "      <th></th>\n",
       "      <th>date_announced</th>\n",
       "      <th>home_quarantined</th>\n",
       "    </tr>\n",
       "  </thead>\n",
       "  <tbody>\n",
       "    <tr>\n",
       "      <th>count</th>\n",
       "      <td>3400</td>\n",
       "      <td>3400</td>\n",
       "    </tr>\n",
       "    <tr>\n",
       "      <th>unique</th>\n",
       "      <td>69</td>\n",
       "      <td>1</td>\n",
       "    </tr>\n",
       "    <tr>\n",
       "      <th>top</th>\n",
       "      <td>2020-03-31 00:00:00</td>\n",
       "      <td>Yes</td>\n",
       "    </tr>\n",
       "    <tr>\n",
       "      <th>freq</th>\n",
       "      <td>225</td>\n",
       "      <td>3400</td>\n",
       "    </tr>\n",
       "    <tr>\n",
       "      <th>first</th>\n",
       "      <td>2020-03-08 00:00:00</td>\n",
       "      <td>NaN</td>\n",
       "    </tr>\n",
       "    <tr>\n",
       "      <th>last</th>\n",
       "      <td>2020-05-15 00:00:00</td>\n",
       "      <td>NaN</td>\n",
       "    </tr>\n",
       "  </tbody>\n",
       "</table>\n",
       "</div>"
      ],
      "text/plain": [
       "             date_announced home_quarantined\n",
       "count                  3400             3400\n",
       "unique                   69                1\n",
       "top     2020-03-31 00:00:00              Yes\n",
       "freq                    225             3400\n",
       "first   2020-03-08 00:00:00              NaN\n",
       "last    2020-05-15 00:00:00              NaN"
      ]
     },
     "execution_count": 19,
     "metadata": {
      "tags": []
     },
     "output_type": "execute_result"
    }
   ],
   "source": [
    "data1[data1.home_quarantined == 'Yes'].describe()"
   ]
  },
  {
   "cell_type": "markdown",
   "metadata": {
    "id": "_DUkGAXzWJTJ"
   },
   "source": [
    "Count 'Yes' data from home_quarantined column"
   ]
  },
  {
   "cell_type": "code",
   "execution_count": null,
   "metadata": {
    "colab": {
     "base_uri": "https://localhost:8080/",
     "height": 69
    },
    "id": "fsEGZoXKZB0l",
    "outputId": "6df0702d-009a-492c-d345-f0dd93cbc37a"
   },
   "outputs": [
    {
     "data": {
      "text/plain": [
       "date_announced      3400\n",
       "home_quarantined    3400\n",
       "dtype: int64"
      ]
     },
     "execution_count": 20,
     "metadata": {
      "tags": []
     },
     "output_type": "execute_result"
    }
   ],
   "source": [
    "quarantined_yes = data1[data1.home_quarantined == 'Yes'].count()\n",
    "quarantined_yes"
   ]
  },
  {
   "cell_type": "markdown",
   "metadata": {
    "id": "8qli1-v4WOyD"
   },
   "source": [
    "Count 'No' data from home_quarantined column"
   ]
  },
  {
   "cell_type": "code",
   "execution_count": null,
   "metadata": {
    "colab": {
     "base_uri": "https://localhost:8080/",
     "height": 233
    },
    "id": "6rLt9H90X4Nm",
    "outputId": "beae3afe-16cd-42f6-ec6b-f34418c3b4c0"
   },
   "outputs": [
    {
     "data": {
      "text/html": [
       "<div>\n",
       "<style scoped>\n",
       "    .dataframe tbody tr th:only-of-type {\n",
       "        vertical-align: middle;\n",
       "    }\n",
       "\n",
       "    .dataframe tbody tr th {\n",
       "        vertical-align: top;\n",
       "    }\n",
       "\n",
       "    .dataframe thead th {\n",
       "        text-align: right;\n",
       "    }\n",
       "</style>\n",
       "<table border=\"1\" class=\"dataframe\">\n",
       "  <thead>\n",
       "    <tr style=\"text-align: right;\">\n",
       "      <th></th>\n",
       "      <th>date_announced</th>\n",
       "      <th>home_quarantined</th>\n",
       "    </tr>\n",
       "  </thead>\n",
       "  <tbody>\n",
       "    <tr>\n",
       "      <th>count</th>\n",
       "      <td>1910</td>\n",
       "      <td>1910</td>\n",
       "    </tr>\n",
       "    <tr>\n",
       "      <th>unique</th>\n",
       "      <td>67</td>\n",
       "      <td>1</td>\n",
       "    </tr>\n",
       "    <tr>\n",
       "      <th>top</th>\n",
       "      <td>2020-03-31 00:00:00</td>\n",
       "      <td>No</td>\n",
       "    </tr>\n",
       "    <tr>\n",
       "      <th>freq</th>\n",
       "      <td>218</td>\n",
       "      <td>1910</td>\n",
       "    </tr>\n",
       "    <tr>\n",
       "      <th>first</th>\n",
       "      <td>2020-02-05 00:00:00</td>\n",
       "      <td>NaN</td>\n",
       "    </tr>\n",
       "    <tr>\n",
       "      <th>last</th>\n",
       "      <td>2020-05-13 00:00:00</td>\n",
       "      <td>NaN</td>\n",
       "    </tr>\n",
       "  </tbody>\n",
       "</table>\n",
       "</div>"
      ],
      "text/plain": [
       "             date_announced home_quarantined\n",
       "count                  1910             1910\n",
       "unique                   67                1\n",
       "top     2020-03-31 00:00:00               No\n",
       "freq                    218             1910\n",
       "first   2020-02-05 00:00:00              NaN\n",
       "last    2020-05-13 00:00:00              NaN"
      ]
     },
     "execution_count": 21,
     "metadata": {
      "tags": []
     },
     "output_type": "execute_result"
    }
   ],
   "source": [
    "data1[data1.home_quarantined == 'No'].describe()"
   ]
  },
  {
   "cell_type": "code",
   "execution_count": null,
   "metadata": {
    "colab": {
     "base_uri": "https://localhost:8080/",
     "height": 69
    },
    "id": "JHWSVi8EZawS",
    "outputId": "e576e463-b921-40d0-adfe-5d671d1a0383"
   },
   "outputs": [
    {
     "data": {
      "text/plain": [
       "date_announced      1910\n",
       "home_quarantined    1910\n",
       "dtype: int64"
      ]
     },
     "execution_count": 22,
     "metadata": {
      "tags": []
     },
     "output_type": "execute_result"
    }
   ],
   "source": [
    "quarantined_no = data1[data1.home_quarantined == 'No'].count()\n",
    "quarantined_no"
   ]
  },
  {
   "cell_type": "markdown",
   "metadata": {
    "id": "NMDtEha3f0Wx"
   },
   "source": [
    "Using formula to calculate the percentage of Yes and No for people quarantine at home"
   ]
  },
  {
   "cell_type": "code",
   "execution_count": null,
   "metadata": {
    "colab": {
     "base_uri": "https://localhost:8080/",
     "height": 69
    },
    "id": "FQMF-u6kZ5L_",
    "outputId": "bad258c3-2d5b-4496-eb49-3c60dd99000a"
   },
   "outputs": [
    {
     "data": {
      "text/plain": [
       "date_announced      64.0\n",
       "home_quarantined    64.0\n",
       "dtype: float64"
      ]
     },
     "execution_count": 23,
     "metadata": {
      "tags": []
     },
     "output_type": "execute_result"
    }
   ],
   "source": [
    "total = quarantined_yes + quarantined_no\n",
    "yes_percentage = round((quarantined_yes / total)*100)\n",
    "yes_percentage \n",
    " "
   ]
  },
  {
   "cell_type": "code",
   "execution_count": null,
   "metadata": {
    "colab": {
     "base_uri": "https://localhost:8080/",
     "height": 69
    },
    "id": "QDBYRWCEcm7S",
    "outputId": "0db8887f-9dd3-4497-9b76-a8612afe7b07"
   },
   "outputs": [
    {
     "data": {
      "text/plain": [
       "date_announced      36.0\n",
       "home_quarantined    36.0\n",
       "dtype: float64"
      ]
     },
     "execution_count": 24,
     "metadata": {
      "tags": []
     },
     "output_type": "execute_result"
    }
   ],
   "source": [
    "no_percentage = 100 - yes_percentage\n",
    "no_percentage"
   ]
  },
  {
   "cell_type": "markdown",
   "metadata": {
    "id": "iJ91vbI9f_Ua"
   },
   "source": [
    "Using pie chart to calculate the percentage of Yes and No for people quarantine at home"
   ]
  },
  {
   "cell_type": "code",
   "execution_count": null,
   "metadata": {
    "colab": {
     "base_uri": "https://localhost:8080/",
     "height": 248
    },
    "id": "-G2sXktAb8TW",
    "outputId": "d6176527-8c43-4235-f4bb-a09098ccdb17"
   },
   "outputs": [
    {
     "data": {
      "image/png": "[encoded data removed]",
      "text/plain": [
       "<Figure size 432x288 with 1 Axes>"
      ]
     },
     "metadata": {
      "tags": []
     },
     "output_type": "display_data"
    }
   ],
   "source": [
    "quarantined_no, quarantined_yes = 3400, 1910\n",
    "fig, ax = plt.subplots()\n",
    "ax.pie((quarantined_no, quarantined_yes), labels=('Yes', 'No'), autopct='%1.1f%%')\n",
    "plt.show()"
   ]
  },
  {
   "cell_type": "markdown",
   "metadata": {
    "id": "MkdbGukEOEpq"
   },
   "source": [
    "Extract month from date_announced column"
   ]
  },
  {
   "cell_type": "code",
   "execution_count": null,
   "metadata": {
    "colab": {
     "base_uri": "https://localhost:8080/",
     "height": 415
    },
    "id": "cy1T4OyWLiC7",
    "outputId": "b7bbd013-7a0f-4e15-e0e7-421343989b00"
   },
   "outputs": [
    {
     "data": {
      "text/html": [
       "<div>\n",
       "<style scoped>\n",
       "    .dataframe tbody tr th:only-of-type {\n",
       "        vertical-align: middle;\n",
       "    }\n",
       "\n",
       "    .dataframe tbody tr th {\n",
       "        vertical-align: top;\n",
       "    }\n",
       "\n",
       "    .dataframe thead th {\n",
       "        text-align: right;\n",
       "    }\n",
       "</style>\n",
       "<table border=\"1\" class=\"dataframe\">\n",
       "  <thead>\n",
       "    <tr style=\"text-align: right;\">\n",
       "      <th></th>\n",
       "      <th>date_announced</th>\n",
       "      <th>home_quarantined</th>\n",
       "      <th>month</th>\n",
       "    </tr>\n",
       "  </thead>\n",
       "  <tbody>\n",
       "    <tr>\n",
       "      <th>0</th>\n",
       "      <td>2020-02-05</td>\n",
       "      <td>No</td>\n",
       "      <td>2</td>\n",
       "    </tr>\n",
       "    <tr>\n",
       "      <th>1</th>\n",
       "      <td>2020-03-06</td>\n",
       "      <td>No</td>\n",
       "      <td>3</td>\n",
       "    </tr>\n",
       "    <tr>\n",
       "      <th>2</th>\n",
       "      <td>2020-03-06</td>\n",
       "      <td>No</td>\n",
       "      <td>3</td>\n",
       "    </tr>\n",
       "    <tr>\n",
       "      <th>3</th>\n",
       "      <td>2020-03-07</td>\n",
       "      <td>No</td>\n",
       "      <td>3</td>\n",
       "    </tr>\n",
       "    <tr>\n",
       "      <th>4</th>\n",
       "      <td>2020-03-08</td>\n",
       "      <td>No</td>\n",
       "      <td>3</td>\n",
       "    </tr>\n",
       "    <tr>\n",
       "      <th>...</th>\n",
       "      <td>...</td>\n",
       "      <td>...</td>\n",
       "      <td>...</td>\n",
       "    </tr>\n",
       "    <tr>\n",
       "      <th>5305</th>\n",
       "      <td>2020-05-15</td>\n",
       "      <td>Yes</td>\n",
       "      <td>5</td>\n",
       "    </tr>\n",
       "    <tr>\n",
       "      <th>5306</th>\n",
       "      <td>2020-05-15</td>\n",
       "      <td>Yes</td>\n",
       "      <td>5</td>\n",
       "    </tr>\n",
       "    <tr>\n",
       "      <th>5307</th>\n",
       "      <td>2020-05-15</td>\n",
       "      <td>Yes</td>\n",
       "      <td>5</td>\n",
       "    </tr>\n",
       "    <tr>\n",
       "      <th>5308</th>\n",
       "      <td>2020-05-15</td>\n",
       "      <td>Yes</td>\n",
       "      <td>5</td>\n",
       "    </tr>\n",
       "    <tr>\n",
       "      <th>5309</th>\n",
       "      <td>2020-05-15</td>\n",
       "      <td>Yes</td>\n",
       "      <td>5</td>\n",
       "    </tr>\n",
       "  </tbody>\n",
       "</table>\n",
       "<p>5310 rows × 3 columns</p>\n",
       "</div>"
      ],
      "text/plain": [
       "     date_announced home_quarantined  month\n",
       "0        2020-02-05               No      2\n",
       "1        2020-03-06               No      3\n",
       "2        2020-03-06               No      3\n",
       "3        2020-03-07               No      3\n",
       "4        2020-03-08               No      3\n",
       "...             ...              ...    ...\n",
       "5305     2020-05-15              Yes      5\n",
       "5306     2020-05-15              Yes      5\n",
       "5307     2020-05-15              Yes      5\n",
       "5308     2020-05-15              Yes      5\n",
       "5309     2020-05-15              Yes      5\n",
       "\n",
       "[5310 rows x 3 columns]"
      ]
     },
     "execution_count": 26,
     "metadata": {
      "tags": []
     },
     "output_type": "execute_result"
    }
   ],
   "source": [
    "data1['month'] = pd.DatetimeIndex(data1['date_announced']).month\n",
    "data1"
   ]
  },
  {
   "cell_type": "code",
   "execution_count": null,
   "metadata": {
    "colab": {
     "base_uri": "https://localhost:8080/",
     "height": 87
    },
    "id": "WxjAebYi47wc",
    "outputId": "9c1f96df-1c30-409a-d1f5-62cfa5afc1d1"
   },
   "outputs": [
    {
     "data": {
      "text/plain": [
       "date_announced      datetime64[ns]\n",
       "home_quarantined          category\n",
       "month                        int64\n",
       "dtype: object"
      ]
     },
     "execution_count": 27,
     "metadata": {
      "tags": []
     },
     "output_type": "execute_result"
    }
   ],
   "source": [
    "data1.dtypes"
   ]
  },
  {
   "cell_type": "markdown",
   "metadata": {
    "id": "rBXF0Z18WYnR"
   },
   "source": [
    "Group the data by month acolumn and home_quarantined column"
   ]
  },
  {
   "cell_type": "code",
   "execution_count": null,
   "metadata": {
    "colab": {
     "base_uri": "https://localhost:8080/",
     "height": 191
    },
    "id": "A6ky-WfrXzW0",
    "outputId": "733cfb0a-5ead-4270-ba02-35c51493ec1d"
   },
   "outputs": [
    {
     "data": {
      "text/plain": [
       "month  home_quarantined\n",
       "2      No                     1\n",
       "       Yes                    0\n",
       "3      No                   865\n",
       "       Yes                  946\n",
       "4      No                  1003\n",
       "       Yes                 2098\n",
       "5      No                    41\n",
       "       Yes                  356\n",
       "Name: date_announced, dtype: int64"
      ]
     },
     "execution_count": 28,
     "metadata": {
      "tags": []
     },
     "output_type": "execute_result"
    }
   ],
   "source": [
    "data1_test = data1.groupby([\"month\", \"home_quarantined\"])[\"date_announced\"].size()\n",
    "data1_test"
   ]
  },
  {
   "cell_type": "markdown",
   "metadata": {
    "id": "QB1I4hQNaNk2"
   },
   "source": [
    "Unstack the data from home_quarantined column to separate 'Yes' and 'No' into two differents new column"
   ]
  },
  {
   "cell_type": "code",
   "execution_count": null,
   "metadata": {
    "colab": {
     "base_uri": "https://localhost:8080/",
     "height": 202
    },
    "id": "JREu2_W43yq8",
    "outputId": "fb0dd7b9-11c4-4053-c605-c5fb555725c6"
   },
   "outputs": [
    {
     "data": {
      "text/html": [
       "<div>\n",
       "<style scoped>\n",
       "    .dataframe tbody tr th:only-of-type {\n",
       "        vertical-align: middle;\n",
       "    }\n",
       "\n",
       "    .dataframe tbody tr th {\n",
       "        vertical-align: top;\n",
       "    }\n",
       "\n",
       "    .dataframe thead th {\n",
       "        text-align: right;\n",
       "    }\n",
       "</style>\n",
       "<table border=\"1\" class=\"dataframe\">\n",
       "  <thead>\n",
       "    <tr style=\"text-align: right;\">\n",
       "      <th>home_quarantined</th>\n",
       "      <th>No</th>\n",
       "      <th>Yes</th>\n",
       "    </tr>\n",
       "    <tr>\n",
       "      <th>month</th>\n",
       "      <th></th>\n",
       "      <th></th>\n",
       "    </tr>\n",
       "  </thead>\n",
       "  <tbody>\n",
       "    <tr>\n",
       "      <th>2</th>\n",
       "      <td>1</td>\n",
       "      <td>0</td>\n",
       "    </tr>\n",
       "    <tr>\n",
       "      <th>3</th>\n",
       "      <td>865</td>\n",
       "      <td>946</td>\n",
       "    </tr>\n",
       "    <tr>\n",
       "      <th>4</th>\n",
       "      <td>1003</td>\n",
       "      <td>2098</td>\n",
       "    </tr>\n",
       "    <tr>\n",
       "      <th>5</th>\n",
       "      <td>41</td>\n",
       "      <td>356</td>\n",
       "    </tr>\n",
       "  </tbody>\n",
       "</table>\n",
       "</div>"
      ],
      "text/plain": [
       "home_quarantined    No   Yes\n",
       "month                       \n",
       "2                    1     0\n",
       "3                  865   946\n",
       "4                 1003  2098\n",
       "5                   41   356"
      ]
     },
     "execution_count": 29,
     "metadata": {
      "tags": []
     },
     "output_type": "execute_result"
    }
   ],
   "source": [
    "data1_test1 = data1_test.unstack()\n",
    "data1_test1"
   ]
  },
  {
   "cell_type": "code",
   "execution_count": null,
   "metadata": {
    "colab": {
     "base_uri": "https://localhost:8080/",
     "height": 384
    },
    "id": "u00h_zhHfWpM",
    "outputId": "8c75f9a9-0513-4c4a-821e-c7e786eb07c5"
   },
   "outputs": [
    {
     "data": {
      "text/plain": [
       "<matplotlib.axes._subplots.AxesSubplot at 0x7fb64018f278>"
      ]
     },
     "execution_count": 30,
     "metadata": {
      "tags": []
     },
     "output_type": "execute_result"
    },
    {
     "data": {
      "image/png": "[encoded data removed]",
      "text/plain": [
       "<Figure size 1152x432 with 1 Axes>"
      ]
     },
     "metadata": {
      "needs_background": "light",
      "tags": []
     },
     "output_type": "display_data"
    }
   ],
   "source": [
    "data1_test1.plot(kind='bar', title=\"Month against Number of People\", figsize=[16,6], colormap='winter')"
   ]
  },
  {
   "cell_type": "markdown",
   "metadata": {
    "id": "7KvQ1BHNfX9E"
   },
   "source": [
    "## Which age group is the most affected with Covid-19?"
   ]
  },
  {
   "cell_type": "code",
   "execution_count": null,
   "metadata": {
    "colab": {
     "base_uri": "https://localhost:8080/",
     "height": 104
    },
    "id": "nivPNSAxgSz9",
    "outputId": "f4ed1520-5795-4ba3-f66f-a0288e8182d5"
   },
   "outputs": [
    {
     "data": {
      "text/plain": [
       "count        12070\n",
       "unique          17\n",
       "top       30 to 34\n",
       "freq          1510\n",
       "Name: age_group, dtype: object"
      ]
     },
     "execution_count": 31,
     "metadata": {
      "tags": []
     },
     "output_type": "execute_result"
    }
   ],
   "source": [
    "df['age_group'].describe()"
   ]
  },
  {
   "cell_type": "code",
   "execution_count": null,
   "metadata": {
    "colab": {
     "base_uri": "https://localhost:8080/",
     "height": 415
    },
    "id": "t0LXzCOyhkCh",
    "outputId": "c34030dd-63d8-4a9e-cba7-6593ce30a3ad"
   },
   "outputs": [
    {
     "data": {
      "text/html": [
       "<div>\n",
       "<style scoped>\n",
       "    .dataframe tbody tr th:only-of-type {\n",
       "        vertical-align: middle;\n",
       "    }\n",
       "\n",
       "    .dataframe tbody tr th {\n",
       "        vertical-align: top;\n",
       "    }\n",
       "\n",
       "    .dataframe thead th {\n",
       "        text-align: right;\n",
       "    }\n",
       "</style>\n",
       "<table border=\"1\" class=\"dataframe\">\n",
       "  <thead>\n",
       "    <tr style=\"text-align: right;\">\n",
       "      <th></th>\n",
       "      <th>age</th>\n",
       "      <th>age_group</th>\n",
       "    </tr>\n",
       "  </thead>\n",
       "  <tbody>\n",
       "    <tr>\n",
       "      <th>0</th>\n",
       "      <td>38.0</td>\n",
       "      <td>35 to 39</td>\n",
       "    </tr>\n",
       "    <tr>\n",
       "      <th>1</th>\n",
       "      <td>44.0</td>\n",
       "      <td>40 to 44</td>\n",
       "    </tr>\n",
       "    <tr>\n",
       "      <th>2</th>\n",
       "      <td>60.0</td>\n",
       "      <td>60 to 64</td>\n",
       "    </tr>\n",
       "    <tr>\n",
       "      <th>3</th>\n",
       "      <td>48.0</td>\n",
       "      <td>45 to 49</td>\n",
       "    </tr>\n",
       "    <tr>\n",
       "      <th>4</th>\n",
       "      <td>62.0</td>\n",
       "      <td>60 to 64</td>\n",
       "    </tr>\n",
       "    <tr>\n",
       "      <th>...</th>\n",
       "      <td>...</td>\n",
       "      <td>...</td>\n",
       "    </tr>\n",
       "    <tr>\n",
       "      <th>12086</th>\n",
       "      <td>35.0</td>\n",
       "      <td>35 to 39</td>\n",
       "    </tr>\n",
       "    <tr>\n",
       "      <th>12087</th>\n",
       "      <td>37.0</td>\n",
       "      <td>35 to 39</td>\n",
       "    </tr>\n",
       "    <tr>\n",
       "      <th>12088</th>\n",
       "      <td>62.0</td>\n",
       "      <td>60 to 64</td>\n",
       "    </tr>\n",
       "    <tr>\n",
       "      <th>12089</th>\n",
       "      <td>18.0</td>\n",
       "      <td>15 to 19</td>\n",
       "    </tr>\n",
       "    <tr>\n",
       "      <th>12090</th>\n",
       "      <td>50.0</td>\n",
       "      <td>50 to 54</td>\n",
       "    </tr>\n",
       "  </tbody>\n",
       "</table>\n",
       "<p>12091 rows × 2 columns</p>\n",
       "</div>"
      ],
      "text/plain": [
       "        age age_group\n",
       "0      38.0  35 to 39\n",
       "1      44.0  40 to 44\n",
       "2      60.0  60 to 64\n",
       "3      48.0  45 to 49\n",
       "4      62.0  60 to 64\n",
       "...     ...       ...\n",
       "12086  35.0  35 to 39\n",
       "12087  37.0  35 to 39\n",
       "12088  62.0  60 to 64\n",
       "12089  18.0  15 to 19\n",
       "12090  50.0  50 to 54\n",
       "\n",
       "[12091 rows x 2 columns]"
      ]
     },
     "execution_count": 32,
     "metadata": {
      "tags": []
     },
     "output_type": "execute_result"
    }
   ],
   "source": [
    "data2 = df[['age','age_group']]\n",
    "data2"
   ]
  },
  {
   "cell_type": "code",
   "execution_count": null,
   "metadata": {
    "colab": {
     "base_uri": "https://localhost:8080/",
     "height": 243
    },
    "id": "2KltFfTRh2qB",
    "outputId": "bbdc11f4-a612-4fbe-bc07-3c13654afd29"
   },
   "outputs": [
    {
     "data": {
      "text/plain": [
       "age_group  age  \n",
       "0 to 4     0.0      57\n",
       "           1.0      31\n",
       "           2.0      24\n",
       "           3.0      21\n",
       "           4.0      21\n",
       "                    ..\n",
       "80+        96.0      3\n",
       "           99.0      3\n",
       "           95.0      2\n",
       "           97.0      1\n",
       "           101.0     1\n",
       "Name: age, Length: 100, dtype: int64"
      ]
     },
     "execution_count": 33,
     "metadata": {
      "tags": []
     },
     "output_type": "execute_result"
    }
   ],
   "source": [
    "data2_count = data2.groupby([\"age_group\"])[\"age\"].value_counts()\n",
    "data2_count"
   ]
  },
  {
   "cell_type": "markdown",
   "metadata": {
    "id": "XEqA_18zalR4"
   },
   "source": [
    "Group by age group to find the total case for each age group"
   ]
  },
  {
   "cell_type": "code",
   "execution_count": null,
   "metadata": {
    "colab": {
     "base_uri": "https://localhost:8080/",
     "height": 347
    },
    "id": "G8r3n9IalymA",
    "outputId": "e5a52a36-9598-49f2-d3da-93a472e5384a"
   },
   "outputs": [
    {
     "data": {
      "text/plain": [
       "age_group\n",
       "0 to 4       154\n",
       "10 to 14     169\n",
       "15 to 19     282\n",
       "20 to 24     767\n",
       "25 to 29    1289\n",
       "30 to 34    1510\n",
       "35 to 39    1061\n",
       "40 to 44     967\n",
       "45 to 49    1002\n",
       "5 to 9       122\n",
       "50 to 54     973\n",
       "55 to 59     967\n",
       "60 to 64     921\n",
       "65 to 69     713\n",
       "70 to 74     565\n",
       "75 to 79     287\n",
       "80+          321\n",
       "Name: age, dtype: int64"
      ]
     },
     "execution_count": 34,
     "metadata": {
      "tags": []
     },
     "output_type": "execute_result"
    }
   ],
   "source": [
    "data2.groupby([\"age_group\"])[\"age\"].count()"
   ]
  },
  {
   "cell_type": "markdown",
   "metadata": {
    "id": "lbBStkpsatkp"
   },
   "source": [
    "Add the total case for each group into a new column named 'count'"
   ]
  },
  {
   "cell_type": "code",
   "execution_count": null,
   "metadata": {
    "colab": {
     "base_uri": "https://localhost:8080/",
     "height": 539
    },
    "id": "Gm_zwWttkJas",
    "outputId": "ab9aa013-4307-4305-ac2c-fbdd15c10ccb"
   },
   "outputs": [
    {
     "name": "stderr",
     "output_type": "stream",
     "text": [
      "/usr/local/lib/python3.6/dist-packages/ipykernel_launcher.py:1: SettingWithCopyWarning: \n",
      "A value is trying to be set on a copy of a slice from a DataFrame.\n",
      "Try using .loc[row_indexer,col_indexer] = value instead\n",
      "\n",
      "See the caveats in the documentation: https://pandas.pydata.org/pandas-docs/stable/user_guide/indexing.html#returning-a-view-versus-a-copy\n",
      "  \"\"\"Entry point for launching an IPython kernel.\n"
     ]
    },
    {
     "data": {
      "text/html": [
       "<div>\n",
       "<style scoped>\n",
       "    .dataframe tbody tr th:only-of-type {\n",
       "        vertical-align: middle;\n",
       "    }\n",
       "\n",
       "    .dataframe tbody tr th {\n",
       "        vertical-align: top;\n",
       "    }\n",
       "\n",
       "    .dataframe thead th {\n",
       "        text-align: right;\n",
       "    }\n",
       "</style>\n",
       "<table border=\"1\" class=\"dataframe\">\n",
       "  <thead>\n",
       "    <tr style=\"text-align: right;\">\n",
       "      <th></th>\n",
       "      <th>age</th>\n",
       "      <th>age_group</th>\n",
       "      <th>count</th>\n",
       "    </tr>\n",
       "  </thead>\n",
       "  <tbody>\n",
       "    <tr>\n",
       "      <th>0</th>\n",
       "      <td>38.0</td>\n",
       "      <td>35 to 39</td>\n",
       "      <td>1061.0</td>\n",
       "    </tr>\n",
       "    <tr>\n",
       "      <th>1</th>\n",
       "      <td>44.0</td>\n",
       "      <td>40 to 44</td>\n",
       "      <td>967.0</td>\n",
       "    </tr>\n",
       "    <tr>\n",
       "      <th>2</th>\n",
       "      <td>60.0</td>\n",
       "      <td>60 to 64</td>\n",
       "      <td>921.0</td>\n",
       "    </tr>\n",
       "    <tr>\n",
       "      <th>3</th>\n",
       "      <td>48.0</td>\n",
       "      <td>45 to 49</td>\n",
       "      <td>1002.0</td>\n",
       "    </tr>\n",
       "    <tr>\n",
       "      <th>4</th>\n",
       "      <td>62.0</td>\n",
       "      <td>60 to 64</td>\n",
       "      <td>921.0</td>\n",
       "    </tr>\n",
       "    <tr>\n",
       "      <th>...</th>\n",
       "      <td>...</td>\n",
       "      <td>...</td>\n",
       "      <td>...</td>\n",
       "    </tr>\n",
       "    <tr>\n",
       "      <th>12086</th>\n",
       "      <td>35.0</td>\n",
       "      <td>35 to 39</td>\n",
       "      <td>1061.0</td>\n",
       "    </tr>\n",
       "    <tr>\n",
       "      <th>12087</th>\n",
       "      <td>37.0</td>\n",
       "      <td>35 to 39</td>\n",
       "      <td>1061.0</td>\n",
       "    </tr>\n",
       "    <tr>\n",
       "      <th>12088</th>\n",
       "      <td>62.0</td>\n",
       "      <td>60 to 64</td>\n",
       "      <td>921.0</td>\n",
       "    </tr>\n",
       "    <tr>\n",
       "      <th>12089</th>\n",
       "      <td>18.0</td>\n",
       "      <td>15 to 19</td>\n",
       "      <td>282.0</td>\n",
       "    </tr>\n",
       "    <tr>\n",
       "      <th>12090</th>\n",
       "      <td>50.0</td>\n",
       "      <td>50 to 54</td>\n",
       "      <td>973.0</td>\n",
       "    </tr>\n",
       "  </tbody>\n",
       "</table>\n",
       "<p>12091 rows × 3 columns</p>\n",
       "</div>"
      ],
      "text/plain": [
       "        age age_group   count\n",
       "0      38.0  35 to 39  1061.0\n",
       "1      44.0  40 to 44   967.0\n",
       "2      60.0  60 to 64   921.0\n",
       "3      48.0  45 to 49  1002.0\n",
       "4      62.0  60 to 64   921.0\n",
       "...     ...       ...     ...\n",
       "12086  35.0  35 to 39  1061.0\n",
       "12087  37.0  35 to 39  1061.0\n",
       "12088  62.0  60 to 64   921.0\n",
       "12089  18.0  15 to 19   282.0\n",
       "12090  50.0  50 to 54   973.0\n",
       "\n",
       "[12091 rows x 3 columns]"
      ]
     },
     "execution_count": 35,
     "metadata": {
      "tags": []
     },
     "output_type": "execute_result"
    }
   ],
   "source": [
    "data2['count'] = data2.groupby([\"age_group\"])[\"age\"].transform('count')\n",
    "data2"
   ]
  },
  {
   "cell_type": "code",
   "execution_count": null,
   "metadata": {
    "id": "EweLHKJ2a0yt"
   },
   "outputs": [],
   "source": [
    "Drop Nan value in the new data frame that include count column"
   ]
  },
  {
   "cell_type": "code",
   "execution_count": null,
   "metadata": {
    "colab": {
     "base_uri": "https://localhost:8080/",
     "height": 415
    },
    "id": "vPViyhMrnWqU",
    "outputId": "d1fddf2e-365d-4018-c43a-209289952b83"
   },
   "outputs": [
    {
     "data": {
      "text/html": [
       "<div>\n",
       "<style scoped>\n",
       "    .dataframe tbody tr th:only-of-type {\n",
       "        vertical-align: middle;\n",
       "    }\n",
       "\n",
       "    .dataframe tbody tr th {\n",
       "        vertical-align: top;\n",
       "    }\n",
       "\n",
       "    .dataframe thead th {\n",
       "        text-align: right;\n",
       "    }\n",
       "</style>\n",
       "<table border=\"1\" class=\"dataframe\">\n",
       "  <thead>\n",
       "    <tr style=\"text-align: right;\">\n",
       "      <th></th>\n",
       "      <th>age</th>\n",
       "      <th>age_group</th>\n",
       "      <th>count</th>\n",
       "    </tr>\n",
       "  </thead>\n",
       "  <tbody>\n",
       "    <tr>\n",
       "      <th>0</th>\n",
       "      <td>38.0</td>\n",
       "      <td>35 to 39</td>\n",
       "      <td>1061.0</td>\n",
       "    </tr>\n",
       "    <tr>\n",
       "      <th>1</th>\n",
       "      <td>44.0</td>\n",
       "      <td>40 to 44</td>\n",
       "      <td>967.0</td>\n",
       "    </tr>\n",
       "    <tr>\n",
       "      <th>2</th>\n",
       "      <td>60.0</td>\n",
       "      <td>60 to 64</td>\n",
       "      <td>921.0</td>\n",
       "    </tr>\n",
       "    <tr>\n",
       "      <th>3</th>\n",
       "      <td>48.0</td>\n",
       "      <td>45 to 49</td>\n",
       "      <td>1002.0</td>\n",
       "    </tr>\n",
       "    <tr>\n",
       "      <th>4</th>\n",
       "      <td>62.0</td>\n",
       "      <td>60 to 64</td>\n",
       "      <td>921.0</td>\n",
       "    </tr>\n",
       "    <tr>\n",
       "      <th>...</th>\n",
       "      <td>...</td>\n",
       "      <td>...</td>\n",
       "      <td>...</td>\n",
       "    </tr>\n",
       "    <tr>\n",
       "      <th>12065</th>\n",
       "      <td>35.0</td>\n",
       "      <td>35 to 39</td>\n",
       "      <td>1061.0</td>\n",
       "    </tr>\n",
       "    <tr>\n",
       "      <th>12066</th>\n",
       "      <td>37.0</td>\n",
       "      <td>35 to 39</td>\n",
       "      <td>1061.0</td>\n",
       "    </tr>\n",
       "    <tr>\n",
       "      <th>12067</th>\n",
       "      <td>62.0</td>\n",
       "      <td>60 to 64</td>\n",
       "      <td>921.0</td>\n",
       "    </tr>\n",
       "    <tr>\n",
       "      <th>12068</th>\n",
       "      <td>18.0</td>\n",
       "      <td>15 to 19</td>\n",
       "      <td>282.0</td>\n",
       "    </tr>\n",
       "    <tr>\n",
       "      <th>12069</th>\n",
       "      <td>50.0</td>\n",
       "      <td>50 to 54</td>\n",
       "      <td>973.0</td>\n",
       "    </tr>\n",
       "  </tbody>\n",
       "</table>\n",
       "<p>12070 rows × 3 columns</p>\n",
       "</div>"
      ],
      "text/plain": [
       "        age age_group   count\n",
       "0      38.0  35 to 39  1061.0\n",
       "1      44.0  40 to 44   967.0\n",
       "2      60.0  60 to 64   921.0\n",
       "3      48.0  45 to 49  1002.0\n",
       "4      62.0  60 to 64   921.0\n",
       "...     ...       ...     ...\n",
       "12065  35.0  35 to 39  1061.0\n",
       "12066  37.0  35 to 39  1061.0\n",
       "12067  62.0  60 to 64   921.0\n",
       "12068  18.0  15 to 19   282.0\n",
       "12069  50.0  50 to 54   973.0\n",
       "\n",
       "[12070 rows x 3 columns]"
      ]
     },
     "execution_count": 36,
     "metadata": {
      "tags": []
     },
     "output_type": "execute_result"
    }
   ],
   "source": [
    "data2= data2.dropna()\n",
    "data2= data2.reset_index(drop=True)\n",
    "data2"
   ]
  },
  {
   "cell_type": "markdown",
   "metadata": {
    "id": "2y2bjtEKa8Jq"
   },
   "source": [
    "Sort the data according to age_group column"
   ]
  },
  {
   "cell_type": "code",
   "execution_count": null,
   "metadata": {
    "id": "SguUkZqmmKUS"
   },
   "outputs": [],
   "source": [
    "data2.sort_values(\"age_group\", inplace= True)"
   ]
  },
  {
   "cell_type": "markdown",
   "metadata": {
    "id": "ijFnRO13bDqn"
   },
   "source": [
    "Drop duplicates data in age_group column"
   ]
  },
  {
   "cell_type": "code",
   "execution_count": null,
   "metadata": {
    "colab": {
     "base_uri": "https://localhost:8080/",
     "height": 570
    },
    "id": "IXnc54kFn0fj",
    "outputId": "77e6f246-3b1d-49bb-edd9-30af5acb6a4f"
   },
   "outputs": [
    {
     "data": {
      "text/html": [
       "<div>\n",
       "<style scoped>\n",
       "    .dataframe tbody tr th:only-of-type {\n",
       "        vertical-align: middle;\n",
       "    }\n",
       "\n",
       "    .dataframe tbody tr th {\n",
       "        vertical-align: top;\n",
       "    }\n",
       "\n",
       "    .dataframe thead th {\n",
       "        text-align: right;\n",
       "    }\n",
       "</style>\n",
       "<table border=\"1\" class=\"dataframe\">\n",
       "  <thead>\n",
       "    <tr style=\"text-align: right;\">\n",
       "      <th></th>\n",
       "      <th>age</th>\n",
       "      <th>age_group</th>\n",
       "      <th>count</th>\n",
       "    </tr>\n",
       "  </thead>\n",
       "  <tbody>\n",
       "    <tr>\n",
       "      <th>4016</th>\n",
       "      <td>2.0</td>\n",
       "      <td>0 to 4</td>\n",
       "      <td>154.0</td>\n",
       "    </tr>\n",
       "    <tr>\n",
       "      <th>10040</th>\n",
       "      <td>10.0</td>\n",
       "      <td>10 to 14</td>\n",
       "      <td>169.0</td>\n",
       "    </tr>\n",
       "    <tr>\n",
       "      <th>9927</th>\n",
       "      <td>18.0</td>\n",
       "      <td>15 to 19</td>\n",
       "      <td>282.0</td>\n",
       "    </tr>\n",
       "    <tr>\n",
       "      <th>10340</th>\n",
       "      <td>24.0</td>\n",
       "      <td>20 to 24</td>\n",
       "      <td>767.0</td>\n",
       "    </tr>\n",
       "    <tr>\n",
       "      <th>3631</th>\n",
       "      <td>28.0</td>\n",
       "      <td>25 to 29</td>\n",
       "      <td>1289.0</td>\n",
       "    </tr>\n",
       "    <tr>\n",
       "      <th>4630</th>\n",
       "      <td>30.0</td>\n",
       "      <td>30 to 34</td>\n",
       "      <td>1510.0</td>\n",
       "    </tr>\n",
       "    <tr>\n",
       "      <th>10940</th>\n",
       "      <td>35.0</td>\n",
       "      <td>35 to 39</td>\n",
       "      <td>1061.0</td>\n",
       "    </tr>\n",
       "    <tr>\n",
       "      <th>9555</th>\n",
       "      <td>42.0</td>\n",
       "      <td>40 to 44</td>\n",
       "      <td>967.0</td>\n",
       "    </tr>\n",
       "    <tr>\n",
       "      <th>6820</th>\n",
       "      <td>45.0</td>\n",
       "      <td>45 to 49</td>\n",
       "      <td>1002.0</td>\n",
       "    </tr>\n",
       "    <tr>\n",
       "      <th>11309</th>\n",
       "      <td>8.0</td>\n",
       "      <td>5 to 9</td>\n",
       "      <td>122.0</td>\n",
       "    </tr>\n",
       "    <tr>\n",
       "      <th>10074</th>\n",
       "      <td>51.0</td>\n",
       "      <td>50 to 54</td>\n",
       "      <td>973.0</td>\n",
       "    </tr>\n",
       "    <tr>\n",
       "      <th>3047</th>\n",
       "      <td>57.0</td>\n",
       "      <td>55 to 59</td>\n",
       "      <td>967.0</td>\n",
       "    </tr>\n",
       "    <tr>\n",
       "      <th>1352</th>\n",
       "      <td>62.0</td>\n",
       "      <td>60 to 64</td>\n",
       "      <td>921.0</td>\n",
       "    </tr>\n",
       "    <tr>\n",
       "      <th>2599</th>\n",
       "      <td>65.0</td>\n",
       "      <td>65 to 69</td>\n",
       "      <td>713.0</td>\n",
       "    </tr>\n",
       "    <tr>\n",
       "      <th>2775</th>\n",
       "      <td>74.0</td>\n",
       "      <td>70 to 74</td>\n",
       "      <td>565.0</td>\n",
       "    </tr>\n",
       "    <tr>\n",
       "      <th>50</th>\n",
       "      <td>79.0</td>\n",
       "      <td>75 to 79</td>\n",
       "      <td>287.0</td>\n",
       "    </tr>\n",
       "    <tr>\n",
       "      <th>11054</th>\n",
       "      <td>87.0</td>\n",
       "      <td>80+</td>\n",
       "      <td>321.0</td>\n",
       "    </tr>\n",
       "  </tbody>\n",
       "</table>\n",
       "</div>"
      ],
      "text/plain": [
       "        age age_group   count\n",
       "4016    2.0    0 to 4   154.0\n",
       "10040  10.0  10 to 14   169.0\n",
       "9927   18.0  15 to 19   282.0\n",
       "10340  24.0  20 to 24   767.0\n",
       "3631   28.0  25 to 29  1289.0\n",
       "4630   30.0  30 to 34  1510.0\n",
       "10940  35.0  35 to 39  1061.0\n",
       "9555   42.0  40 to 44   967.0\n",
       "6820   45.0  45 to 49  1002.0\n",
       "11309   8.0    5 to 9   122.0\n",
       "10074  51.0  50 to 54   973.0\n",
       "3047   57.0  55 to 59   967.0\n",
       "1352   62.0  60 to 64   921.0\n",
       "2599   65.0  65 to 69   713.0\n",
       "2775   74.0  70 to 74   565.0\n",
       "50     79.0  75 to 79   287.0\n",
       "11054  87.0       80+   321.0"
      ]
     },
     "execution_count": 38,
     "metadata": {
      "tags": []
     },
     "output_type": "execute_result"
    }
   ],
   "source": [
    "data2.drop_duplicates(subset=\"age_group\", inplace=True)\n",
    "data2"
   ]
  },
  {
   "cell_type": "code",
   "execution_count": null,
   "metadata": {
    "id": "_P6jHoAXub3b"
   },
   "outputs": [],
   "source": [
    "data2 = data2.groupby('age_group')['count'].sum().to_frame().reset_index().sort_values(by='age_group')"
   ]
  },
  {
   "cell_type": "code",
   "execution_count": null,
   "metadata": {
    "colab": {
     "base_uri": "https://localhost:8080/",
     "height": 570
    },
    "id": "p8kVyJ-_VjHN",
    "outputId": "e66eab3e-ae92-4e66-e08a-22c54cd17e7b"
   },
   "outputs": [
    {
     "data": {
      "text/html": [
       "<div>\n",
       "<style scoped>\n",
       "    .dataframe tbody tr th:only-of-type {\n",
       "        vertical-align: middle;\n",
       "    }\n",
       "\n",
       "    .dataframe tbody tr th {\n",
       "        vertical-align: top;\n",
       "    }\n",
       "\n",
       "    .dataframe thead th {\n",
       "        text-align: right;\n",
       "    }\n",
       "</style>\n",
       "<table border=\"1\" class=\"dataframe\">\n",
       "  <thead>\n",
       "    <tr style=\"text-align: right;\">\n",
       "      <th></th>\n",
       "      <th>age_group</th>\n",
       "      <th>count</th>\n",
       "    </tr>\n",
       "  </thead>\n",
       "  <tbody>\n",
       "    <tr>\n",
       "      <th>0</th>\n",
       "      <td>0 to 4</td>\n",
       "      <td>154.0</td>\n",
       "    </tr>\n",
       "    <tr>\n",
       "      <th>1</th>\n",
       "      <td>10 to 14</td>\n",
       "      <td>169.0</td>\n",
       "    </tr>\n",
       "    <tr>\n",
       "      <th>2</th>\n",
       "      <td>15 to 19</td>\n",
       "      <td>282.0</td>\n",
       "    </tr>\n",
       "    <tr>\n",
       "      <th>3</th>\n",
       "      <td>20 to 24</td>\n",
       "      <td>767.0</td>\n",
       "    </tr>\n",
       "    <tr>\n",
       "      <th>4</th>\n",
       "      <td>25 to 29</td>\n",
       "      <td>1289.0</td>\n",
       "    </tr>\n",
       "    <tr>\n",
       "      <th>5</th>\n",
       "      <td>30 to 34</td>\n",
       "      <td>1510.0</td>\n",
       "    </tr>\n",
       "    <tr>\n",
       "      <th>6</th>\n",
       "      <td>35 to 39</td>\n",
       "      <td>1061.0</td>\n",
       "    </tr>\n",
       "    <tr>\n",
       "      <th>7</th>\n",
       "      <td>40 to 44</td>\n",
       "      <td>967.0</td>\n",
       "    </tr>\n",
       "    <tr>\n",
       "      <th>8</th>\n",
       "      <td>45 to 49</td>\n",
       "      <td>1002.0</td>\n",
       "    </tr>\n",
       "    <tr>\n",
       "      <th>9</th>\n",
       "      <td>5 to 9</td>\n",
       "      <td>122.0</td>\n",
       "    </tr>\n",
       "    <tr>\n",
       "      <th>10</th>\n",
       "      <td>50 to 54</td>\n",
       "      <td>973.0</td>\n",
       "    </tr>\n",
       "    <tr>\n",
       "      <th>11</th>\n",
       "      <td>55 to 59</td>\n",
       "      <td>967.0</td>\n",
       "    </tr>\n",
       "    <tr>\n",
       "      <th>12</th>\n",
       "      <td>60 to 64</td>\n",
       "      <td>921.0</td>\n",
       "    </tr>\n",
       "    <tr>\n",
       "      <th>13</th>\n",
       "      <td>65 to 69</td>\n",
       "      <td>713.0</td>\n",
       "    </tr>\n",
       "    <tr>\n",
       "      <th>14</th>\n",
       "      <td>70 to 74</td>\n",
       "      <td>565.0</td>\n",
       "    </tr>\n",
       "    <tr>\n",
       "      <th>15</th>\n",
       "      <td>75 to 79</td>\n",
       "      <td>287.0</td>\n",
       "    </tr>\n",
       "    <tr>\n",
       "      <th>16</th>\n",
       "      <td>80+</td>\n",
       "      <td>321.0</td>\n",
       "    </tr>\n",
       "  </tbody>\n",
       "</table>\n",
       "</div>"
      ],
      "text/plain": [
       "   age_group   count\n",
       "0     0 to 4   154.0\n",
       "1   10 to 14   169.0\n",
       "2   15 to 19   282.0\n",
       "3   20 to 24   767.0\n",
       "4   25 to 29  1289.0\n",
       "5   30 to 34  1510.0\n",
       "6   35 to 39  1061.0\n",
       "7   40 to 44   967.0\n",
       "8   45 to 49  1002.0\n",
       "9     5 to 9   122.0\n",
       "10  50 to 54   973.0\n",
       "11  55 to 59   967.0\n",
       "12  60 to 64   921.0\n",
       "13  65 to 69   713.0\n",
       "14  70 to 74   565.0\n",
       "15  75 to 79   287.0\n",
       "16       80+   321.0"
      ]
     },
     "execution_count": 40,
     "metadata": {
      "tags": []
     },
     "output_type": "execute_result"
    }
   ],
   "source": [
    "data2"
   ]
  },
  {
   "cell_type": "code",
   "execution_count": null,
   "metadata": {
    "colab": {
     "base_uri": "https://localhost:8080/",
     "height": 69
    },
    "id": "0DZAxk0fijnV",
    "outputId": "786116ed-ae26-41b7-8706-b2b6d1121a2a"
   },
   "outputs": [
    {
     "data": {
      "text/plain": [
       "age_group    category\n",
       "count         float64\n",
       "dtype: object"
      ]
     },
     "execution_count": 41,
     "metadata": {
      "tags": []
     },
     "output_type": "execute_result"
    }
   ],
   "source": [
    "data2.dtypes"
   ]
  },
  {
   "cell_type": "code",
   "execution_count": null,
   "metadata": {
    "id": "W9-LEyJ-emB1"
   },
   "outputs": [],
   "source": [
    "data2['count'] = pd.to_numeric(data2['count'])"
   ]
  },
  {
   "cell_type": "markdown",
   "metadata": {
    "id": "9D1s1hNfbRR7"
   },
   "source": [
    "Plot the bar graph accodrding to the age_group and total number of Covid-19 case for each age group"
   ]
  },
  {
   "cell_type": "code",
   "execution_count": null,
   "metadata": {
    "colab": {
     "base_uri": "https://localhost:8080/",
     "height": 311
    },
    "id": "ZW5uiQwLbiD-",
    "outputId": "d540eefd-1400-4ea7-f3ee-40997f5a6013"
   },
   "outputs": [
    {
     "data": {
      "image/png": "[encoded data removed]",
      "text/plain": [
       "<Figure size 432x288 with 1 Axes>"
      ]
     },
     "metadata": {
      "needs_background": "light",
      "tags": []
     },
     "output_type": "display_data"
    }
   ],
   "source": [
    "data2.plot(x ='age_group', y='count', kind = 'bar')\n",
    "plt.show()"
   ]
  },
  {
   "cell_type": "markdown",
   "metadata": {
    "id": "bLR8r_KmjUTC"
   },
   "source": [
    "##Which age group has the highest risk of death when affected with covid19?"
   ]
  },
  {
   "cell_type": "code",
   "execution_count": null,
   "metadata": {
    "colab": {
     "base_uri": "https://localhost:8080/",
     "height": 104
    },
    "id": "zuMzHorjjWKJ",
    "outputId": "e129ca9a-92a6-4b6d-ae5e-8bc465c1970d"
   },
   "outputs": [
    {
     "data": {
      "text/plain": [
       "count              12091\n",
       "unique                 5\n",
       "top       For validation\n",
       "freq                5790\n",
       "Name: status, dtype: object"
      ]
     },
     "execution_count": 55,
     "metadata": {
      "tags": []
     },
     "output_type": "execute_result"
    }
   ],
   "source": [
    "df['status'].describe()"
   ]
  },
  {
   "cell_type": "markdown",
   "metadata": {
    "id": "FudFsm7tbgA_"
   },
   "source": [
    "Select age_group, age and status column to do the analysis and put the selected column in a new data frame "
   ]
  },
  {
   "cell_type": "code",
   "execution_count": null,
   "metadata": {
    "colab": {
     "base_uri": "https://localhost:8080/",
     "height": 415
    },
    "id": "ptM-6GSpjoFZ",
    "outputId": "17c21360-6963-4a6c-d51c-55ca6a36345d"
   },
   "outputs": [
    {
     "data": {
      "text/html": [
       "<div>\n",
       "<style scoped>\n",
       "    .dataframe tbody tr th:only-of-type {\n",
       "        vertical-align: middle;\n",
       "    }\n",
       "\n",
       "    .dataframe tbody tr th {\n",
       "        vertical-align: top;\n",
       "    }\n",
       "\n",
       "    .dataframe thead th {\n",
       "        text-align: right;\n",
       "    }\n",
       "</style>\n",
       "<table border=\"1\" class=\"dataframe\">\n",
       "  <thead>\n",
       "    <tr style=\"text-align: right;\">\n",
       "      <th></th>\n",
       "      <th>age_group</th>\n",
       "      <th>age</th>\n",
       "      <th>status</th>\n",
       "    </tr>\n",
       "  </thead>\n",
       "  <tbody>\n",
       "    <tr>\n",
       "      <th>0</th>\n",
       "      <td>35 to 39</td>\n",
       "      <td>38.0</td>\n",
       "      <td>Recovered</td>\n",
       "    </tr>\n",
       "    <tr>\n",
       "      <th>1</th>\n",
       "      <td>40 to 44</td>\n",
       "      <td>44.0</td>\n",
       "      <td>Died</td>\n",
       "    </tr>\n",
       "    <tr>\n",
       "      <th>2</th>\n",
       "      <td>60 to 64</td>\n",
       "      <td>60.0</td>\n",
       "      <td>Recovered</td>\n",
       "    </tr>\n",
       "    <tr>\n",
       "      <th>3</th>\n",
       "      <td>45 to 49</td>\n",
       "      <td>48.0</td>\n",
       "      <td>Recovered</td>\n",
       "    </tr>\n",
       "    <tr>\n",
       "      <th>4</th>\n",
       "      <td>60 to 64</td>\n",
       "      <td>62.0</td>\n",
       "      <td>Died</td>\n",
       "    </tr>\n",
       "    <tr>\n",
       "      <th>...</th>\n",
       "      <td>...</td>\n",
       "      <td>...</td>\n",
       "      <td>...</td>\n",
       "    </tr>\n",
       "    <tr>\n",
       "      <th>12086</th>\n",
       "      <td>35 to 39</td>\n",
       "      <td>35.0</td>\n",
       "      <td>For validation</td>\n",
       "    </tr>\n",
       "    <tr>\n",
       "      <th>12087</th>\n",
       "      <td>35 to 39</td>\n",
       "      <td>37.0</td>\n",
       "      <td>Died</td>\n",
       "    </tr>\n",
       "    <tr>\n",
       "      <th>12088</th>\n",
       "      <td>60 to 64</td>\n",
       "      <td>62.0</td>\n",
       "      <td>For validation</td>\n",
       "    </tr>\n",
       "    <tr>\n",
       "      <th>12089</th>\n",
       "      <td>15 to 19</td>\n",
       "      <td>18.0</td>\n",
       "      <td>Home quarantined</td>\n",
       "    </tr>\n",
       "    <tr>\n",
       "      <th>12090</th>\n",
       "      <td>50 to 54</td>\n",
       "      <td>50.0</td>\n",
       "      <td>For validation</td>\n",
       "    </tr>\n",
       "  </tbody>\n",
       "</table>\n",
       "<p>12091 rows × 3 columns</p>\n",
       "</div>"
      ],
      "text/plain": [
       "      age_group   age            status\n",
       "0      35 to 39  38.0         Recovered\n",
       "1      40 to 44  44.0              Died\n",
       "2      60 to 64  60.0         Recovered\n",
       "3      45 to 49  48.0         Recovered\n",
       "4      60 to 64  62.0              Died\n",
       "...         ...   ...               ...\n",
       "12086  35 to 39  35.0    For validation\n",
       "12087  35 to 39  37.0              Died\n",
       "12088  60 to 64  62.0    For validation\n",
       "12089  15 to 19  18.0  Home quarantined\n",
       "12090  50 to 54  50.0    For validation\n",
       "\n",
       "[12091 rows x 3 columns]"
      ]
     },
     "execution_count": 56,
     "metadata": {
      "tags": []
     },
     "output_type": "execute_result"
    }
   ],
   "source": [
    "data3 = df[['age_group','age','status']]\n",
    "data3"
   ]
  },
  {
   "cell_type": "markdown",
   "metadata": {
    "id": "K9W0akyXbxfQ"
   },
   "source": [
    "Drop rows in the new data frame that have the Nan values"
   ]
  },
  {
   "cell_type": "code",
   "execution_count": null,
   "metadata": {
    "colab": {
     "base_uri": "https://localhost:8080/",
     "height": 415
    },
    "id": "nywmSFfcOgus",
    "outputId": "d595303f-7e73-4fad-8909-799084394ecf"
   },
   "outputs": [
    {
     "data": {
      "text/html": [
       "<div>\n",
       "<style scoped>\n",
       "    .dataframe tbody tr th:only-of-type {\n",
       "        vertical-align: middle;\n",
       "    }\n",
       "\n",
       "    .dataframe tbody tr th {\n",
       "        vertical-align: top;\n",
       "    }\n",
       "\n",
       "    .dataframe thead th {\n",
       "        text-align: right;\n",
       "    }\n",
       "</style>\n",
       "<table border=\"1\" class=\"dataframe\">\n",
       "  <thead>\n",
       "    <tr style=\"text-align: right;\">\n",
       "      <th></th>\n",
       "      <th>age_group</th>\n",
       "      <th>age</th>\n",
       "      <th>status</th>\n",
       "    </tr>\n",
       "  </thead>\n",
       "  <tbody>\n",
       "    <tr>\n",
       "      <th>0</th>\n",
       "      <td>35 to 39</td>\n",
       "      <td>38.0</td>\n",
       "      <td>Recovered</td>\n",
       "    </tr>\n",
       "    <tr>\n",
       "      <th>1</th>\n",
       "      <td>40 to 44</td>\n",
       "      <td>44.0</td>\n",
       "      <td>Died</td>\n",
       "    </tr>\n",
       "    <tr>\n",
       "      <th>2</th>\n",
       "      <td>60 to 64</td>\n",
       "      <td>60.0</td>\n",
       "      <td>Recovered</td>\n",
       "    </tr>\n",
       "    <tr>\n",
       "      <th>3</th>\n",
       "      <td>45 to 49</td>\n",
       "      <td>48.0</td>\n",
       "      <td>Recovered</td>\n",
       "    </tr>\n",
       "    <tr>\n",
       "      <th>4</th>\n",
       "      <td>60 to 64</td>\n",
       "      <td>62.0</td>\n",
       "      <td>Died</td>\n",
       "    </tr>\n",
       "    <tr>\n",
       "      <th>...</th>\n",
       "      <td>...</td>\n",
       "      <td>...</td>\n",
       "      <td>...</td>\n",
       "    </tr>\n",
       "    <tr>\n",
       "      <th>12065</th>\n",
       "      <td>35 to 39</td>\n",
       "      <td>35.0</td>\n",
       "      <td>For validation</td>\n",
       "    </tr>\n",
       "    <tr>\n",
       "      <th>12066</th>\n",
       "      <td>35 to 39</td>\n",
       "      <td>37.0</td>\n",
       "      <td>Died</td>\n",
       "    </tr>\n",
       "    <tr>\n",
       "      <th>12067</th>\n",
       "      <td>60 to 64</td>\n",
       "      <td>62.0</td>\n",
       "      <td>For validation</td>\n",
       "    </tr>\n",
       "    <tr>\n",
       "      <th>12068</th>\n",
       "      <td>15 to 19</td>\n",
       "      <td>18.0</td>\n",
       "      <td>Home quarantined</td>\n",
       "    </tr>\n",
       "    <tr>\n",
       "      <th>12069</th>\n",
       "      <td>50 to 54</td>\n",
       "      <td>50.0</td>\n",
       "      <td>For validation</td>\n",
       "    </tr>\n",
       "  </tbody>\n",
       "</table>\n",
       "<p>12070 rows × 3 columns</p>\n",
       "</div>"
      ],
      "text/plain": [
       "      age_group   age            status\n",
       "0      35 to 39  38.0         Recovered\n",
       "1      40 to 44  44.0              Died\n",
       "2      60 to 64  60.0         Recovered\n",
       "3      45 to 49  48.0         Recovered\n",
       "4      60 to 64  62.0              Died\n",
       "...         ...   ...               ...\n",
       "12065  35 to 39  35.0    For validation\n",
       "12066  35 to 39  37.0              Died\n",
       "12067  60 to 64  62.0    For validation\n",
       "12068  15 to 19  18.0  Home quarantined\n",
       "12069  50 to 54  50.0    For validation\n",
       "\n",
       "[12070 rows x 3 columns]"
      ]
     },
     "execution_count": 57,
     "metadata": {
      "tags": []
     },
     "output_type": "execute_result"
    }
   ],
   "source": [
    "data3= data3.dropna()\n",
    "data3= data3.reset_index(drop=True)\n",
    "data3"
   ]
  },
  {
   "cell_type": "markdown",
   "metadata": {
    "id": "GACU3FuicAWC"
   },
   "source": [
    "Group the data according to the age group and the patient status"
   ]
  },
  {
   "cell_type": "code",
   "execution_count": null,
   "metadata": {
    "colab": {
     "base_uri": "https://localhost:8080/",
     "height": 243
    },
    "id": "OG4kGN4Mj7Rt",
    "outputId": "13e7cdc9-6f76-4410-80ee-d6deadebf41c"
   },
   "outputs": [
    {
     "data": {
      "text/plain": [
       "age_group  status          \n",
       "0 to 4     For validation      100\n",
       "           Admitted             22\n",
       "           Recovered            14\n",
       "           Home quarantined     11\n",
       "           Died                  7\n",
       "                              ... \n",
       "80+        Died                108\n",
       "           For validation       90\n",
       "           Admitted             72\n",
       "           Recovered            37\n",
       "           Home quarantined     14\n",
       "Name: status, Length: 85, dtype: int64"
      ]
     },
     "execution_count": 58,
     "metadata": {
      "tags": []
     },
     "output_type": "execute_result"
    }
   ],
   "source": [
    "data3_count = data3.groupby([\"age_group\"])[\"status\"].value_counts()\n",
    "data3_count"
   ]
  },
  {
   "cell_type": "code",
   "execution_count": null,
   "metadata": {
    "colab": {
     "base_uri": "https://localhost:8080/",
     "height": 347
    },
    "id": "OT9hvXXBkUau",
    "outputId": "67f8be91-58fc-4a7a-bb4c-b9a02291e33f"
   },
   "outputs": [
    {
     "data": {
      "text/plain": [
       "age_group\n",
       "0 to 4       154\n",
       "10 to 14     169\n",
       "15 to 19     282\n",
       "20 to 24     767\n",
       "25 to 29    1289\n",
       "30 to 34    1510\n",
       "35 to 39    1061\n",
       "40 to 44     967\n",
       "45 to 49    1002\n",
       "5 to 9       122\n",
       "50 to 54     973\n",
       "55 to 59     967\n",
       "60 to 64     921\n",
       "65 to 69     713\n",
       "70 to 74     565\n",
       "75 to 79     287\n",
       "80+          321\n",
       "Name: status, dtype: int64"
      ]
     },
     "execution_count": 59,
     "metadata": {
      "tags": []
     },
     "output_type": "execute_result"
    }
   ],
   "source": [
    " data3_count1= data3.groupby(\"age_group\")[\"status\"].count()\n",
    " data3_count1"
   ]
  },
  {
   "cell_type": "markdown",
   "metadata": {
    "id": "ov07gq2BcHQt"
   },
   "source": [
    "Use unstack function to separate the unique data from status column into 5 differents new column. The data in the new columns is a value accumulate from each of the age_group column. Then, add 3 more additional columns which are total, Died_percent, and Recovered_percent. The formula has been added into the code for calculating the Died percentange and Recovered percentage for each age group. "
   ]
  },
  {
   "cell_type": "code",
   "execution_count": null,
   "metadata": {
    "colab": {
     "base_uri": "https://localhost:8080/",
     "height": 601
    },
    "id": "clFBMGKarUy6",
    "outputId": "caa62c74-036d-4118-cdcb-e3e91924de80"
   },
   "outputs": [
    {
     "data": {
      "text/html": [
       "<div>\n",
       "<style scoped>\n",
       "    .dataframe tbody tr th:only-of-type {\n",
       "        vertical-align: middle;\n",
       "    }\n",
       "\n",
       "    .dataframe tbody tr th {\n",
       "        vertical-align: top;\n",
       "    }\n",
       "\n",
       "    .dataframe thead th {\n",
       "        text-align: right;\n",
       "    }\n",
       "</style>\n",
       "<table border=\"1\" class=\"dataframe\">\n",
       "  <thead>\n",
       "    <tr style=\"text-align: right;\">\n",
       "      <th>status</th>\n",
       "      <th>Admitted</th>\n",
       "      <th>Died</th>\n",
       "      <th>for_validation</th>\n",
       "      <th>home_quarantined</th>\n",
       "      <th>Recovered</th>\n",
       "      <th>total</th>\n",
       "      <th>Died_percent</th>\n",
       "      <th>Recovered_percent</th>\n",
       "    </tr>\n",
       "    <tr>\n",
       "      <th>age_group</th>\n",
       "      <th></th>\n",
       "      <th></th>\n",
       "      <th></th>\n",
       "      <th></th>\n",
       "      <th></th>\n",
       "      <th></th>\n",
       "      <th></th>\n",
       "      <th></th>\n",
       "    </tr>\n",
       "  </thead>\n",
       "  <tbody>\n",
       "    <tr>\n",
       "      <th>0 to 4</th>\n",
       "      <td>22</td>\n",
       "      <td>7</td>\n",
       "      <td>100</td>\n",
       "      <td>11</td>\n",
       "      <td>14</td>\n",
       "      <td>154</td>\n",
       "      <td>4.55</td>\n",
       "      <td>9.09</td>\n",
       "    </tr>\n",
       "    <tr>\n",
       "      <th>10 to 14</th>\n",
       "      <td>8</td>\n",
       "      <td>1</td>\n",
       "      <td>142</td>\n",
       "      <td>11</td>\n",
       "      <td>7</td>\n",
       "      <td>169</td>\n",
       "      <td>0.59</td>\n",
       "      <td>4.14</td>\n",
       "    </tr>\n",
       "    <tr>\n",
       "      <th>15 to 19</th>\n",
       "      <td>25</td>\n",
       "      <td>4</td>\n",
       "      <td>228</td>\n",
       "      <td>15</td>\n",
       "      <td>10</td>\n",
       "      <td>282</td>\n",
       "      <td>1.42</td>\n",
       "      <td>3.55</td>\n",
       "    </tr>\n",
       "    <tr>\n",
       "      <th>20 to 24</th>\n",
       "      <td>97</td>\n",
       "      <td>3</td>\n",
       "      <td>451</td>\n",
       "      <td>90</td>\n",
       "      <td>126</td>\n",
       "      <td>767</td>\n",
       "      <td>0.39</td>\n",
       "      <td>16.43</td>\n",
       "    </tr>\n",
       "    <tr>\n",
       "      <th>25 to 29</th>\n",
       "      <td>140</td>\n",
       "      <td>6</td>\n",
       "      <td>718</td>\n",
       "      <td>184</td>\n",
       "      <td>241</td>\n",
       "      <td>1289</td>\n",
       "      <td>0.47</td>\n",
       "      <td>18.70</td>\n",
       "    </tr>\n",
       "    <tr>\n",
       "      <th>30 to 34</th>\n",
       "      <td>185</td>\n",
       "      <td>11</td>\n",
       "      <td>745</td>\n",
       "      <td>230</td>\n",
       "      <td>339</td>\n",
       "      <td>1510</td>\n",
       "      <td>0.73</td>\n",
       "      <td>22.45</td>\n",
       "    </tr>\n",
       "    <tr>\n",
       "      <th>35 to 39</th>\n",
       "      <td>129</td>\n",
       "      <td>20</td>\n",
       "      <td>563</td>\n",
       "      <td>130</td>\n",
       "      <td>219</td>\n",
       "      <td>1061</td>\n",
       "      <td>1.89</td>\n",
       "      <td>20.64</td>\n",
       "    </tr>\n",
       "    <tr>\n",
       "      <th>40 to 44</th>\n",
       "      <td>128</td>\n",
       "      <td>30</td>\n",
       "      <td>506</td>\n",
       "      <td>114</td>\n",
       "      <td>189</td>\n",
       "      <td>967</td>\n",
       "      <td>3.10</td>\n",
       "      <td>19.54</td>\n",
       "    </tr>\n",
       "    <tr>\n",
       "      <th>45 to 49</th>\n",
       "      <td>151</td>\n",
       "      <td>38</td>\n",
       "      <td>483</td>\n",
       "      <td>103</td>\n",
       "      <td>227</td>\n",
       "      <td>1002</td>\n",
       "      <td>3.79</td>\n",
       "      <td>22.65</td>\n",
       "    </tr>\n",
       "    <tr>\n",
       "      <th>5 to 9</th>\n",
       "      <td>5</td>\n",
       "      <td>1</td>\n",
       "      <td>98</td>\n",
       "      <td>6</td>\n",
       "      <td>12</td>\n",
       "      <td>122</td>\n",
       "      <td>0.82</td>\n",
       "      <td>9.84</td>\n",
       "    </tr>\n",
       "    <tr>\n",
       "      <th>50 to 54</th>\n",
       "      <td>137</td>\n",
       "      <td>60</td>\n",
       "      <td>441</td>\n",
       "      <td>101</td>\n",
       "      <td>234</td>\n",
       "      <td>973</td>\n",
       "      <td>6.17</td>\n",
       "      <td>24.05</td>\n",
       "    </tr>\n",
       "    <tr>\n",
       "      <th>55 to 59</th>\n",
       "      <td>172</td>\n",
       "      <td>77</td>\n",
       "      <td>416</td>\n",
       "      <td>82</td>\n",
       "      <td>220</td>\n",
       "      <td>967</td>\n",
       "      <td>7.96</td>\n",
       "      <td>22.75</td>\n",
       "    </tr>\n",
       "    <tr>\n",
       "      <th>60 to 64</th>\n",
       "      <td>168</td>\n",
       "      <td>129</td>\n",
       "      <td>348</td>\n",
       "      <td>68</td>\n",
       "      <td>208</td>\n",
       "      <td>921</td>\n",
       "      <td>14.01</td>\n",
       "      <td>22.58</td>\n",
       "    </tr>\n",
       "    <tr>\n",
       "      <th>65 to 69</th>\n",
       "      <td>153</td>\n",
       "      <td>125</td>\n",
       "      <td>193</td>\n",
       "      <td>50</td>\n",
       "      <td>192</td>\n",
       "      <td>713</td>\n",
       "      <td>17.53</td>\n",
       "      <td>26.93</td>\n",
       "    </tr>\n",
       "    <tr>\n",
       "      <th>70 to 74</th>\n",
       "      <td>123</td>\n",
       "      <td>109</td>\n",
       "      <td>163</td>\n",
       "      <td>44</td>\n",
       "      <td>126</td>\n",
       "      <td>565</td>\n",
       "      <td>19.29</td>\n",
       "      <td>22.30</td>\n",
       "    </tr>\n",
       "    <tr>\n",
       "      <th>75 to 79</th>\n",
       "      <td>55</td>\n",
       "      <td>77</td>\n",
       "      <td>88</td>\n",
       "      <td>9</td>\n",
       "      <td>58</td>\n",
       "      <td>287</td>\n",
       "      <td>26.83</td>\n",
       "      <td>20.21</td>\n",
       "    </tr>\n",
       "    <tr>\n",
       "      <th>80+</th>\n",
       "      <td>72</td>\n",
       "      <td>108</td>\n",
       "      <td>90</td>\n",
       "      <td>14</td>\n",
       "      <td>37</td>\n",
       "      <td>321</td>\n",
       "      <td>33.64</td>\n",
       "      <td>11.53</td>\n",
       "    </tr>\n",
       "  </tbody>\n",
       "</table>\n",
       "</div>"
      ],
      "text/plain": [
       "status     Admitted  Died  ...  Died_percent  Recovered_percent\n",
       "age_group                  ...                                 \n",
       "0 to 4           22     7  ...          4.55               9.09\n",
       "10 to 14          8     1  ...          0.59               4.14\n",
       "15 to 19         25     4  ...          1.42               3.55\n",
       "20 to 24         97     3  ...          0.39              16.43\n",
       "25 to 29        140     6  ...          0.47              18.70\n",
       "30 to 34        185    11  ...          0.73              22.45\n",
       "35 to 39        129    20  ...          1.89              20.64\n",
       "40 to 44        128    30  ...          3.10              19.54\n",
       "45 to 49        151    38  ...          3.79              22.65\n",
       "5 to 9            5     1  ...          0.82               9.84\n",
       "50 to 54        137    60  ...          6.17              24.05\n",
       "55 to 59        172    77  ...          7.96              22.75\n",
       "60 to 64        168   129  ...         14.01              22.58\n",
       "65 to 69        153   125  ...         17.53              26.93\n",
       "70 to 74        123   109  ...         19.29              22.30\n",
       "75 to 79         55    77  ...         26.83              20.21\n",
       "80+              72   108  ...         33.64              11.53\n",
       "\n",
       "[17 rows x 8 columns]"
      ]
     },
     "execution_count": 60,
     "metadata": {
      "tags": []
     },
     "output_type": "execute_result"
    }
   ],
   "source": [
    "data3_status = data3.groupby('age_group')['status'].value_counts().unstack().fillna(0)\n",
    "data3_status.rename(columns = {'Home quarantined':'home_quarantined'}, inplace = True)\n",
    "data3_status.rename(columns = {'For validation':'for_validation'}, inplace = True)\n",
    "data3_status['total'] = data3_status.apply(lambda row: row.Admitted + row.Died + row.for_validation + row.home_quarantined + row.Recovered, axis=1)\n",
    "data3_status['Died_percent'] = data3_status.apply(lambda row: row.Died/ row.total * 100, axis=1)\n",
    "data3_status['Recovered_percent'] = data3_status.apply(lambda row: row.Recovered/ row.total * 100, axis=1)\n",
    "data3_status = data3_status.round(2)\n",
    "data3_status"
   ]
  },
  {
   "cell_type": "code",
   "execution_count": null,
   "metadata": {
    "colab": {
     "base_uri": "https://localhost:8080/",
     "height": 191
    },
    "id": "zAIsLGDbzMwi",
    "outputId": "816ff8ad-a06e-41ef-9c45-795baca14903"
   },
   "outputs": [
    {
     "data": {
      "text/plain": [
       "status\n",
       "Admitted               int64\n",
       "Died                   int64\n",
       "for_validation         int64\n",
       "home_quarantined       int64\n",
       "Recovered              int64\n",
       "total                  int64\n",
       "Died_percent         float64\n",
       "Recovered_percent    float64\n",
       "dtype: object"
      ]
     },
     "execution_count": 52,
     "metadata": {
      "tags": []
     },
     "output_type": "execute_result"
    }
   ],
   "source": [
    "data3_status.dtypes"
   ]
  },
  {
   "cell_type": "markdown",
   "metadata": {
    "id": "vQTacb1xdCAK"
   },
   "source": [
    "To find the maximum number of Die based on age group"
   ]
  },
  {
   "cell_type": "code",
   "execution_count": null,
   "metadata": {
    "colab": {
     "base_uri": "https://localhost:8080/",
     "height": 35
    },
    "id": "TVtOgxDc_TFE",
    "outputId": "9eb2dbfb-2608-42e9-a72c-b1f2d9582f97"
   },
   "outputs": [
    {
     "name": "stdout",
     "output_type": "stream",
     "text": [
      "129\n"
     ]
    }
   ],
   "source": [
    "data3_status = data3_status[\"Died\"]\n",
    "maxDie = data3_status.max()\n",
    "print(maxDie)\n"
   ]
  },
  {
   "cell_type": "markdown",
   "metadata": {
    "id": "xq5R2ypWdKaR"
   },
   "source": [
    "Plotting a graph for Died percentage based on age group"
   ]
  },
  {
   "cell_type": "code",
   "execution_count": null,
   "metadata": {
    "colab": {
     "base_uri": "https://localhost:8080/",
     "height": 331
    },
    "id": "GsuvrgJCuoYl",
    "outputId": "47479441-6c46-4bd0-cf47-f277d74df6d6"
   },
   "outputs": [
    {
     "data": {
      "text/plain": [
       "<matplotlib.axes._subplots.AxesSubplot at 0x7fb63fdc7d30>"
      ]
     },
     "execution_count": 62,
     "metadata": {
      "tags": []
     },
     "output_type": "execute_result"
    },
    {
     "data": {
      "image/png": "[encoded data removed]",
      "text/plain": [
       "<Figure size 432x288 with 1 Axes>"
      ]
     },
     "metadata": {
      "needs_background": "light",
      "tags": []
     },
     "output_type": "display_data"
    }
   ],
   "source": [
    "data3_status.plot.bar(y='Died_percent')"
   ]
  },
  {
   "cell_type": "markdown",
   "metadata": {
    "id": "LjcsBgz0_bVH"
   },
   "source": [
    "#Which province in the Philippine has led to the increased number of cases in the Philippine?"
   ]
  },
  {
   "cell_type": "markdown",
   "metadata": {
    "id": "4v62xXu6dge9"
   },
   "source": [
    "Select case_id and province column to do the analysis and put it into a new data frame. \n",
    "Drop rows that contain Nan values inside the data frame.\n",
    "Count the number of cases according to the province\n",
    "Drop column case_id.\n",
    "Drop duplicates values "
   ]
  },
  {
   "cell_type": "code",
   "execution_count": null,
   "metadata": {
    "colab": {
     "base_uri": "https://localhost:8080/",
     "height": 415
    },
    "id": "0jwLkJ3-wbvq",
    "outputId": "7fd400e1-c0a0-4c6c-aa97-ba35d95fdaa0"
   },
   "outputs": [
    {
     "data": {
      "text/html": [
       "<div>\n",
       "<style scoped>\n",
       "    .dataframe tbody tr th:only-of-type {\n",
       "        vertical-align: middle;\n",
       "    }\n",
       "\n",
       "    .dataframe tbody tr th {\n",
       "        vertical-align: top;\n",
       "    }\n",
       "\n",
       "    .dataframe thead th {\n",
       "        text-align: right;\n",
       "    }\n",
       "</style>\n",
       "<table border=\"1\" class=\"dataframe\">\n",
       "  <thead>\n",
       "    <tr style=\"text-align: right;\">\n",
       "      <th></th>\n",
       "      <th>province</th>\n",
       "      <th>count</th>\n",
       "    </tr>\n",
       "  </thead>\n",
       "  <tbody>\n",
       "    <tr>\n",
       "      <th>0</th>\n",
       "      <td>Negros Oriental</td>\n",
       "      <td>7</td>\n",
       "    </tr>\n",
       "    <tr>\n",
       "      <th>2</th>\n",
       "      <td>Bohol</td>\n",
       "      <td>1</td>\n",
       "    </tr>\n",
       "    <tr>\n",
       "      <th>3</th>\n",
       "      <td>Metropolitan Manila</td>\n",
       "      <td>6873</td>\n",
       "    </tr>\n",
       "    <tr>\n",
       "      <th>4</th>\n",
       "      <td>Rizal</td>\n",
       "      <td>417</td>\n",
       "    </tr>\n",
       "    <tr>\n",
       "      <th>12</th>\n",
       "      <td>Bulacan</td>\n",
       "      <td>141</td>\n",
       "    </tr>\n",
       "    <tr>\n",
       "      <th>...</th>\n",
       "      <td>...</td>\n",
       "      <td>...</td>\n",
       "    </tr>\n",
       "    <tr>\n",
       "      <th>7038</th>\n",
       "      <td>Ifugao</td>\n",
       "      <td>2</td>\n",
       "    </tr>\n",
       "    <tr>\n",
       "      <th>8321</th>\n",
       "      <td>Sulu</td>\n",
       "      <td>1</td>\n",
       "    </tr>\n",
       "    <tr>\n",
       "      <th>8783</th>\n",
       "      <td>Guimaras</td>\n",
       "      <td>2</td>\n",
       "    </tr>\n",
       "    <tr>\n",
       "      <th>9289</th>\n",
       "      <td>Davao Occidental</td>\n",
       "      <td>1</td>\n",
       "    </tr>\n",
       "    <tr>\n",
       "      <th>10369</th>\n",
       "      <td>Camarines Norte</td>\n",
       "      <td>1</td>\n",
       "    </tr>\n",
       "  </tbody>\n",
       "</table>\n",
       "<p>61 rows × 2 columns</p>\n",
       "</div>"
      ],
      "text/plain": [
       "                  province  count\n",
       "0          Negros Oriental      7\n",
       "2                    Bohol      1\n",
       "3      Metropolitan Manila   6873\n",
       "4                    Rizal    417\n",
       "12                 Bulacan    141\n",
       "...                    ...    ...\n",
       "7038                Ifugao      2\n",
       "8321                  Sulu      1\n",
       "8783              Guimaras      2\n",
       "9289      Davao Occidental      1\n",
       "10369      Camarines Norte      1\n",
       "\n",
       "[61 rows x 2 columns]"
      ]
     },
     "execution_count": 82,
     "metadata": {
      "tags": []
     },
     "output_type": "execute_result"
    }
   ],
   "source": [
    "data5 = df[[\"case_id\", \"province\"]]\n",
    "data5 = data5.dropna()\n",
    "data5 = data5.reset_index(drop=True)\n",
    "data5['count'] = data5.groupby(\"province\").transform('count')\n",
    "data5.drop('case_id', inplace=True, axis=1)\n",
    "data5 = data5.drop_duplicates()\n",
    "data5"
   ]
  },
  {
   "cell_type": "markdown",
   "metadata": {
    "id": "X426v2R9fWpm"
   },
   "source": [
    "Find province that has the highest case of Covid-19"
   ]
  },
  {
   "cell_type": "code",
   "execution_count": null,
   "metadata": {
    "colab": {
     "base_uri": "https://localhost:8080/",
     "height": 69
    },
    "id": "XvrSGWN7-6Nn",
    "outputId": "ea406e62-44af-4263-902b-6bd28a34ad8a"
   },
   "outputs": [
    {
     "data": {
      "text/plain": [
       "province    Zamboanga del Sur\n",
       "count                    6873\n",
       "dtype: object"
      ]
     },
     "execution_count": 83,
     "metadata": {
      "tags": []
     },
     "output_type": "execute_result"
    }
   ],
   "source": [
    "promax = data5.max()\n",
    "promax"
   ]
  },
  {
   "cell_type": "markdown",
   "metadata": {
    "id": "HvVeT3rsfe05"
   },
   "source": [
    "Find province that has the lowest case of Covid-19"
   ]
  },
  {
   "cell_type": "code",
   "execution_count": null,
   "metadata": {
    "colab": {
     "base_uri": "https://localhost:8080/",
     "height": 69
    },
    "id": "sa7PBlOr_L8m",
    "outputId": "2deadca8-6b52-4ef7-feaa-1620f6872586"
   },
   "outputs": [
    {
     "data": {
      "text/plain": [
       "province    Abra\n",
       "count          1\n",
       "dtype: object"
      ]
     },
     "execution_count": 84,
     "metadata": {
      "tags": []
     },
     "output_type": "execute_result"
    }
   ],
   "source": [
    "promin = data5.min()\n",
    "promin"
   ]
  }
 ],
 "metadata": {
  "colab": {
   "collapsed_sections": [],
   "name": "Philippines_COVID_19.ipynb",
   "provenance": []
  },
  "kernelspec": {
   "display_name": "Python 3",
   "language": "python",
   "name": "python3"
  },
  "language_info": {
   "codemirror_mode": {
    "name": "ipython",
    "version": 3
   },
   "file_extension": ".py",
   "mimetype": "text/x-python",
   "name": "python",
   "nbconvert_exporter": "python",
   "pygments_lexer": "ipython3",
   "version": "3.8.3"
  }
 },
 "nbformat": 4,
 "nbformat_minor": 1
}
